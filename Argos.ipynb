{
 "cells": [
  {
   "cell_type": "markdown",
   "id": "conceptual-arbitration",
   "metadata": {},
   "source": [
    "# Argos Capstone Project"
   ]
  },
  {
   "cell_type": "markdown",
   "id": "29c495c6-1e21-4ee4-a223-312425fc082d",
   "metadata": {},
   "source": [
    "## **First Workbook**\n",
    "> ### *\"RMX_Accounts_invoice\"*"
   ]
  },
  {
   "cell_type": "markdown",
   "id": "75664973-1186-4f58-9691-ba7290f44a50",
   "metadata": {},
   "source": [
    "##### Set working directory and import libraries"
   ]
  },
  {
   "cell_type": "code",
   "execution_count": 1,
   "id": "1af37593-9727-452b-a4b0-b894892e3492",
   "metadata": {},
   "outputs": [],
   "source": [
    "import os\n",
    "os.getcwd()\n",
    "os.chdir('/Users/brandonmorgeson/Desktop/Capstone')"
   ]
  },
  {
   "cell_type": "code",
   "execution_count": 2,
   "id": "sophisticated-master",
   "metadata": {},
   "outputs": [],
   "source": [
    "import numpy as np \n",
    "import pandas as pd \n",
    "import openpyxl as op"
   ]
  },
  {
   "cell_type": "markdown",
   "id": "630b5d2f-8650-439a-91c6-bce85ca6798c",
   "metadata": {
    "tags": []
   },
   "source": [
    "### Map Excel Workbook"
   ]
  },
  {
   "cell_type": "code",
   "execution_count": 3,
   "id": "a56479f9-076d-418f-9127-a71f01a0a0a7",
   "metadata": {
    "tags": []
   },
   "outputs": [],
   "source": [
    "xlsx = pd.ExcelFile('RMX_Accounts_invoice - AK.xlsx')"
   ]
  },
  {
   "cell_type": "markdown",
   "id": "a95def43-9e71-40f8-aa5c-e516df7f4136",
   "metadata": {},
   "source": [
    "#### Get Excel Worksheet Names"
   ]
  },
  {
   "cell_type": "code",
   "execution_count": 4,
   "id": "41f04f11-af05-4d4c-b500-a8979193d3ad",
   "metadata": {
    "tags": []
   },
   "outputs": [],
   "source": [
    "sheet_names = xlsx.sheet_names"
   ]
  },
  {
   "cell_type": "code",
   "execution_count": 5,
   "id": "f3a39321-602f-4ad5-a5c4-47649be57081",
   "metadata": {},
   "outputs": [
    {
     "data": {
      "text/plain": [
       "['RMX_Accounts_invoice',\n",
       " 'RMX_Accounts_invoice - AK',\n",
       " 'Payer Division',\n",
       " 'Payer Top State',\n",
       " 'Payer Type',\n",
       " 'Sub-Segment']"
      ]
     },
     "execution_count": 5,
     "metadata": {},
     "output_type": "execute_result"
    }
   ],
   "source": [
    "sheet_names"
   ]
  },
  {
   "cell_type": "code",
   "execution_count": 6,
   "id": "f8c68dad-40b8-4f51-af4d-9bd364e44577",
   "metadata": {},
   "outputs": [
    {
     "data": {
      "text/plain": [
       "6"
      ]
     },
     "execution_count": 6,
     "metadata": {},
     "output_type": "execute_result"
    }
   ],
   "source": [
    "len(sheet_names)"
   ]
  },
  {
   "cell_type": "markdown",
   "id": "50f861d1-bfd1-4bdf-bc54-b16220c78dc2",
   "metadata": {},
   "source": [
    "### Create dataframe for worksheet"
   ]
  },
  {
   "cell_type": "markdown",
   "id": "c92b3f6b-2aad-40ef-8ff4-fb9e85af6c55",
   "metadata": {},
   "source": [
    "##### *Worksheet 1 \"RMX_Accounts_invoice\"*"
   ]
  },
  {
   "cell_type": "code",
   "execution_count": 7,
   "id": "580e68ff-81f5-4b41-b50a-c807ab0488d7",
   "metadata": {},
   "outputs": [],
   "source": [
    "df = pd.read_excel(xlsx, sheet_names[0])"
   ]
  },
  {
   "cell_type": "markdown",
   "id": "d765f4ef-0e65-429a-957f-f5c5f69e06b0",
   "metadata": {},
   "source": [
    "##### *Worksheet 2 \"RMX_Accounts_invoice - AK\"*"
   ]
  },
  {
   "cell_type": "code",
   "execution_count": 8,
   "id": "eac6666d-ccc1-40ed-b0ea-4a04b81e748b",
   "metadata": {
    "tags": []
   },
   "outputs": [],
   "source": [
    "df1 = pd.read_excel(xlsx, sheet_names[1])"
   ]
  },
  {
   "cell_type": "markdown",
   "id": "84f99832-833e-4bdb-8a6d-26408590486e",
   "metadata": {},
   "source": [
    "##### *Worksheet 3 \"Payer Divison\"*"
   ]
  },
  {
   "cell_type": "code",
   "execution_count": 9,
   "id": "b8753f2c-4ca4-4271-93ca-59eaac696392",
   "metadata": {},
   "outputs": [],
   "source": [
    "df2 = pd.read_excel(xlsx, sheet_names[2])"
   ]
  },
  {
   "cell_type": "markdown",
   "id": "75e777de-9dc5-4ee4-ab56-42e9f3cb89d6",
   "metadata": {},
   "source": [
    "##### *Worksheet 4 \"Payer Top State\"*"
   ]
  },
  {
   "cell_type": "code",
   "execution_count": 10,
   "id": "c5b3feca-011b-4702-bbac-41fc197fe383",
   "metadata": {},
   "outputs": [],
   "source": [
    "df3 = pd.read_excel(xlsx, sheet_names[3])"
   ]
  },
  {
   "cell_type": "markdown",
   "id": "c5fc91a7-a341-41af-986d-225975acf4a8",
   "metadata": {},
   "source": [
    "##### *Worksheet 5 \"Payer Type\"*"
   ]
  },
  {
   "cell_type": "code",
   "execution_count": 11,
   "id": "16bec7d5-8ee2-4861-b7fd-70fdd876e7c1",
   "metadata": {},
   "outputs": [],
   "source": [
    "df4 = pd.read_excel(xlsx, sheet_names[4])"
   ]
  },
  {
   "cell_type": "markdown",
   "id": "04a0bd7a-ac43-4a5f-859d-15ecfb9e5ecf",
   "metadata": {},
   "source": [
    "##### *Worksheet 6 \"Sub-Segment\"*"
   ]
  },
  {
   "cell_type": "code",
   "execution_count": 12,
   "id": "e28a3836-7ab3-4fdc-a150-28c5d0e3139d",
   "metadata": {},
   "outputs": [],
   "source": [
    "df5 = pd.read_excel(xlsx, sheet_names[5])"
   ]
  },
  {
   "cell_type": "markdown",
   "id": "fdc22456-acde-40df-9d9c-01f855db5f21",
   "metadata": {},
   "source": [
    "### Inspect Data"
   ]
  },
  {
   "cell_type": "markdown",
   "id": "de779611-7589-4d81-a836-8ac473a2a2b9",
   "metadata": {},
   "source": [
    "##### Worksheet 1"
   ]
  },
  {
   "cell_type": "code",
   "execution_count": 13,
   "id": "9f871f29-6f9b-496e-b63a-1ff43967086a",
   "metadata": {},
   "outputs": [
    {
     "name": "stdout",
     "output_type": "stream",
     "text": [
      "<class 'pandas.core.frame.DataFrame'>\n",
      "RangeIndex: 477645 entries, 0 to 477644\n",
      "Data columns (total 10 columns):\n",
      " #   Column                        Non-Null Count   Dtype  \n",
      "---  ------                        --------------   -----  \n",
      " 0   Payer_Type                    477645 non-null  object \n",
      " 1   Payer_District_Division       477420 non-null  object \n",
      " 2   Payer_Channel                 477645 non-null  object \n",
      " 3   Payer_Sales_Group_Sub_Market  477645 non-null  object \n",
      " 4   Invoice_Number                445619 non-null  object \n",
      " 5   Payer_State_Province          445619 non-null  object \n",
      " 6   Payer_RMX_Sub_Segment         273441 non-null  object \n",
      " 7   Payer_RMX_Segment             273441 non-null  object \n",
      " 8   Payer_SAP_Status              415902 non-null  object \n",
      " 9   Payer_SAP_Code                415902 non-null  float64\n",
      "dtypes: float64(1), object(9)\n",
      "memory usage: 36.4+ MB\n"
     ]
    }
   ],
   "source": [
    "df.info()"
   ]
  },
  {
   "cell_type": "code",
   "execution_count": 24,
   "id": "d8234819-4b19-4d0b-8dbe-4b1882fc1b58",
   "metadata": {},
   "outputs": [
    {
     "data": {
      "text/html": [
       "<div>\n",
       "<style scoped>\n",
       "    .dataframe tbody tr th:only-of-type {\n",
       "        vertical-align: middle;\n",
       "    }\n",
       "\n",
       "    .dataframe tbody tr th {\n",
       "        vertical-align: top;\n",
       "    }\n",
       "\n",
       "    .dataframe thead th {\n",
       "        text-align: right;\n",
       "    }\n",
       "</style>\n",
       "<table border=\"1\" class=\"dataframe\">\n",
       "  <thead>\n",
       "    <tr style=\"text-align: right;\">\n",
       "      <th></th>\n",
       "      <th>Payer_SAP_Code</th>\n",
       "    </tr>\n",
       "  </thead>\n",
       "  <tbody>\n",
       "    <tr>\n",
       "      <th>count</th>\n",
       "      <td>415902.000000</td>\n",
       "    </tr>\n",
       "    <tr>\n",
       "      <th>mean</th>\n",
       "      <td>36349.950597</td>\n",
       "    </tr>\n",
       "    <tr>\n",
       "      <th>std</th>\n",
       "      <td>32394.950842</td>\n",
       "    </tr>\n",
       "    <tr>\n",
       "      <th>min</th>\n",
       "      <td>951.000000</td>\n",
       "    </tr>\n",
       "    <tr>\n",
       "      <th>25%</th>\n",
       "      <td>14675.000000</td>\n",
       "    </tr>\n",
       "    <tr>\n",
       "      <th>50%</th>\n",
       "      <td>20026.000000</td>\n",
       "    </tr>\n",
       "    <tr>\n",
       "      <th>75%</th>\n",
       "      <td>45079.000000</td>\n",
       "    </tr>\n",
       "    <tr>\n",
       "      <th>max</th>\n",
       "      <td>134154.000000</td>\n",
       "    </tr>\n",
       "  </tbody>\n",
       "</table>\n",
       "</div>"
      ],
      "text/plain": [
       "       Payer_SAP_Code\n",
       "count   415902.000000\n",
       "mean     36349.950597\n",
       "std      32394.950842\n",
       "min        951.000000\n",
       "25%      14675.000000\n",
       "50%      20026.000000\n",
       "75%      45079.000000\n",
       "max     134154.000000"
      ]
     },
     "execution_count": 24,
     "metadata": {},
     "output_type": "execute_result"
    }
   ],
   "source": [
    "df.describe()"
   ]
  },
  {
   "cell_type": "code",
   "execution_count": 15,
   "id": "57bab40d-03f1-4944-9d87-7fbec651ff51",
   "metadata": {},
   "outputs": [
    {
     "data": {
      "text/html": [
       "<div>\n",
       "<style scoped>\n",
       "    .dataframe tbody tr th:only-of-type {\n",
       "        vertical-align: middle;\n",
       "    }\n",
       "\n",
       "    .dataframe tbody tr th {\n",
       "        vertical-align: top;\n",
       "    }\n",
       "\n",
       "    .dataframe thead th {\n",
       "        text-align: right;\n",
       "    }\n",
       "</style>\n",
       "<table border=\"1\" class=\"dataframe\">\n",
       "  <thead>\n",
       "    <tr style=\"text-align: right;\">\n",
       "      <th></th>\n",
       "      <th>Payer_Type</th>\n",
       "      <th>Payer_District_Division</th>\n",
       "      <th>Payer_Channel</th>\n",
       "      <th>Payer_Sales_Group_Sub_Market</th>\n",
       "      <th>Invoice_Number</th>\n",
       "      <th>Payer_State_Province</th>\n",
       "      <th>Payer_RMX_Sub_Segment</th>\n",
       "      <th>Payer_RMX_Segment</th>\n",
       "      <th>Payer_SAP_Status</th>\n",
       "      <th>Payer_SAP_Code</th>\n",
       "    </tr>\n",
       "  </thead>\n",
       "  <tbody>\n",
       "    <tr>\n",
       "      <th>0</th>\n",
       "      <td>Customer</td>\n",
       "      <td>Jacksonville divisio</td>\n",
       "      <td>U2-Non-Residential Bldg</td>\n",
       "      <td>U18-Jacksonville divisio</td>\n",
       "      <td>92676710</td>\n",
       "      <td>FL</td>\n",
       "      <td>Other Commercial</td>\n",
       "      <td>Commercial</td>\n",
       "      <td>Active</td>\n",
       "      <td>113496.0</td>\n",
       "    </tr>\n",
       "    <tr>\n",
       "      <th>1</th>\n",
       "      <td>Customer</td>\n",
       "      <td>Jacksonville divisio</td>\n",
       "      <td>U2-Non-Residential Bldg</td>\n",
       "      <td>U18-Jacksonville divisio</td>\n",
       "      <td>92380768</td>\n",
       "      <td>FL</td>\n",
       "      <td>Other Commercial</td>\n",
       "      <td>Commercial</td>\n",
       "      <td>Active</td>\n",
       "      <td>113496.0</td>\n",
       "    </tr>\n",
       "    <tr>\n",
       "      <th>2</th>\n",
       "      <td>Customer</td>\n",
       "      <td>Jacksonville divisio</td>\n",
       "      <td>U2-Non-Residential Bldg</td>\n",
       "      <td>U18-Jacksonville divisio</td>\n",
       "      <td>92286652</td>\n",
       "      <td>FL</td>\n",
       "      <td>Other Commercial</td>\n",
       "      <td>Commercial</td>\n",
       "      <td>Active</td>\n",
       "      <td>113496.0</td>\n",
       "    </tr>\n",
       "    <tr>\n",
       "      <th>3</th>\n",
       "      <td>Customer</td>\n",
       "      <td>Dallas</td>\n",
       "      <td>U1-Residential Bldg</td>\n",
       "      <td>U16-Dallas</td>\n",
       "      <td>92180098</td>\n",
       "      <td>TX</td>\n",
       "      <td>NaN</td>\n",
       "      <td>NaN</td>\n",
       "      <td>Active</td>\n",
       "      <td>105611.0</td>\n",
       "    </tr>\n",
       "    <tr>\n",
       "      <th>4</th>\n",
       "      <td>Customer</td>\n",
       "      <td>Atlanta</td>\n",
       "      <td>U1-Residential Bldg</td>\n",
       "      <td>U10-Atlanta</td>\n",
       "      <td>92810234</td>\n",
       "      <td>GA</td>\n",
       "      <td>Single Family</td>\n",
       "      <td>Residential</td>\n",
       "      <td>Active</td>\n",
       "      <td>9004.0</td>\n",
       "    </tr>\n",
       "  </tbody>\n",
       "</table>\n",
       "</div>"
      ],
      "text/plain": [
       "  Payer_Type Payer_District_Division            Payer_Channel  \\\n",
       "0   Customer    Jacksonville divisio  U2-Non-Residential Bldg   \n",
       "1   Customer    Jacksonville divisio  U2-Non-Residential Bldg   \n",
       "2   Customer    Jacksonville divisio  U2-Non-Residential Bldg   \n",
       "3   Customer                  Dallas      U1-Residential Bldg   \n",
       "4   Customer                 Atlanta      U1-Residential Bldg   \n",
       "\n",
       "  Payer_Sales_Group_Sub_Market Invoice_Number Payer_State_Province  \\\n",
       "0     U18-Jacksonville divisio       92676710                   FL   \n",
       "1     U18-Jacksonville divisio       92380768                   FL   \n",
       "2     U18-Jacksonville divisio       92286652                   FL   \n",
       "3                   U16-Dallas       92180098                   TX   \n",
       "4                  U10-Atlanta       92810234                   GA   \n",
       "\n",
       "  Payer_RMX_Sub_Segment Payer_RMX_Segment Payer_SAP_Status  Payer_SAP_Code  \n",
       "0      Other Commercial        Commercial           Active        113496.0  \n",
       "1      Other Commercial        Commercial           Active        113496.0  \n",
       "2      Other Commercial        Commercial           Active        113496.0  \n",
       "3                   NaN               NaN           Active        105611.0  \n",
       "4         Single Family       Residential           Active          9004.0  "
      ]
     },
     "execution_count": 15,
     "metadata": {},
     "output_type": "execute_result"
    }
   ],
   "source": [
    "df.head()"
   ]
  },
  {
   "cell_type": "code",
   "execution_count": 91,
   "id": "0dfbad4c-5fa9-4eff-8294-617091b588c0",
   "metadata": {},
   "outputs": [
    {
     "data": {
      "text/plain": [
       "GA             140366\n",
       "FL             136729\n",
       "NC              61508\n",
       "TX              41320\n",
       "Residential     19582\n",
       "SC              13711\n",
       "Name: Payer_State_Province, dtype: int64"
      ]
     },
     "execution_count": 91,
     "metadata": {},
     "output_type": "execute_result"
    }
   ],
   "source": [
    "df[\"Payer_State_Province\"].value_counts().head(6)"
   ]
  },
  {
   "cell_type": "markdown",
   "id": "b644735a-dc88-4342-a1a2-35f3ee60f9c0",
   "metadata": {},
   "source": [
    "#### Count missing values in each column"
   ]
  },
  {
   "cell_type": "code",
   "execution_count": null,
   "id": "d5824f57-56c8-464b-8b76-6769586157a9",
   "metadata": {},
   "outputs": [],
   "source": [
    "#column_names = list(df.columns)\n",
    "#for column in range(0,len(column_names)):\n",
    "#    print(df[column_names[column]].isna().value_counts())"
   ]
  },
  {
   "cell_type": "code",
   "execution_count": 86,
   "id": "8c266bfb-f8f9-4ee4-9e7e-f644e4a58943",
   "metadata": {},
   "outputs": [
    {
     "data": {
      "text/plain": [
       "{'Payer_Type': 0,\n",
       " 'Payer_District_Division': 225,\n",
       " 'Payer_Channel': 0,\n",
       " 'Payer_Sales_Group_Sub_Market': 0,\n",
       " 'Invoice_Number': 32026,\n",
       " 'Payer_State_Province': 32026,\n",
       " 'Payer_RMX_Sub_Segment': 204204,\n",
       " 'Payer_RMX_Segment': 204204,\n",
       " 'Payer_SAP_Status': 61743,\n",
       " 'Payer_SAP_Code': 61743}"
      ]
     },
     "execution_count": 86,
     "metadata": {},
     "output_type": "execute_result"
    }
   ],
   "source": [
    "df.isna().sum().to_dict()"
   ]
  },
  {
   "cell_type": "markdown",
   "id": "162f2ab7-fc3d-446a-8c59-24d22c04b415",
   "metadata": {},
   "source": [
    "##### Worksheet 2"
   ]
  },
  {
   "cell_type": "code",
   "execution_count": 16,
   "id": "29176a74-fbff-4f7c-9399-a4450a414f54",
   "metadata": {},
   "outputs": [
    {
     "name": "stdout",
     "output_type": "stream",
     "text": [
      "<class 'pandas.core.frame.DataFrame'>\n",
      "RangeIndex: 477645 entries, 0 to 477644\n",
      "Data columns (total 10 columns):\n",
      " #   Column                        Non-Null Count   Dtype  \n",
      "---  ------                        --------------   -----  \n",
      " 0   Payer_Type                    477645 non-null  object \n",
      " 1   Payer_District_Division       477420 non-null  object \n",
      " 2   Payer_Channel                 477645 non-null  object \n",
      " 3   Payer_Sales_Group_Sub_Market  477645 non-null  object \n",
      " 4   Invoice_Number                445619 non-null  object \n",
      " 5   Payer_State_Province          445619 non-null  object \n",
      " 6   Payer_RMX_Sub_Segment         273441 non-null  object \n",
      " 7   Payer_RMX_Segment             273441 non-null  object \n",
      " 8   Payer_SAP_Status              415902 non-null  object \n",
      " 9   Payer_SAP_Code                415902 non-null  float64\n",
      "dtypes: float64(1), object(9)\n",
      "memory usage: 36.4+ MB\n"
     ]
    }
   ],
   "source": [
    "df1.info()"
   ]
  },
  {
   "cell_type": "code",
   "execution_count": 17,
   "id": "59cbf3e1-3b9d-4152-a3ec-0134ca5c3ba6",
   "metadata": {
    "tags": []
   },
   "outputs": [
    {
     "data": {
      "text/html": [
       "<div>\n",
       "<style scoped>\n",
       "    .dataframe tbody tr th:only-of-type {\n",
       "        vertical-align: middle;\n",
       "    }\n",
       "\n",
       "    .dataframe tbody tr th {\n",
       "        vertical-align: top;\n",
       "    }\n",
       "\n",
       "    .dataframe thead th {\n",
       "        text-align: right;\n",
       "    }\n",
       "</style>\n",
       "<table border=\"1\" class=\"dataframe\">\n",
       "  <thead>\n",
       "    <tr style=\"text-align: right;\">\n",
       "      <th></th>\n",
       "      <th>Payer_SAP_Code</th>\n",
       "    </tr>\n",
       "  </thead>\n",
       "  <tbody>\n",
       "    <tr>\n",
       "      <th>count</th>\n",
       "      <td>415902.000000</td>\n",
       "    </tr>\n",
       "    <tr>\n",
       "      <th>mean</th>\n",
       "      <td>36349.950597</td>\n",
       "    </tr>\n",
       "    <tr>\n",
       "      <th>std</th>\n",
       "      <td>32394.950842</td>\n",
       "    </tr>\n",
       "    <tr>\n",
       "      <th>min</th>\n",
       "      <td>951.000000</td>\n",
       "    </tr>\n",
       "    <tr>\n",
       "      <th>25%</th>\n",
       "      <td>14675.000000</td>\n",
       "    </tr>\n",
       "    <tr>\n",
       "      <th>50%</th>\n",
       "      <td>20026.000000</td>\n",
       "    </tr>\n",
       "    <tr>\n",
       "      <th>75%</th>\n",
       "      <td>45079.000000</td>\n",
       "    </tr>\n",
       "    <tr>\n",
       "      <th>max</th>\n",
       "      <td>134154.000000</td>\n",
       "    </tr>\n",
       "  </tbody>\n",
       "</table>\n",
       "</div>"
      ],
      "text/plain": [
       "       Payer_SAP_Code\n",
       "count   415902.000000\n",
       "mean     36349.950597\n",
       "std      32394.950842\n",
       "min        951.000000\n",
       "25%      14675.000000\n",
       "50%      20026.000000\n",
       "75%      45079.000000\n",
       "max     134154.000000"
      ]
     },
     "execution_count": 17,
     "metadata": {},
     "output_type": "execute_result"
    }
   ],
   "source": [
    "df1.describe()"
   ]
  },
  {
   "cell_type": "code",
   "execution_count": 92,
   "id": "2fc59d0b-f1dd-4540-b516-f9883c20dcdb",
   "metadata": {},
   "outputs": [
    {
     "data": {
      "text/plain": [
       "{'Payer_Type': 0,\n",
       " 'Payer_District_Division': 225,\n",
       " 'Payer_Channel': 0,\n",
       " 'Payer_Sales_Group_Sub_Market': 0,\n",
       " 'Invoice_Number': 32026,\n",
       " 'Payer_State_Province': 32026,\n",
       " 'Payer_RMX_Sub_Segment': 204204,\n",
       " 'Payer_RMX_Segment': 204204,\n",
       " 'Payer_SAP_Status': 61743,\n",
       " 'Payer_SAP_Code': 61743}"
      ]
     },
     "execution_count": 92,
     "metadata": {},
     "output_type": "execute_result"
    }
   ],
   "source": [
    "df1.isna().sum().to_dict()"
   ]
  },
  {
   "cell_type": "markdown",
   "id": "3b9de1fd-385c-4eff-b23f-27ea941758b5",
   "metadata": {},
   "source": [
    "##### It looks like worksheet 1 & 2 are the exact same"
   ]
  },
  {
   "cell_type": "markdown",
   "id": "f0026b20-0826-41f1-9fd7-35634eab6ca3",
   "metadata": {},
   "source": [
    "##### Worksheet 3"
   ]
  },
  {
   "cell_type": "code",
   "execution_count": 18,
   "id": "349a9742-0375-40fe-b9b9-2e675845a79f",
   "metadata": {},
   "outputs": [
    {
     "data": {
      "text/html": [
       "<div>\n",
       "<style scoped>\n",
       "    .dataframe tbody tr th:only-of-type {\n",
       "        vertical-align: middle;\n",
       "    }\n",
       "\n",
       "    .dataframe tbody tr th {\n",
       "        vertical-align: top;\n",
       "    }\n",
       "\n",
       "    .dataframe thead th {\n",
       "        text-align: right;\n",
       "    }\n",
       "</style>\n",
       "<table border=\"1\" class=\"dataframe\">\n",
       "  <thead>\n",
       "    <tr style=\"text-align: right;\">\n",
       "      <th></th>\n",
       "      <th>Row Labels</th>\n",
       "      <th>Count of Payer_District_Division</th>\n",
       "    </tr>\n",
       "  </thead>\n",
       "  <tbody>\n",
       "    <tr>\n",
       "      <th>0</th>\n",
       "      <td>Atlanta</td>\n",
       "      <td>84830</td>\n",
       "    </tr>\n",
       "    <tr>\n",
       "      <th>1</th>\n",
       "      <td>Jacksonville divisio</td>\n",
       "      <td>47576</td>\n",
       "    </tr>\n",
       "    <tr>\n",
       "      <th>2</th>\n",
       "      <td>Tampa division</td>\n",
       "      <td>40208</td>\n",
       "    </tr>\n",
       "    <tr>\n",
       "      <th>3</th>\n",
       "      <td>Sarasota Ft Myers Di</td>\n",
       "      <td>34409</td>\n",
       "    </tr>\n",
       "    <tr>\n",
       "      <th>4</th>\n",
       "      <td>East NC</td>\n",
       "      <td>34082</td>\n",
       "    </tr>\n",
       "  </tbody>\n",
       "</table>\n",
       "</div>"
      ],
      "text/plain": [
       "             Row Labels  Count of Payer_District_Division\n",
       "0               Atlanta                             84830\n",
       "1  Jacksonville divisio                             47576\n",
       "2        Tampa division                             40208\n",
       "3  Sarasota Ft Myers Di                             34409\n",
       "4               East NC                             34082"
      ]
     },
     "execution_count": 18,
     "metadata": {},
     "output_type": "execute_result"
    }
   ],
   "source": [
    "df2.head()"
   ]
  },
  {
   "cell_type": "markdown",
   "id": "4ff94274-6f22-4595-bfd2-5ec8e14fd840",
   "metadata": {},
   "source": [
    "##### Worksheet 4"
   ]
  },
  {
   "cell_type": "code",
   "execution_count": 20,
   "id": "0ea139f4-db2a-4acb-9fb7-8525e40536b4",
   "metadata": {},
   "outputs": [
    {
     "data": {
      "text/html": [
       "<div>\n",
       "<style scoped>\n",
       "    .dataframe tbody tr th:only-of-type {\n",
       "        vertical-align: middle;\n",
       "    }\n",
       "\n",
       "    .dataframe tbody tr th {\n",
       "        vertical-align: top;\n",
       "    }\n",
       "\n",
       "    .dataframe thead th {\n",
       "        text-align: right;\n",
       "    }\n",
       "</style>\n",
       "<table border=\"1\" class=\"dataframe\">\n",
       "  <thead>\n",
       "    <tr style=\"text-align: right;\">\n",
       "      <th></th>\n",
       "      <th>Row Labels</th>\n",
       "      <th>Count of Payer_State_Province</th>\n",
       "    </tr>\n",
       "  </thead>\n",
       "  <tbody>\n",
       "    <tr>\n",
       "      <th>0</th>\n",
       "      <td>GA</td>\n",
       "      <td>140366</td>\n",
       "    </tr>\n",
       "    <tr>\n",
       "      <th>1</th>\n",
       "      <td>FL</td>\n",
       "      <td>136729</td>\n",
       "    </tr>\n",
       "    <tr>\n",
       "      <th>2</th>\n",
       "      <td>NC</td>\n",
       "      <td>61508</td>\n",
       "    </tr>\n",
       "    <tr>\n",
       "      <th>3</th>\n",
       "      <td>TX</td>\n",
       "      <td>41320</td>\n",
       "    </tr>\n",
       "    <tr>\n",
       "      <th>4</th>\n",
       "      <td>NaN</td>\n",
       "      <td>32026</td>\n",
       "    </tr>\n",
       "    <tr>\n",
       "      <th>5</th>\n",
       "      <td>Residential</td>\n",
       "      <td>19582</td>\n",
       "    </tr>\n",
       "    <tr>\n",
       "      <th>6</th>\n",
       "      <td>SC</td>\n",
       "      <td>13711</td>\n",
       "    </tr>\n",
       "    <tr>\n",
       "      <th>7</th>\n",
       "      <td>Commercial</td>\n",
       "      <td>8840</td>\n",
       "    </tr>\n",
       "    <tr>\n",
       "      <th>8</th>\n",
       "      <td>AL</td>\n",
       "      <td>7309</td>\n",
       "    </tr>\n",
       "    <tr>\n",
       "      <th>9</th>\n",
       "      <td>MO</td>\n",
       "      <td>2791</td>\n",
       "    </tr>\n",
       "  </tbody>\n",
       "</table>\n",
       "</div>"
      ],
      "text/plain": [
       "    Row Labels  Count of Payer_State_Province\n",
       "0           GA                         140366\n",
       "1           FL                         136729\n",
       "2           NC                          61508\n",
       "3           TX                          41320\n",
       "4          NaN                          32026\n",
       "5  Residential                          19582\n",
       "6           SC                          13711\n",
       "7   Commercial                           8840\n",
       "8           AL                           7309\n",
       "9           MO                           2791"
      ]
     },
     "execution_count": 20,
     "metadata": {},
     "output_type": "execute_result"
    }
   ],
   "source": [
    "df3.head(10)"
   ]
  },
  {
   "cell_type": "markdown",
   "id": "83155ba9-59f9-497c-8b84-cb57c0a9abf1",
   "metadata": {},
   "source": [
    "##### Worksheet 5"
   ]
  },
  {
   "cell_type": "code",
   "execution_count": 21,
   "id": "8bdd7f72-33bb-4a4d-bb2c-5402843f294b",
   "metadata": {},
   "outputs": [
    {
     "name": "stdout",
     "output_type": "stream",
     "text": [
      "                Row Labels  Count of Payer_Type\n",
      "0                 Customer               415902\n",
      "1  U2-Non-Residential Bldg                27977\n",
      "2      U1-Residential Bldg                23926\n",
      "3                   U4-COD                 7204\n",
      "4                 U3-Civil                 2636\n",
      "5              Grand Total               477645\n"
     ]
    }
   ],
   "source": [
    "print(df4)"
   ]
  },
  {
   "cell_type": "markdown",
   "id": "fdac3b24-f65c-489a-a09a-cb317eaa1e03",
   "metadata": {},
   "source": [
    "##### Worksheet 6"
   ]
  },
  {
   "cell_type": "code",
   "execution_count": 22,
   "id": "1dc813c3-c55e-460f-98c9-67c03cca5f89",
   "metadata": {},
   "outputs": [
    {
     "name": "stdout",
     "output_type": "stream",
     "text": [
      "              Row Labels  Count of Payer_RMX_Sub_Segment\n",
      "0                    NaN                          204204\n",
      "1          Single Family                          113827\n",
      "2       Other Commercial                           66901\n",
      "3                 Active                           57746\n",
      "4             Commercial                           15467\n",
      "5     Streets & Highways                            8828\n",
      "6               Inactive                            3997\n",
      "7           Multi-Family                            2292\n",
      "8          INSTITUCIONAL                            2056\n",
      "9     Res Maint & Repair                             924\n",
      "10  Parking Lots & Decks                             702\n",
      "11            Industrial                             337\n",
      "12      Parks & Stadiums                             184\n",
      "13                Energy                             104\n",
      "14         Water & Sewer                              39\n",
      "15          Agricultural                              20\n",
      "16  Offic & Mixed Use Bl                              11\n",
      "17       Airports & Rail                               6\n",
      "18           Grand Total                          477645\n"
     ]
    }
   ],
   "source": [
    "print(df5)"
   ]
  },
  {
   "cell_type": "markdown",
   "id": "956168f5-619b-44fe-8109-843487e5de93",
   "metadata": {},
   "source": [
    "### Worksheets 3-6 are simple pivot tables that can be done through count and group by functions"
   ]
  },
  {
   "cell_type": "markdown",
   "id": "0ebfe21a-24cd-4f7e-9217-e2357712c5f2",
   "metadata": {},
   "source": [
    "## **Second Workbook** \n",
    "> ### *\"Profiability_2021\"*"
   ]
  },
  {
   "cell_type": "markdown",
   "id": "c5233689-8d74-4de1-b2f9-630dbec33451",
   "metadata": {
    "tags": []
   },
   "source": [
    "### Map Excel Workbook"
   ]
  },
  {
   "cell_type": "code",
   "execution_count": 95,
   "id": "1bcaebe5-cab5-4024-bacb-392e64ebed1c",
   "metadata": {},
   "outputs": [],
   "source": [
    "xlsx_profit = pd.ExcelFile('Profitability_2021 - AK.xlsx')"
   ]
  },
  {
   "cell_type": "markdown",
   "id": "d074c370-9b1e-4f08-b6b3-323ba6d5fe82",
   "metadata": {},
   "source": [
    "#### Get Excel Worksheet Names"
   ]
  },
  {
   "cell_type": "code",
   "execution_count": 96,
   "id": "adc411ec-f65c-468c-b7b1-d1c01bd9a26e",
   "metadata": {
    "tags": []
   },
   "outputs": [],
   "source": [
    "sheet_names2 = xlsx_profit.sheet_names"
   ]
  },
  {
   "cell_type": "code",
   "execution_count": 97,
   "id": "e87607ec-6545-4610-9985-8beeabc4002b",
   "metadata": {},
   "outputs": [
    {
     "data": {
      "text/plain": [
       "['Profitability_2021',\n",
       " 'Profitability_2021 - AK',\n",
       " 'Top Product Line',\n",
       " 'Top Customer Location',\n",
       " 'Top Material',\n",
       " 'Pack Type',\n",
       " 'Top Plant - if relevant']"
      ]
     },
     "execution_count": 97,
     "metadata": {},
     "output_type": "execute_result"
    }
   ],
   "source": [
    "sheet_names2"
   ]
  },
  {
   "cell_type": "code",
   "execution_count": 101,
   "id": "32a10f64-c4e3-476b-8a92-f59a184cfcfb",
   "metadata": {},
   "outputs": [
    {
     "data": {
      "text/plain": [
       "7"
      ]
     },
     "execution_count": 101,
     "metadata": {},
     "output_type": "execute_result"
    }
   ],
   "source": [
    "len(sheet_names2)"
   ]
  },
  {
   "cell_type": "markdown",
   "id": "07571e1d-2930-455d-99b8-317e9a9c6454",
   "metadata": {},
   "source": [
    "### Create dataframe for each worksheet"
   ]
  },
  {
   "cell_type": "markdown",
   "id": "6ffb5b0e-8e2b-4421-963d-1381931c2431",
   "metadata": {},
   "source": [
    "##### *Worksheet 1 \"Profitability_2021\"*"
   ]
  },
  {
   "cell_type": "code",
   "execution_count": 102,
   "id": "0b9e7b41-a5ee-4db3-9183-37bed098732f",
   "metadata": {},
   "outputs": [],
   "source": [
    "df_ = pd.read_excel(xlsx_profit, sheet_names2[0])"
   ]
  },
  {
   "cell_type": "markdown",
   "id": "da580429-c106-497a-8077-c58a89ab7808",
   "metadata": {},
   "source": [
    "##### *Worksheet 2 \"Profitability_2021 - AK\"*"
   ]
  },
  {
   "cell_type": "code",
   "execution_count": 103,
   "id": "6ea9a17d-af09-4425-bdf2-2aa0802c20fa",
   "metadata": {},
   "outputs": [],
   "source": [
    "df_1 = pd.read_excel(xlsx_profit, sheet_names2[1])"
   ]
  },
  {
   "cell_type": "markdown",
   "id": "309fca1c-5a5f-4014-8772-ae0181e9a0e7",
   "metadata": {},
   "source": [
    "##### *Worksheet 3 \"Top Product Line\"*"
   ]
  },
  {
   "cell_type": "code",
   "execution_count": 104,
   "id": "18017251-64c0-4f74-a9ab-26654f380ebc",
   "metadata": {
    "tags": []
   },
   "outputs": [],
   "source": [
    "df_2 = pd.read_excel(xlsx_profit, sheet_names2[2])"
   ]
  },
  {
   "cell_type": "markdown",
   "id": "2928ac5a-ad05-4d72-82be-62f0c236936c",
   "metadata": {},
   "source": [
    "##### *Worksheet 4 \"Top Customer Location\"*"
   ]
  },
  {
   "cell_type": "code",
   "execution_count": 105,
   "id": "75e2f2f9-136a-4798-913f-fcda21b6b7bd",
   "metadata": {
    "tags": []
   },
   "outputs": [],
   "source": [
    "df_3 = pd.read_excel(xlsx_profit, sheet_names2[3])"
   ]
  },
  {
   "cell_type": "markdown",
   "id": "09d82c45-14b2-4138-9322-677e110fc711",
   "metadata": {
    "tags": []
   },
   "source": [
    "##### *Worksheet 5 \"Top Material\"*"
   ]
  },
  {
   "cell_type": "code",
   "execution_count": 106,
   "id": "cf9d49cf-5e07-43e3-bdd1-f0326c0c4379",
   "metadata": {
    "tags": []
   },
   "outputs": [],
   "source": [
    "df_4 = pd.read_excel(xlsx_profit, sheet_names2[4])"
   ]
  },
  {
   "cell_type": "markdown",
   "id": "e7530141-5bfc-4d44-a611-4176a5973514",
   "metadata": {
    "tags": []
   },
   "source": [
    "##### *Worksheet 6 \"Pack Type\"*"
   ]
  },
  {
   "cell_type": "code",
   "execution_count": 107,
   "id": "e4bdae5c-d300-41dc-b8a0-73c39b7aeebe",
   "metadata": {
    "tags": []
   },
   "outputs": [],
   "source": [
    "df_5 = pd.read_excel(xlsx_profit, sheet_names2[5])"
   ]
  },
  {
   "cell_type": "markdown",
   "id": "0bf58ace-216a-4cd8-b5a0-3718ae2cf1a7",
   "metadata": {
    "tags": []
   },
   "source": [
    "##### *Worksheet 7 \"Top Plant - if relevant\"*"
   ]
  },
  {
   "cell_type": "code",
   "execution_count": 108,
   "id": "cc052e23-2009-4c35-b065-4949d1749be3",
   "metadata": {
    "tags": []
   },
   "outputs": [],
   "source": [
    "df_6 = pd.read_excel(xlsx_profit, sheet_names2[6])"
   ]
  },
  {
   "cell_type": "markdown",
   "id": "df133011-5376-4ae5-978b-e8b849325291",
   "metadata": {},
   "source": [
    "### Inspect Data"
   ]
  },
  {
   "cell_type": "markdown",
   "id": "8cd81a0f-7d6a-4d08-9ad4-c40115a95157",
   "metadata": {},
   "source": [
    "##### Worksheet 1"
   ]
  },
  {
   "cell_type": "code",
   "execution_count": 109,
   "id": "edb3f451-7b2c-42c7-abd7-c96ccea15fc6",
   "metadata": {},
   "outputs": [
    {
     "name": "stdout",
     "output_type": "stream",
     "text": [
      "<class 'pandas.core.frame.DataFrame'>\n",
      "RangeIndex: 487077 entries, 0 to 487076\n",
      "Data columns (total 41 columns):\n",
      " #   Column                                        Non-Null Count   Dtype  \n",
      "---  ------                                        --------------   -----  \n",
      " 0   Source plant                                  487077 non-null  object \n",
      " 1   Product Packaging                             487077 non-null  object \n",
      " 2   Plant                                         487077 non-null  object \n",
      " 3   Transaction Type                              487077 non-null  object \n",
      " 4   Sales office customer                         487077 non-null  object \n",
      " 5   Deparment/State customer                      487077 non-null  object \n",
      " 6   Product line                                  487077 non-null  object \n",
      " 7   Material                                      487077 non-null  object \n",
      " 8   Profit Center                                 487077 non-null  object \n",
      " 9   Profit Center Zone                            486832 non-null  object \n",
      " 10  Ship to                                       487077 non-null  object \n",
      " 11  City ship to                                  487077 non-null  object \n",
      " 12  Shipping Conditions                           487077 non-null  object \n",
      " 13  Sales office ship to                          487077 non-null  object \n",
      " 14  Fiscal year/period                            487077 non-null  object \n",
      " 15  Totals                                        487077 non-null  object \n",
      " 16  Source plant Key                              487077 non-null  object \n",
      " 17  Product Packaging Key                         487077 non-null  object \n",
      " 18  Plant Key                                     487077 non-null  object \n",
      " 19  Transaction Type Key                          487077 non-null  object \n",
      " 20  Sales office customer Key                     487077 non-null  object \n",
      " 21  Customer Key                                  487077 non-null  object \n",
      " 22  Deparment/State customer Key                  487077 non-null  object \n",
      " 23  Product line Key                              487077 non-null  object \n",
      " 24  Material Key                                  487077 non-null  object \n",
      " 25  Profit Center Key                             487077 non-null  object \n",
      " 26  Profit Center Zone Key                        487077 non-null  object \n",
      " 27  Ship to Key                                   487077 non-null  object \n",
      " 28  City ship to Key                              487077 non-null  object \n",
      " 29  Shipping Conditions Key                       487077 non-null  object \n",
      " 30  Sales office ship to Key                      487077 non-null  object \n",
      " 31  Fiscal year/period Key                        487077 non-null  object \n",
      " 32  Actual accumulated closing month Company Cur  487077 non-null  float64\n",
      " 33  Deparment/State ship to                       487077 non-null  object \n",
      " 34  Presentation pack                             487077 non-null  object \n",
      " 35  Product type                                  487077 non-null  object \n",
      " 36  Incoterms                                     487077 non-null  object \n",
      " 37  Deparment/State ship to Key                   487077 non-null  object \n",
      " 38  Presentation pack Key                         484157 non-null  object \n",
      " 39  Product type Key                              487077 non-null  object \n",
      " 40  Incoterms Key                                 487077 non-null  object \n",
      "dtypes: float64(1), object(40)\n",
      "memory usage: 152.4+ MB\n"
     ]
    }
   ],
   "source": [
    "df_.info()"
   ]
  },
  {
   "cell_type": "code",
   "execution_count": 110,
   "id": "f43827d9-40a3-4fac-848a-d3c021f91d9f",
   "metadata": {},
   "outputs": [
    {
     "data": {
      "text/html": [
       "<div>\n",
       "<style scoped>\n",
       "    .dataframe tbody tr th:only-of-type {\n",
       "        vertical-align: middle;\n",
       "    }\n",
       "\n",
       "    .dataframe tbody tr th {\n",
       "        vertical-align: top;\n",
       "    }\n",
       "\n",
       "    .dataframe thead th {\n",
       "        text-align: right;\n",
       "    }\n",
       "</style>\n",
       "<table border=\"1\" class=\"dataframe\">\n",
       "  <thead>\n",
       "    <tr style=\"text-align: right;\">\n",
       "      <th></th>\n",
       "      <th>Actual accumulated closing month Company Cur</th>\n",
       "    </tr>\n",
       "  </thead>\n",
       "  <tbody>\n",
       "    <tr>\n",
       "      <th>count</th>\n",
       "      <td>4.870770e+05</td>\n",
       "    </tr>\n",
       "    <tr>\n",
       "      <th>mean</th>\n",
       "      <td>3.442769e+03</td>\n",
       "    </tr>\n",
       "    <tr>\n",
       "      <th>std</th>\n",
       "      <td>2.264646e+04</td>\n",
       "    </tr>\n",
       "    <tr>\n",
       "      <th>min</th>\n",
       "      <td>-5.357440e+05</td>\n",
       "    </tr>\n",
       "    <tr>\n",
       "      <th>25%</th>\n",
       "      <td>1.132000e+00</td>\n",
       "    </tr>\n",
       "    <tr>\n",
       "      <th>50%</th>\n",
       "      <td>3.306900e+01</td>\n",
       "    </tr>\n",
       "    <tr>\n",
       "      <th>75%</th>\n",
       "      <td>1.510140e+02</td>\n",
       "    </tr>\n",
       "    <tr>\n",
       "      <th>max</th>\n",
       "      <td>1.555891e+06</td>\n",
       "    </tr>\n",
       "  </tbody>\n",
       "</table>\n",
       "</div>"
      ],
      "text/plain": [
       "       Actual accumulated closing month Company Cur\n",
       "count                                  4.870770e+05\n",
       "mean                                   3.442769e+03\n",
       "std                                    2.264646e+04\n",
       "min                                   -5.357440e+05\n",
       "25%                                    1.132000e+00\n",
       "50%                                    3.306900e+01\n",
       "75%                                    1.510140e+02\n",
       "max                                    1.555891e+06"
      ]
     },
     "execution_count": 110,
     "metadata": {},
     "output_type": "execute_result"
    }
   ],
   "source": [
    "df_.describe()"
   ]
  },
  {
   "cell_type": "code",
   "execution_count": 111,
   "id": "54c7a43d-1420-45dc-982d-556ec5ff4a21",
   "metadata": {},
   "outputs": [
    {
     "data": {
      "text/html": [
       "<div>\n",
       "<style scoped>\n",
       "    .dataframe tbody tr th:only-of-type {\n",
       "        vertical-align: middle;\n",
       "    }\n",
       "\n",
       "    .dataframe tbody tr th {\n",
       "        vertical-align: top;\n",
       "    }\n",
       "\n",
       "    .dataframe thead th {\n",
       "        text-align: right;\n",
       "    }\n",
       "</style>\n",
       "<table border=\"1\" class=\"dataframe\">\n",
       "  <thead>\n",
       "    <tr style=\"text-align: right;\">\n",
       "      <th></th>\n",
       "      <th>Source plant</th>\n",
       "      <th>Product Packaging</th>\n",
       "      <th>Plant</th>\n",
       "      <th>Transaction Type</th>\n",
       "      <th>Sales office customer</th>\n",
       "      <th>Deparment/State customer</th>\n",
       "      <th>Product line</th>\n",
       "      <th>Material</th>\n",
       "      <th>Profit Center</th>\n",
       "      <th>Profit Center Zone</th>\n",
       "      <th>...</th>\n",
       "      <th>Fiscal year/period Key</th>\n",
       "      <th>Actual accumulated closing month Company Cur</th>\n",
       "      <th>Deparment/State ship to</th>\n",
       "      <th>Presentation pack</th>\n",
       "      <th>Product type</th>\n",
       "      <th>Incoterms</th>\n",
       "      <th>Deparment/State ship to Key</th>\n",
       "      <th>Presentation pack Key</th>\n",
       "      <th>Product type Key</th>\n",
       "      <th>Incoterms Key</th>\n",
       "    </tr>\n",
       "  </thead>\n",
       "  <tbody>\n",
       "    <tr>\n",
       "      <th>0</th>\n",
       "      <td>HARLEYVILLE PLANT</td>\n",
       "      <td>BULK</td>\n",
       "      <td>HARLEYVILLE PLANT</td>\n",
       "      <td>F</td>\n",
       "      <td>Wholesales North</td>\n",
       "      <td>Virginia</td>\n",
       "      <td>GREY CEMENT</td>\n",
       "      <td>TYPE I GRAY BULK</td>\n",
       "      <td>Harleyville Plant cement</td>\n",
       "      <td>ZONE CAROLINAS (US</td>\n",
       "      <td>...</td>\n",
       "      <td>2021-12-01T00:00:00.000Z</td>\n",
       "      <td>29.332</td>\n",
       "      <td>South Carolina</td>\n",
       "      <td>Bulk</td>\n",
       "      <td>Type I/II</td>\n",
       "      <td>PICKUP</td>\n",
       "      <td>USSC</td>\n",
       "      <td>46</td>\n",
       "      <td>52</td>\n",
       "      <td>PIK</td>\n",
       "    </tr>\n",
       "    <tr>\n",
       "      <th>1</th>\n",
       "      <td>ROBERTA PLANT</td>\n",
       "      <td>BAGS</td>\n",
       "      <td>ROBERTA PLANT</td>\n",
       "      <td>F</td>\n",
       "      <td>Deep South</td>\n",
       "      <td>Georgia</td>\n",
       "      <td>GREY CEMENT</td>\n",
       "      <td>TYPE I GRAY 94LB</td>\n",
       "      <td>Roberta Plant cement</td>\n",
       "      <td>ZONE DEEP SOUTH (U</td>\n",
       "      <td>...</td>\n",
       "      <td>2021-12-01T00:00:00.000Z</td>\n",
       "      <td>0.000</td>\n",
       "      <td>Georgia</td>\n",
       "      <td>94 lbs</td>\n",
       "      <td>Type I/II</td>\n",
       "      <td>DELIVERY</td>\n",
       "      <td>USGA</td>\n",
       "      <td>44</td>\n",
       "      <td>52</td>\n",
       "      <td>DEL</td>\n",
       "    </tr>\n",
       "    <tr>\n",
       "      <th>2</th>\n",
       "      <td>ROBERTA PLANT</td>\n",
       "      <td>BULK</td>\n",
       "      <td>DC FP STATESVILLE</td>\n",
       "      <td>F</td>\n",
       "      <td>Carolinas</td>\n",
       "      <td>North Carolina</td>\n",
       "      <td>GREY CEMENT</td>\n",
       "      <td>TYPE I GRAY BULK</td>\n",
       "      <td>DC FP Statesville</td>\n",
       "      <td>ZONE CAROLINAS (US</td>\n",
       "      <td>...</td>\n",
       "      <td>2021-12-01T00:00:00.000Z</td>\n",
       "      <td>27.671</td>\n",
       "      <td>North Carolina</td>\n",
       "      <td>Bulk</td>\n",
       "      <td>Type I/II</td>\n",
       "      <td>DELIVERY</td>\n",
       "      <td>USNC</td>\n",
       "      <td>46</td>\n",
       "      <td>52</td>\n",
       "      <td>DEL</td>\n",
       "    </tr>\n",
       "    <tr>\n",
       "      <th>3</th>\n",
       "      <td>ROBERTA PLANT</td>\n",
       "      <td>BULK</td>\n",
       "      <td>ROBERTA PLANT</td>\n",
       "      <td>F</td>\n",
       "      <td>Wholesales South</td>\n",
       "      <td>Alabama</td>\n",
       "      <td>GREY CEMENT</td>\n",
       "      <td>TYPE I GRAY BULK</td>\n",
       "      <td>Roberta Plant cement</td>\n",
       "      <td>ZONE DEEP SOUTH (U</td>\n",
       "      <td>...</td>\n",
       "      <td>2021-12-01T00:00:00.000Z</td>\n",
       "      <td>22.716</td>\n",
       "      <td>Alabama</td>\n",
       "      <td>Bulk</td>\n",
       "      <td>Type I/II</td>\n",
       "      <td>PICKUP</td>\n",
       "      <td>USAL</td>\n",
       "      <td>46</td>\n",
       "      <td>52</td>\n",
       "      <td>PIK</td>\n",
       "    </tr>\n",
       "    <tr>\n",
       "      <th>4</th>\n",
       "      <td>NEWBERRY PLANT</td>\n",
       "      <td>BULK</td>\n",
       "      <td>NEWBERRY PLANT</td>\n",
       "      <td>F</td>\n",
       "      <td>Florida</td>\n",
       "      <td>Florida</td>\n",
       "      <td>GREY CEMENT</td>\n",
       "      <td>EcoStrong PLC - TYPE IL GRAY BULK</td>\n",
       "      <td>Plant Newberry Cement</td>\n",
       "      <td>ZONE DEEP SOUTH (U</td>\n",
       "      <td>...</td>\n",
       "      <td>2021-12-01T00:00:00.000Z</td>\n",
       "      <td>33.224</td>\n",
       "      <td>Florida</td>\n",
       "      <td>Bulk</td>\n",
       "      <td>TYPE IL</td>\n",
       "      <td>DELIVERY</td>\n",
       "      <td>USFL</td>\n",
       "      <td>46</td>\n",
       "      <td>93</td>\n",
       "      <td>DEL</td>\n",
       "    </tr>\n",
       "  </tbody>\n",
       "</table>\n",
       "<p>5 rows × 41 columns</p>\n",
       "</div>"
      ],
      "text/plain": [
       "        Source plant Product Packaging              Plant Transaction Type  \\\n",
       "0  HARLEYVILLE PLANT              BULK  HARLEYVILLE PLANT                F   \n",
       "1      ROBERTA PLANT              BAGS      ROBERTA PLANT                F   \n",
       "2      ROBERTA PLANT              BULK  DC FP STATESVILLE                F   \n",
       "3      ROBERTA PLANT              BULK      ROBERTA PLANT                F   \n",
       "4     NEWBERRY PLANT              BULK     NEWBERRY PLANT                F   \n",
       "\n",
       "  Sales office customer Deparment/State customer Product line  \\\n",
       "0      Wholesales North                 Virginia  GREY CEMENT   \n",
       "1            Deep South                  Georgia  GREY CEMENT   \n",
       "2             Carolinas           North Carolina  GREY CEMENT   \n",
       "3      Wholesales South                  Alabama  GREY CEMENT   \n",
       "4               Florida                  Florida  GREY CEMENT   \n",
       "\n",
       "                            Material             Profit Center  \\\n",
       "0                   TYPE I GRAY BULK  Harleyville Plant cement   \n",
       "1                   TYPE I GRAY 94LB      Roberta Plant cement   \n",
       "2                   TYPE I GRAY BULK         DC FP Statesville   \n",
       "3                   TYPE I GRAY BULK      Roberta Plant cement   \n",
       "4  EcoStrong PLC - TYPE IL GRAY BULK     Plant Newberry Cement   \n",
       "\n",
       "   Profit Center Zone  ...    Fiscal year/period Key  \\\n",
       "0  ZONE CAROLINAS (US  ...  2021-12-01T00:00:00.000Z   \n",
       "1  ZONE DEEP SOUTH (U  ...  2021-12-01T00:00:00.000Z   \n",
       "2  ZONE CAROLINAS (US  ...  2021-12-01T00:00:00.000Z   \n",
       "3  ZONE DEEP SOUTH (U  ...  2021-12-01T00:00:00.000Z   \n",
       "4  ZONE DEEP SOUTH (U  ...  2021-12-01T00:00:00.000Z   \n",
       "\n",
       "  Actual accumulated closing month Company Cur Deparment/State ship to  \\\n",
       "0                                       29.332          South Carolina   \n",
       "1                                        0.000                 Georgia   \n",
       "2                                       27.671          North Carolina   \n",
       "3                                       22.716                 Alabama   \n",
       "4                                       33.224                 Florida   \n",
       "\n",
       "  Presentation pack Product type Incoterms Deparment/State ship to Key  \\\n",
       "0              Bulk    Type I/II    PICKUP                        USSC   \n",
       "1            94 lbs    Type I/II  DELIVERY                        USGA   \n",
       "2              Bulk    Type I/II  DELIVERY                        USNC   \n",
       "3              Bulk    Type I/II    PICKUP                        USAL   \n",
       "4              Bulk      TYPE IL  DELIVERY                        USFL   \n",
       "\n",
       "  Presentation pack Key Product type Key Incoterms Key  \n",
       "0                    46               52           PIK  \n",
       "1                    44               52           DEL  \n",
       "2                    46               52           DEL  \n",
       "3                    46               52           PIK  \n",
       "4                    46               93           DEL  \n",
       "\n",
       "[5 rows x 41 columns]"
      ]
     },
     "execution_count": 111,
     "metadata": {},
     "output_type": "execute_result"
    }
   ],
   "source": [
    "df_.head()"
   ]
  },
  {
   "cell_type": "code",
   "execution_count": 91,
   "id": "7634f8e0-fbea-4867-9787-f695861ecb85",
   "metadata": {},
   "outputs": [
    {
     "data": {
      "text/plain": [
       "GA             140366\n",
       "FL             136729\n",
       "NC              61508\n",
       "TX              41320\n",
       "Residential     19582\n",
       "SC              13711\n",
       "Name: Payer_State_Province, dtype: int64"
      ]
     },
     "execution_count": 91,
     "metadata": {},
     "output_type": "execute_result"
    }
   ],
   "source": [
    "df_[\"Payer_State_Province\"].value_counts().head(6)"
   ]
  },
  {
   "cell_type": "markdown",
   "id": "82d7a3ad-11ad-442c-9c69-66830f5cb19f",
   "metadata": {},
   "source": [
    "#### Count missing values in each column"
   ]
  },
  {
   "cell_type": "code",
   "execution_count": null,
   "id": "4ee731e8-a039-4fff-8fd9-65aad6c9dc87",
   "metadata": {},
   "outputs": [],
   "source": [
    "#column_names = list(df.columns)\n",
    "#for column in range(0,len(column_names)):\n",
    "#    print(df[column_names[column]].isna().value_counts())"
   ]
  },
  {
   "cell_type": "code",
   "execution_count": 86,
   "id": "08efe173-f663-4d34-ad1c-4aa44ab5e5d0",
   "metadata": {},
   "outputs": [
    {
     "data": {
      "text/plain": [
       "{'Payer_Type': 0,\n",
       " 'Payer_District_Division': 225,\n",
       " 'Payer_Channel': 0,\n",
       " 'Payer_Sales_Group_Sub_Market': 0,\n",
       " 'Invoice_Number': 32026,\n",
       " 'Payer_State_Province': 32026,\n",
       " 'Payer_RMX_Sub_Segment': 204204,\n",
       " 'Payer_RMX_Segment': 204204,\n",
       " 'Payer_SAP_Status': 61743,\n",
       " 'Payer_SAP_Code': 61743}"
      ]
     },
     "execution_count": 86,
     "metadata": {},
     "output_type": "execute_result"
    }
   ],
   "source": [
    "df_.isna().sum().to_dict()"
   ]
  },
  {
   "cell_type": "markdown",
   "id": "955e1463-953a-4245-abd7-1632a001f653",
   "metadata": {},
   "source": [
    "##### Worksheet 2"
   ]
  },
  {
   "cell_type": "code",
   "execution_count": 16,
   "id": "d0f64041-bd3c-45b8-aabb-5ad45f95c2ce",
   "metadata": {},
   "outputs": [
    {
     "name": "stdout",
     "output_type": "stream",
     "text": [
      "<class 'pandas.core.frame.DataFrame'>\n",
      "RangeIndex: 477645 entries, 0 to 477644\n",
      "Data columns (total 10 columns):\n",
      " #   Column                        Non-Null Count   Dtype  \n",
      "---  ------                        --------------   -----  \n",
      " 0   Payer_Type                    477645 non-null  object \n",
      " 1   Payer_District_Division       477420 non-null  object \n",
      " 2   Payer_Channel                 477645 non-null  object \n",
      " 3   Payer_Sales_Group_Sub_Market  477645 non-null  object \n",
      " 4   Invoice_Number                445619 non-null  object \n",
      " 5   Payer_State_Province          445619 non-null  object \n",
      " 6   Payer_RMX_Sub_Segment         273441 non-null  object \n",
      " 7   Payer_RMX_Segment             273441 non-null  object \n",
      " 8   Payer_SAP_Status              415902 non-null  object \n",
      " 9   Payer_SAP_Code                415902 non-null  float64\n",
      "dtypes: float64(1), object(9)\n",
      "memory usage: 36.4+ MB\n"
     ]
    }
   ],
   "source": [
    "df_1.info()"
   ]
  },
  {
   "cell_type": "code",
   "execution_count": 17,
   "id": "b5bf4f1c-ba15-4335-a26b-dc2c03e0860f",
   "metadata": {
    "tags": []
   },
   "outputs": [
    {
     "data": {
      "text/html": [
       "<div>\n",
       "<style scoped>\n",
       "    .dataframe tbody tr th:only-of-type {\n",
       "        vertical-align: middle;\n",
       "    }\n",
       "\n",
       "    .dataframe tbody tr th {\n",
       "        vertical-align: top;\n",
       "    }\n",
       "\n",
       "    .dataframe thead th {\n",
       "        text-align: right;\n",
       "    }\n",
       "</style>\n",
       "<table border=\"1\" class=\"dataframe\">\n",
       "  <thead>\n",
       "    <tr style=\"text-align: right;\">\n",
       "      <th></th>\n",
       "      <th>Payer_SAP_Code</th>\n",
       "    </tr>\n",
       "  </thead>\n",
       "  <tbody>\n",
       "    <tr>\n",
       "      <th>count</th>\n",
       "      <td>415902.000000</td>\n",
       "    </tr>\n",
       "    <tr>\n",
       "      <th>mean</th>\n",
       "      <td>36349.950597</td>\n",
       "    </tr>\n",
       "    <tr>\n",
       "      <th>std</th>\n",
       "      <td>32394.950842</td>\n",
       "    </tr>\n",
       "    <tr>\n",
       "      <th>min</th>\n",
       "      <td>951.000000</td>\n",
       "    </tr>\n",
       "    <tr>\n",
       "      <th>25%</th>\n",
       "      <td>14675.000000</td>\n",
       "    </tr>\n",
       "    <tr>\n",
       "      <th>50%</th>\n",
       "      <td>20026.000000</td>\n",
       "    </tr>\n",
       "    <tr>\n",
       "      <th>75%</th>\n",
       "      <td>45079.000000</td>\n",
       "    </tr>\n",
       "    <tr>\n",
       "      <th>max</th>\n",
       "      <td>134154.000000</td>\n",
       "    </tr>\n",
       "  </tbody>\n",
       "</table>\n",
       "</div>"
      ],
      "text/plain": [
       "       Payer_SAP_Code\n",
       "count   415902.000000\n",
       "mean     36349.950597\n",
       "std      32394.950842\n",
       "min        951.000000\n",
       "25%      14675.000000\n",
       "50%      20026.000000\n",
       "75%      45079.000000\n",
       "max     134154.000000"
      ]
     },
     "execution_count": 17,
     "metadata": {},
     "output_type": "execute_result"
    }
   ],
   "source": [
    "df_1.describe()"
   ]
  },
  {
   "cell_type": "code",
   "execution_count": 92,
   "id": "1f7b6425-6296-4a2f-8125-7ebb562321c8",
   "metadata": {},
   "outputs": [
    {
     "data": {
      "text/plain": [
       "{'Payer_Type': 0,\n",
       " 'Payer_District_Division': 225,\n",
       " 'Payer_Channel': 0,\n",
       " 'Payer_Sales_Group_Sub_Market': 0,\n",
       " 'Invoice_Number': 32026,\n",
       " 'Payer_State_Province': 32026,\n",
       " 'Payer_RMX_Sub_Segment': 204204,\n",
       " 'Payer_RMX_Segment': 204204,\n",
       " 'Payer_SAP_Status': 61743,\n",
       " 'Payer_SAP_Code': 61743}"
      ]
     },
     "execution_count": 92,
     "metadata": {},
     "output_type": "execute_result"
    }
   ],
   "source": [
    "df_1.isna().sum().to_dict()"
   ]
  },
  {
   "cell_type": "markdown",
   "id": "6e6a59bd-13d1-4c7c-b904-cc564f43a18c",
   "metadata": {},
   "source": [
    "##### It looks like worksheet 1 & 2 are the exact same"
   ]
  },
  {
   "cell_type": "markdown",
   "id": "71770f53-920b-42c7-a3e5-e333305a6894",
   "metadata": {},
   "source": [
    "##### Worksheet 3"
   ]
  },
  {
   "cell_type": "code",
   "execution_count": 18,
   "id": "0655dca7-60e1-4a39-9ae1-459b5f71d557",
   "metadata": {},
   "outputs": [
    {
     "data": {
      "text/html": [
       "<div>\n",
       "<style scoped>\n",
       "    .dataframe tbody tr th:only-of-type {\n",
       "        vertical-align: middle;\n",
       "    }\n",
       "\n",
       "    .dataframe tbody tr th {\n",
       "        vertical-align: top;\n",
       "    }\n",
       "\n",
       "    .dataframe thead th {\n",
       "        text-align: right;\n",
       "    }\n",
       "</style>\n",
       "<table border=\"1\" class=\"dataframe\">\n",
       "  <thead>\n",
       "    <tr style=\"text-align: right;\">\n",
       "      <th></th>\n",
       "      <th>Row Labels</th>\n",
       "      <th>Count of Payer_District_Division</th>\n",
       "    </tr>\n",
       "  </thead>\n",
       "  <tbody>\n",
       "    <tr>\n",
       "      <th>0</th>\n",
       "      <td>Atlanta</td>\n",
       "      <td>84830</td>\n",
       "    </tr>\n",
       "    <tr>\n",
       "      <th>1</th>\n",
       "      <td>Jacksonville divisio</td>\n",
       "      <td>47576</td>\n",
       "    </tr>\n",
       "    <tr>\n",
       "      <th>2</th>\n",
       "      <td>Tampa division</td>\n",
       "      <td>40208</td>\n",
       "    </tr>\n",
       "    <tr>\n",
       "      <th>3</th>\n",
       "      <td>Sarasota Ft Myers Di</td>\n",
       "      <td>34409</td>\n",
       "    </tr>\n",
       "    <tr>\n",
       "      <th>4</th>\n",
       "      <td>East NC</td>\n",
       "      <td>34082</td>\n",
       "    </tr>\n",
       "  </tbody>\n",
       "</table>\n",
       "</div>"
      ],
      "text/plain": [
       "             Row Labels  Count of Payer_District_Division\n",
       "0               Atlanta                             84830\n",
       "1  Jacksonville divisio                             47576\n",
       "2        Tampa division                             40208\n",
       "3  Sarasota Ft Myers Di                             34409\n",
       "4               East NC                             34082"
      ]
     },
     "execution_count": 18,
     "metadata": {},
     "output_type": "execute_result"
    }
   ],
   "source": [
    "df_2.head()"
   ]
  },
  {
   "cell_type": "markdown",
   "id": "ec043a29-fc07-422c-90fb-8d87a6a73d5a",
   "metadata": {},
   "source": [
    "##### Worksheet 4"
   ]
  },
  {
   "cell_type": "code",
   "execution_count": 20,
   "id": "ed96e40a-0046-4da2-9647-eb54bac47699",
   "metadata": {},
   "outputs": [
    {
     "data": {
      "text/html": [
       "<div>\n",
       "<style scoped>\n",
       "    .dataframe tbody tr th:only-of-type {\n",
       "        vertical-align: middle;\n",
       "    }\n",
       "\n",
       "    .dataframe tbody tr th {\n",
       "        vertical-align: top;\n",
       "    }\n",
       "\n",
       "    .dataframe thead th {\n",
       "        text-align: right;\n",
       "    }\n",
       "</style>\n",
       "<table border=\"1\" class=\"dataframe\">\n",
       "  <thead>\n",
       "    <tr style=\"text-align: right;\">\n",
       "      <th></th>\n",
       "      <th>Row Labels</th>\n",
       "      <th>Count of Payer_State_Province</th>\n",
       "    </tr>\n",
       "  </thead>\n",
       "  <tbody>\n",
       "    <tr>\n",
       "      <th>0</th>\n",
       "      <td>GA</td>\n",
       "      <td>140366</td>\n",
       "    </tr>\n",
       "    <tr>\n",
       "      <th>1</th>\n",
       "      <td>FL</td>\n",
       "      <td>136729</td>\n",
       "    </tr>\n",
       "    <tr>\n",
       "      <th>2</th>\n",
       "      <td>NC</td>\n",
       "      <td>61508</td>\n",
       "    </tr>\n",
       "    <tr>\n",
       "      <th>3</th>\n",
       "      <td>TX</td>\n",
       "      <td>41320</td>\n",
       "    </tr>\n",
       "    <tr>\n",
       "      <th>4</th>\n",
       "      <td>NaN</td>\n",
       "      <td>32026</td>\n",
       "    </tr>\n",
       "    <tr>\n",
       "      <th>5</th>\n",
       "      <td>Residential</td>\n",
       "      <td>19582</td>\n",
       "    </tr>\n",
       "    <tr>\n",
       "      <th>6</th>\n",
       "      <td>SC</td>\n",
       "      <td>13711</td>\n",
       "    </tr>\n",
       "    <tr>\n",
       "      <th>7</th>\n",
       "      <td>Commercial</td>\n",
       "      <td>8840</td>\n",
       "    </tr>\n",
       "    <tr>\n",
       "      <th>8</th>\n",
       "      <td>AL</td>\n",
       "      <td>7309</td>\n",
       "    </tr>\n",
       "    <tr>\n",
       "      <th>9</th>\n",
       "      <td>MO</td>\n",
       "      <td>2791</td>\n",
       "    </tr>\n",
       "  </tbody>\n",
       "</table>\n",
       "</div>"
      ],
      "text/plain": [
       "    Row Labels  Count of Payer_State_Province\n",
       "0           GA                         140366\n",
       "1           FL                         136729\n",
       "2           NC                          61508\n",
       "3           TX                          41320\n",
       "4          NaN                          32026\n",
       "5  Residential                          19582\n",
       "6           SC                          13711\n",
       "7   Commercial                           8840\n",
       "8           AL                           7309\n",
       "9           MO                           2791"
      ]
     },
     "execution_count": 20,
     "metadata": {},
     "output_type": "execute_result"
    }
   ],
   "source": [
    "df_3.head(10)"
   ]
  },
  {
   "cell_type": "markdown",
   "id": "6a71189c-b260-47a2-a889-9a5bd101caa4",
   "metadata": {},
   "source": [
    "##### Worksheet 5"
   ]
  },
  {
   "cell_type": "code",
   "execution_count": 21,
   "id": "28cb80e2-7868-4bb3-8792-6bca2df8b6bd",
   "metadata": {},
   "outputs": [
    {
     "name": "stdout",
     "output_type": "stream",
     "text": [
      "                Row Labels  Count of Payer_Type\n",
      "0                 Customer               415902\n",
      "1  U2-Non-Residential Bldg                27977\n",
      "2      U1-Residential Bldg                23926\n",
      "3                   U4-COD                 7204\n",
      "4                 U3-Civil                 2636\n",
      "5              Grand Total               477645\n"
     ]
    }
   ],
   "source": [
    "print(df_4)"
   ]
  },
  {
   "cell_type": "markdown",
   "id": "09239b59-2703-42c6-b037-bc5bb90ca535",
   "metadata": {},
   "source": [
    "##### Worksheet 6"
   ]
  },
  {
   "cell_type": "code",
   "execution_count": 22,
   "id": "f421c289-8a24-41d0-83e3-a8ec21c65902",
   "metadata": {},
   "outputs": [
    {
     "name": "stdout",
     "output_type": "stream",
     "text": [
      "              Row Labels  Count of Payer_RMX_Sub_Segment\n",
      "0                    NaN                          204204\n",
      "1          Single Family                          113827\n",
      "2       Other Commercial                           66901\n",
      "3                 Active                           57746\n",
      "4             Commercial                           15467\n",
      "5     Streets & Highways                            8828\n",
      "6               Inactive                            3997\n",
      "7           Multi-Family                            2292\n",
      "8          INSTITUCIONAL                            2056\n",
      "9     Res Maint & Repair                             924\n",
      "10  Parking Lots & Decks                             702\n",
      "11            Industrial                             337\n",
      "12      Parks & Stadiums                             184\n",
      "13                Energy                             104\n",
      "14         Water & Sewer                              39\n",
      "15          Agricultural                              20\n",
      "16  Offic & Mixed Use Bl                              11\n",
      "17       Airports & Rail                               6\n",
      "18           Grand Total                          477645\n"
     ]
    }
   ],
   "source": [
    "print(df_5)"
   ]
  },
  {
   "cell_type": "markdown",
   "id": "b923039d-5694-4bec-bfa9-972f4cfcdcb5",
   "metadata": {},
   "source": [
    "##### Worksheet 7"
   ]
  },
  {
   "cell_type": "code",
   "execution_count": 22,
   "id": "e99c768b-aa9e-4a9f-ac88-81dca0f8b0da",
   "metadata": {},
   "outputs": [
    {
     "name": "stdout",
     "output_type": "stream",
     "text": [
      "              Row Labels  Count of Payer_RMX_Sub_Segment\n",
      "0                    NaN                          204204\n",
      "1          Single Family                          113827\n",
      "2       Other Commercial                           66901\n",
      "3                 Active                           57746\n",
      "4             Commercial                           15467\n",
      "5     Streets & Highways                            8828\n",
      "6               Inactive                            3997\n",
      "7           Multi-Family                            2292\n",
      "8          INSTITUCIONAL                            2056\n",
      "9     Res Maint & Repair                             924\n",
      "10  Parking Lots & Decks                             702\n",
      "11            Industrial                             337\n",
      "12      Parks & Stadiums                             184\n",
      "13                Energy                             104\n",
      "14         Water & Sewer                              39\n",
      "15          Agricultural                              20\n",
      "16  Offic & Mixed Use Bl                              11\n",
      "17       Airports & Rail                               6\n",
      "18           Grand Total                          477645\n"
     ]
    }
   ],
   "source": [
    "print(df_6)"
   ]
  }
 ],
 "metadata": {
  "kernelspec": {
   "display_name": "Python 3 (ipykernel)",
   "language": "python",
   "name": "python3"
  },
  "language_info": {
   "codemirror_mode": {
    "name": "ipython",
    "version": 3
   },
   "file_extension": ".py",
   "mimetype": "text/x-python",
   "name": "python",
   "nbconvert_exporter": "python",
   "pygments_lexer": "ipython3",
   "version": "3.9.7"
  }
 },
 "nbformat": 4,
 "nbformat_minor": 5
}
