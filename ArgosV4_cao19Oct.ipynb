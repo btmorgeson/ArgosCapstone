{
 "cells": [
  {
   "cell_type": "markdown",
   "id": "conceptual-arbitration",
   "metadata": {},
   "source": [
    "# Argos Capstone Project"
   ]
  },
  {
   "cell_type": "markdown",
   "id": "294931bf-675b-474f-b467-14420c32a389",
   "metadata": {
    "tags": []
   },
   "source": [
    "## **Profitability Datasets** \n",
    "> ### *\"Profiability_2021\"*"
   ]
  },
  {
   "cell_type": "markdown",
   "id": "c68e2777-b42d-4fef-892e-2bd03018fafd",
   "metadata": {},
   "source": [
    "##### Set working directory and import libraries"
   ]
  },
  {
   "cell_type": "code",
   "execution_count": null,
   "id": "45b165c9-351a-43f1-99fe-7840a3b2daaf",
   "metadata": {},
   "outputs": [],
   "source": [
    "import os\n",
    "os.getcwd()\n",
    "os.chdir('/Users/brandonmorgeson/Desktop/Capstone')"
   ]
  },
  {
   "cell_type": "code",
   "execution_count": 136,
   "id": "bf375059-eebf-4726-990e-3b92838fce74",
   "metadata": {},
   "outputs": [],
   "source": [
    "import numpy as np \n",
    "import pandas as pd \n",
    "import openpyxl as op"
   ]
  },
  {
   "cell_type": "markdown",
   "id": "71d234a5-0d3e-4dbd-a51a-a401d221c850",
   "metadata": {
    "tags": []
   },
   "source": [
    "### Create Dataframe from CSV"
   ]
  },
  {
   "cell_type": "code",
   "execution_count": 137,
   "id": "956b85cb-a676-45ae-86ae-e2ccefd1ad22",
   "metadata": {},
   "outputs": [
    {
     "name": "stderr",
     "output_type": "stream",
     "text": [
      "/Users/brandonmorgeson/opt/anaconda3/lib/python3.9/site-packages/IPython/core/interactiveshell.py:3444: DtypeWarning: Columns (24,26) have mixed types.Specify dtype option on import or set low_memory=False.\n",
      "  exec(code_obj, self.user_global_ns, self.user_ns)\n"
     ]
    }
   ],
   "source": [
    "df2 = pd.read_csv('Profitability_2021.csv')"
   ]
  },
  {
   "cell_type": "markdown",
   "id": "a21bbe75-2ae9-4250-ab40-d21a844291c9",
   "metadata": {},
   "source": [
    "### Explore Data"
   ]
  },
  {
   "cell_type": "code",
   "execution_count": null,
   "id": "32a10f64-c4e3-476b-8a92-f59a184cfcfb",
   "metadata": {},
   "outputs": [],
   "source": [
    "df2.info()"
   ]
  },
  {
   "cell_type": "code",
   "execution_count": null,
   "id": "43a069d3-06ec-4d88-b730-374dba6199f6",
   "metadata": {},
   "outputs": [],
   "source": [
    "pd.set_option(\"max_columns\", None)\n",
    "pd.set_option(\"max_rows\", None)\n",
    "df2.head(10)"
   ]
  },
  {
   "cell_type": "code",
   "execution_count": 138,
   "id": "b1aa5770-059a-4d22-b1eb-5709b8682dc2",
   "metadata": {
    "tags": []
   },
   "outputs": [],
   "source": [
    "df2 = df2.rename(columns = {\"Deparment/State customer\": \"State\", \"Actual accumulated closing month Company Cur\": \"Monthly Profit\"})"
   ]
  },
  {
   "cell_type": "code",
   "execution_count": null,
   "id": "02726044-00a0-4a4c-8310-8189274cc55e",
   "metadata": {},
   "outputs": [],
   "source": [
    "df2.isnull().sum()"
   ]
  },
  {
   "cell_type": "code",
   "execution_count": 139,
   "id": "61bcac4d-e85e-48f0-8843-25ce76d5be0d",
   "metadata": {},
   "outputs": [],
   "source": [
    "df2 = df2.drop(\"Profit Center Zone\", axis = 1)"
   ]
  },
  {
   "cell_type": "code",
   "execution_count": null,
   "id": "8377d5fd-f552-4f96-8f97-b2fae6852cc4",
   "metadata": {},
   "outputs": [],
   "source": [
    "df2.describe(include = 'object')"
   ]
  },
  {
   "cell_type": "code",
   "execution_count": null,
   "id": "571bdd17-8662-4206-af72-2a2b9b7c5f98",
   "metadata": {},
   "outputs": [],
   "source": [
    "df2[\"Totals\"].value_counts()"
   ]
  },
  {
   "cell_type": "markdown",
   "id": "183cde29-5f30-472e-a688-28fc2a1c193a",
   "metadata": {},
   "source": [
    "## Run Queries "
   ]
  },
  {
   "cell_type": "markdown",
   "id": "1da84a9e-4656-4269-8af3-c629175bc196",
   "metadata": {},
   "source": [
    "#### Top 5 Profiting States"
   ]
  },
  {
   "cell_type": "code",
   "execution_count": null,
   "id": "eaace11f-0bdf-44d1-a5f8-5705c378e990",
   "metadata": {},
   "outputs": [],
   "source": [
    "pd.set_option('display.float_format', lambda x: '%.3f' % x)\n",
    "df2[[\"State\", \"Monthly Profit\"]].groupby([\"State\"]).sum().sort_values(by=[\"Monthly Profit\"], ascending = False).head()"
   ]
  },
  {
   "cell_type": "code",
   "execution_count": 156,
   "id": "048c4dda-a555-4853-b2c9-7d7291ce5569",
   "metadata": {},
   "outputs": [],
   "source": [
    "pd.set_option('display.float_format', lambda x: '%.3f' % x)"
   ]
  },
  {
   "cell_type": "code",
   "execution_count": 157,
   "id": "8bbac03e-5f87-4386-8ac9-f8a216fdda46",
   "metadata": {},
   "outputs": [],
   "source": [
    "product_sales = df2.groupby(\"Product line\").sum().sort_values(by=[\"Monthly Profit\"], ascending=False).head(8)"
   ]
  },
  {
   "cell_type": "code",
   "execution_count": 158,
   "id": "7ebbbc36-26cc-44af-9835-c225f35b0915",
   "metadata": {},
   "outputs": [
    {
     "data": {
      "text/html": [
       "<div>\n",
       "<style scoped>\n",
       "    .dataframe tbody tr th:only-of-type {\n",
       "        vertical-align: middle;\n",
       "    }\n",
       "\n",
       "    .dataframe tbody tr th {\n",
       "        vertical-align: top;\n",
       "    }\n",
       "\n",
       "    .dataframe thead th {\n",
       "        text-align: right;\n",
       "    }\n",
       "</style>\n",
       "<table border=\"1\" class=\"dataframe\">\n",
       "  <thead>\n",
       "    <tr style=\"text-align: right;\">\n",
       "      <th></th>\n",
       "      <th>Monthly Profit</th>\n",
       "    </tr>\n",
       "    <tr>\n",
       "      <th>Product line</th>\n",
       "      <th></th>\n",
       "    </tr>\n",
       "  </thead>\n",
       "  <tbody>\n",
       "    <tr>\n",
       "      <th>GREY CEMENT</th>\n",
       "      <td>1409019129.451</td>\n",
       "    </tr>\n",
       "    <tr>\n",
       "      <th>MASONRY CEMENT</th>\n",
       "      <td>149319123.517</td>\n",
       "    </tr>\n",
       "    <tr>\n",
       "      <th>Slag Cement</th>\n",
       "      <td>79314335.318</td>\n",
       "    </tr>\n",
       "    <tr>\n",
       "      <th>RAW MATERIALS (CEMENT)</th>\n",
       "      <td>26088284.989</td>\n",
       "    </tr>\n",
       "    <tr>\n",
       "      <th>WHITE CEMENT</th>\n",
       "      <td>18250357.937</td>\n",
       "    </tr>\n",
       "    <tr>\n",
       "      <th>Not assigned</th>\n",
       "      <td>0.000</td>\n",
       "    </tr>\n",
       "    <tr>\n",
       "      <th>ADDITIONAL SERVICES</th>\n",
       "      <td>-1871016.840</td>\n",
       "    </tr>\n",
       "    <tr>\n",
       "      <th>Others</th>\n",
       "      <td>-3226610.440</td>\n",
       "    </tr>\n",
       "  </tbody>\n",
       "</table>\n",
       "</div>"
      ],
      "text/plain": [
       "                        Monthly Profit\n",
       "Product line                          \n",
       "GREY CEMENT             1409019129.451\n",
       "MASONRY CEMENT           149319123.517\n",
       "Slag Cement               79314335.318\n",
       "RAW MATERIALS (CEMENT)    26088284.989\n",
       "WHITE CEMENT              18250357.937\n",
       "Not assigned                     0.000\n",
       "ADDITIONAL SERVICES       -1871016.840\n",
       "Others                    -3226610.440"
      ]
     },
     "execution_count": 158,
     "metadata": {},
     "output_type": "execute_result"
    }
   ],
   "source": [
    "product_sales"
   ]
  },
  {
   "cell_type": "code",
   "execution_count": 159,
   "id": "a29ad23b-dd63-4261-a5d8-82f69fd57eb1",
   "metadata": {},
   "outputs": [],
   "source": [
    "bin_array2 = np.linspace(start=0., stop=80., num=100)"
   ]
  },
  {
   "cell_type": "code",
   "execution_count": 175,
   "id": "554b08bb-6a0b-4174-b588-ce845dd8c36a",
   "metadata": {},
   "outputs": [
    {
     "ename": "AttributeError",
     "evalue": "'Line2D' object has no property 'kind'",
     "output_type": "error",
     "traceback": [
      "\u001b[0;31m---------------------------------------------------------------------------\u001b[0m",
      "\u001b[0;31mAttributeError\u001b[0m                            Traceback (most recent call last)",
      "\u001b[0;32m/var/folders/14/ps757bvs4hl5zvr4vy69xpy80000gn/T/ipykernel_47237/1831219166.py\u001b[0m in \u001b[0;36m<module>\u001b[0;34m\u001b[0m\n\u001b[1;32m      1\u001b[0m \u001b[0;32mfrom\u001b[0m \u001b[0mmatplotlib\u001b[0m \u001b[0;32mimport\u001b[0m \u001b[0mpyplot\u001b[0m \u001b[0;32mas\u001b[0m \u001b[0mplt\u001b[0m\u001b[0;34m\u001b[0m\u001b[0;34m\u001b[0m\u001b[0m\n\u001b[0;32m----> 2\u001b[0;31m \u001b[0mplt\u001b[0m\u001b[0;34m.\u001b[0m\u001b[0mplot\u001b[0m\u001b[0;34m(\u001b[0m\u001b[0mproduct_sales\u001b[0m\u001b[0;34m,\u001b[0m \u001b[0mkind\u001b[0m\u001b[0;34m=\u001b[0m\u001b[0;34m'bar'\u001b[0m\u001b[0;34m,\u001b[0m \u001b[0mstacked\u001b[0m\u001b[0;34m=\u001b[0m\u001b[0;32mTrue\u001b[0m\u001b[0;34m,\u001b[0m \u001b[0mtitle\u001b[0m \u001b[0;34m=\u001b[0m \u001b[0;34m\"Product Line\"\u001b[0m\u001b[0;34m,\u001b[0m \u001b[0mfigsize\u001b[0m\u001b[0;34m=\u001b[0m\u001b[0;34m(\u001b[0m\u001b[0;36m8\u001b[0m\u001b[0;34m,\u001b[0m\u001b[0;36m8\u001b[0m\u001b[0;34m)\u001b[0m\u001b[0;34m)\u001b[0m\u001b[0;34m\u001b[0m\u001b[0;34m\u001b[0m\u001b[0m\n\u001b[0m\u001b[1;32m      3\u001b[0m \u001b[0mplt\u001b[0m\u001b[0;34m.\u001b[0m\u001b[0mticklabel_format\u001b[0m\u001b[0;34m(\u001b[0m\u001b[0mstyle\u001b[0m\u001b[0;34m=\u001b[0m\u001b[0;34m'plain'\u001b[0m\u001b[0;34m)\u001b[0m    \u001b[0;31m# to prevent scientific notation.\u001b[0m\u001b[0;34m\u001b[0m\u001b[0;34m\u001b[0m\u001b[0m\n\u001b[1;32m      4\u001b[0m \u001b[0mplt\u001b[0m\u001b[0;34m.\u001b[0m\u001b[0mshow\u001b[0m\u001b[0;34m(\u001b[0m\u001b[0;34m)\u001b[0m\u001b[0;34m\u001b[0m\u001b[0;34m\u001b[0m\u001b[0m\n",
      "\u001b[0;32m~/opt/anaconda3/lib/python3.9/site-packages/matplotlib/pyplot.py\u001b[0m in \u001b[0;36mplot\u001b[0;34m(scalex, scaley, data, *args, **kwargs)\u001b[0m\n\u001b[1;32m   3017\u001b[0m \u001b[0;34m@\u001b[0m\u001b[0m_copy_docstring_and_deprecators\u001b[0m\u001b[0;34m(\u001b[0m\u001b[0mAxes\u001b[0m\u001b[0;34m.\u001b[0m\u001b[0mplot\u001b[0m\u001b[0;34m)\u001b[0m\u001b[0;34m\u001b[0m\u001b[0;34m\u001b[0m\u001b[0m\n\u001b[1;32m   3018\u001b[0m \u001b[0;32mdef\u001b[0m \u001b[0mplot\u001b[0m\u001b[0;34m(\u001b[0m\u001b[0;34m*\u001b[0m\u001b[0margs\u001b[0m\u001b[0;34m,\u001b[0m \u001b[0mscalex\u001b[0m\u001b[0;34m=\u001b[0m\u001b[0;32mTrue\u001b[0m\u001b[0;34m,\u001b[0m \u001b[0mscaley\u001b[0m\u001b[0;34m=\u001b[0m\u001b[0;32mTrue\u001b[0m\u001b[0;34m,\u001b[0m \u001b[0mdata\u001b[0m\u001b[0;34m=\u001b[0m\u001b[0;32mNone\u001b[0m\u001b[0;34m,\u001b[0m \u001b[0;34m**\u001b[0m\u001b[0mkwargs\u001b[0m\u001b[0;34m)\u001b[0m\u001b[0;34m:\u001b[0m\u001b[0;34m\u001b[0m\u001b[0;34m\u001b[0m\u001b[0m\n\u001b[0;32m-> 3019\u001b[0;31m     return gca().plot(\n\u001b[0m\u001b[1;32m   3020\u001b[0m         \u001b[0;34m*\u001b[0m\u001b[0margs\u001b[0m\u001b[0;34m,\u001b[0m \u001b[0mscalex\u001b[0m\u001b[0;34m=\u001b[0m\u001b[0mscalex\u001b[0m\u001b[0;34m,\u001b[0m \u001b[0mscaley\u001b[0m\u001b[0;34m=\u001b[0m\u001b[0mscaley\u001b[0m\u001b[0;34m,\u001b[0m\u001b[0;34m\u001b[0m\u001b[0;34m\u001b[0m\u001b[0m\n\u001b[1;32m   3021\u001b[0m         **({\"data\": data} if data is not None else {}), **kwargs)\n",
      "\u001b[0;32m~/opt/anaconda3/lib/python3.9/site-packages/matplotlib/axes/_axes.py\u001b[0m in \u001b[0;36mplot\u001b[0;34m(self, scalex, scaley, data, *args, **kwargs)\u001b[0m\n\u001b[1;32m   1603\u001b[0m         \"\"\"\n\u001b[1;32m   1604\u001b[0m         \u001b[0mkwargs\u001b[0m \u001b[0;34m=\u001b[0m \u001b[0mcbook\u001b[0m\u001b[0;34m.\u001b[0m\u001b[0mnormalize_kwargs\u001b[0m\u001b[0;34m(\u001b[0m\u001b[0mkwargs\u001b[0m\u001b[0;34m,\u001b[0m \u001b[0mmlines\u001b[0m\u001b[0;34m.\u001b[0m\u001b[0mLine2D\u001b[0m\u001b[0;34m)\u001b[0m\u001b[0;34m\u001b[0m\u001b[0;34m\u001b[0m\u001b[0m\n\u001b[0;32m-> 1605\u001b[0;31m         \u001b[0mlines\u001b[0m \u001b[0;34m=\u001b[0m \u001b[0;34m[\u001b[0m\u001b[0;34m*\u001b[0m\u001b[0mself\u001b[0m\u001b[0;34m.\u001b[0m\u001b[0m_get_lines\u001b[0m\u001b[0;34m(\u001b[0m\u001b[0;34m*\u001b[0m\u001b[0margs\u001b[0m\u001b[0;34m,\u001b[0m \u001b[0mdata\u001b[0m\u001b[0;34m=\u001b[0m\u001b[0mdata\u001b[0m\u001b[0;34m,\u001b[0m \u001b[0;34m**\u001b[0m\u001b[0mkwargs\u001b[0m\u001b[0;34m)\u001b[0m\u001b[0;34m]\u001b[0m\u001b[0;34m\u001b[0m\u001b[0;34m\u001b[0m\u001b[0m\n\u001b[0m\u001b[1;32m   1606\u001b[0m         \u001b[0;32mfor\u001b[0m \u001b[0mline\u001b[0m \u001b[0;32min\u001b[0m \u001b[0mlines\u001b[0m\u001b[0;34m:\u001b[0m\u001b[0;34m\u001b[0m\u001b[0;34m\u001b[0m\u001b[0m\n\u001b[1;32m   1607\u001b[0m             \u001b[0mself\u001b[0m\u001b[0;34m.\u001b[0m\u001b[0madd_line\u001b[0m\u001b[0;34m(\u001b[0m\u001b[0mline\u001b[0m\u001b[0;34m)\u001b[0m\u001b[0;34m\u001b[0m\u001b[0;34m\u001b[0m\u001b[0m\n",
      "\u001b[0;32m~/opt/anaconda3/lib/python3.9/site-packages/matplotlib/axes/_base.py\u001b[0m in \u001b[0;36m__call__\u001b[0;34m(self, data, *args, **kwargs)\u001b[0m\n\u001b[1;32m    313\u001b[0m                 \u001b[0mthis\u001b[0m \u001b[0;34m+=\u001b[0m \u001b[0margs\u001b[0m\u001b[0;34m[\u001b[0m\u001b[0;36m0\u001b[0m\u001b[0;34m]\u001b[0m\u001b[0;34m,\u001b[0m\u001b[0;34m\u001b[0m\u001b[0;34m\u001b[0m\u001b[0m\n\u001b[1;32m    314\u001b[0m                 \u001b[0margs\u001b[0m \u001b[0;34m=\u001b[0m \u001b[0margs\u001b[0m\u001b[0;34m[\u001b[0m\u001b[0;36m1\u001b[0m\u001b[0;34m:\u001b[0m\u001b[0;34m]\u001b[0m\u001b[0;34m\u001b[0m\u001b[0;34m\u001b[0m\u001b[0m\n\u001b[0;32m--> 315\u001b[0;31m             \u001b[0;32myield\u001b[0m \u001b[0;32mfrom\u001b[0m \u001b[0mself\u001b[0m\u001b[0;34m.\u001b[0m\u001b[0m_plot_args\u001b[0m\u001b[0;34m(\u001b[0m\u001b[0mthis\u001b[0m\u001b[0;34m,\u001b[0m \u001b[0mkwargs\u001b[0m\u001b[0;34m)\u001b[0m\u001b[0;34m\u001b[0m\u001b[0;34m\u001b[0m\u001b[0m\n\u001b[0m\u001b[1;32m    316\u001b[0m \u001b[0;34m\u001b[0m\u001b[0m\n\u001b[1;32m    317\u001b[0m     \u001b[0;32mdef\u001b[0m \u001b[0mget_next_color\u001b[0m\u001b[0;34m(\u001b[0m\u001b[0mself\u001b[0m\u001b[0;34m)\u001b[0m\u001b[0;34m:\u001b[0m\u001b[0;34m\u001b[0m\u001b[0;34m\u001b[0m\u001b[0m\n",
      "\u001b[0;32m~/opt/anaconda3/lib/python3.9/site-packages/matplotlib/axes/_base.py\u001b[0m in \u001b[0;36m_plot_args\u001b[0;34m(self, tup, kwargs, return_kwargs)\u001b[0m\n\u001b[1;32m    537\u001b[0m             \u001b[0;32mreturn\u001b[0m \u001b[0mlist\u001b[0m\u001b[0;34m(\u001b[0m\u001b[0mresult\u001b[0m\u001b[0;34m)\u001b[0m\u001b[0;34m\u001b[0m\u001b[0;34m\u001b[0m\u001b[0m\n\u001b[1;32m    538\u001b[0m         \u001b[0;32melse\u001b[0m\u001b[0;34m:\u001b[0m\u001b[0;34m\u001b[0m\u001b[0;34m\u001b[0m\u001b[0m\n\u001b[0;32m--> 539\u001b[0;31m             \u001b[0;32mreturn\u001b[0m \u001b[0;34m[\u001b[0m\u001b[0ml\u001b[0m\u001b[0;34m[\u001b[0m\u001b[0;36m0\u001b[0m\u001b[0;34m]\u001b[0m \u001b[0;32mfor\u001b[0m \u001b[0ml\u001b[0m \u001b[0;32min\u001b[0m \u001b[0mresult\u001b[0m\u001b[0;34m]\u001b[0m\u001b[0;34m\u001b[0m\u001b[0;34m\u001b[0m\u001b[0m\n\u001b[0m\u001b[1;32m    540\u001b[0m \u001b[0;34m\u001b[0m\u001b[0m\n\u001b[1;32m    541\u001b[0m \u001b[0;34m\u001b[0m\u001b[0m\n",
      "\u001b[0;32m~/opt/anaconda3/lib/python3.9/site-packages/matplotlib/axes/_base.py\u001b[0m in \u001b[0;36m<listcomp>\u001b[0;34m(.0)\u001b[0m\n\u001b[1;32m    537\u001b[0m             \u001b[0;32mreturn\u001b[0m \u001b[0mlist\u001b[0m\u001b[0;34m(\u001b[0m\u001b[0mresult\u001b[0m\u001b[0;34m)\u001b[0m\u001b[0;34m\u001b[0m\u001b[0;34m\u001b[0m\u001b[0m\n\u001b[1;32m    538\u001b[0m         \u001b[0;32melse\u001b[0m\u001b[0;34m:\u001b[0m\u001b[0;34m\u001b[0m\u001b[0;34m\u001b[0m\u001b[0m\n\u001b[0;32m--> 539\u001b[0;31m             \u001b[0;32mreturn\u001b[0m \u001b[0;34m[\u001b[0m\u001b[0ml\u001b[0m\u001b[0;34m[\u001b[0m\u001b[0;36m0\u001b[0m\u001b[0;34m]\u001b[0m \u001b[0;32mfor\u001b[0m \u001b[0ml\u001b[0m \u001b[0;32min\u001b[0m \u001b[0mresult\u001b[0m\u001b[0;34m]\u001b[0m\u001b[0;34m\u001b[0m\u001b[0;34m\u001b[0m\u001b[0m\n\u001b[0m\u001b[1;32m    540\u001b[0m \u001b[0;34m\u001b[0m\u001b[0m\n\u001b[1;32m    541\u001b[0m \u001b[0;34m\u001b[0m\u001b[0m\n",
      "\u001b[0;32m~/opt/anaconda3/lib/python3.9/site-packages/matplotlib/axes/_base.py\u001b[0m in \u001b[0;36m<genexpr>\u001b[0;34m(.0)\u001b[0m\n\u001b[1;32m    530\u001b[0m             \u001b[0mlabels\u001b[0m \u001b[0;34m=\u001b[0m \u001b[0;34m[\u001b[0m\u001b[0mlabel\u001b[0m\u001b[0;34m]\u001b[0m \u001b[0;34m*\u001b[0m \u001b[0mn_datasets\u001b[0m\u001b[0;34m\u001b[0m\u001b[0;34m\u001b[0m\u001b[0m\n\u001b[1;32m    531\u001b[0m \u001b[0;34m\u001b[0m\u001b[0m\n\u001b[0;32m--> 532\u001b[0;31m         result = (make_artist(x[:, j % ncx], y[:, j % ncy], kw,\n\u001b[0m\u001b[1;32m    533\u001b[0m                               {**kwargs, 'label': label})\n\u001b[1;32m    534\u001b[0m                   for j, label in enumerate(labels))\n",
      "\u001b[0;32m~/opt/anaconda3/lib/python3.9/site-packages/matplotlib/axes/_base.py\u001b[0m in \u001b[0;36m_makeline\u001b[0;34m(self, x, y, kw, kwargs)\u001b[0m\n\u001b[1;32m    352\u001b[0m         \u001b[0mdefault_dict\u001b[0m \u001b[0;34m=\u001b[0m \u001b[0mself\u001b[0m\u001b[0;34m.\u001b[0m\u001b[0m_getdefaults\u001b[0m\u001b[0;34m(\u001b[0m\u001b[0mset\u001b[0m\u001b[0;34m(\u001b[0m\u001b[0;34m)\u001b[0m\u001b[0;34m,\u001b[0m \u001b[0mkw\u001b[0m\u001b[0;34m)\u001b[0m\u001b[0;34m\u001b[0m\u001b[0;34m\u001b[0m\u001b[0m\n\u001b[1;32m    353\u001b[0m         \u001b[0mself\u001b[0m\u001b[0;34m.\u001b[0m\u001b[0m_setdefaults\u001b[0m\u001b[0;34m(\u001b[0m\u001b[0mdefault_dict\u001b[0m\u001b[0;34m,\u001b[0m \u001b[0mkw\u001b[0m\u001b[0;34m)\u001b[0m\u001b[0;34m\u001b[0m\u001b[0;34m\u001b[0m\u001b[0m\n\u001b[0;32m--> 354\u001b[0;31m         \u001b[0mseg\u001b[0m \u001b[0;34m=\u001b[0m \u001b[0mmlines\u001b[0m\u001b[0;34m.\u001b[0m\u001b[0mLine2D\u001b[0m\u001b[0;34m(\u001b[0m\u001b[0mx\u001b[0m\u001b[0;34m,\u001b[0m \u001b[0my\u001b[0m\u001b[0;34m,\u001b[0m \u001b[0;34m**\u001b[0m\u001b[0mkw\u001b[0m\u001b[0;34m)\u001b[0m\u001b[0;34m\u001b[0m\u001b[0;34m\u001b[0m\u001b[0m\n\u001b[0m\u001b[1;32m    355\u001b[0m         \u001b[0;32mreturn\u001b[0m \u001b[0mseg\u001b[0m\u001b[0;34m,\u001b[0m \u001b[0mkw\u001b[0m\u001b[0;34m\u001b[0m\u001b[0;34m\u001b[0m\u001b[0m\n\u001b[1;32m    356\u001b[0m \u001b[0;34m\u001b[0m\u001b[0m\n",
      "\u001b[0;32m~/opt/anaconda3/lib/python3.9/site-packages/matplotlib/lines.py\u001b[0m in \u001b[0;36m__init__\u001b[0;34m(self, xdata, ydata, linewidth, linestyle, color, marker, markersize, markeredgewidth, markeredgecolor, markerfacecolor, markerfacecoloralt, fillstyle, antialiased, dash_capstyle, solid_capstyle, dash_joinstyle, solid_joinstyle, pickradius, drawstyle, markevery, **kwargs)\u001b[0m\n\u001b[1;32m    395\u001b[0m         \u001b[0;31m# update kwargs before updating data to give the caller a\u001b[0m\u001b[0;34m\u001b[0m\u001b[0;34m\u001b[0m\u001b[0m\n\u001b[1;32m    396\u001b[0m         \u001b[0;31m# chance to init axes (and hence unit support)\u001b[0m\u001b[0;34m\u001b[0m\u001b[0;34m\u001b[0m\u001b[0m\n\u001b[0;32m--> 397\u001b[0;31m         \u001b[0mself\u001b[0m\u001b[0;34m.\u001b[0m\u001b[0mupdate\u001b[0m\u001b[0;34m(\u001b[0m\u001b[0mkwargs\u001b[0m\u001b[0;34m)\u001b[0m\u001b[0;34m\u001b[0m\u001b[0;34m\u001b[0m\u001b[0m\n\u001b[0m\u001b[1;32m    398\u001b[0m         \u001b[0mself\u001b[0m\u001b[0;34m.\u001b[0m\u001b[0mpickradius\u001b[0m \u001b[0;34m=\u001b[0m \u001b[0mpickradius\u001b[0m\u001b[0;34m\u001b[0m\u001b[0;34m\u001b[0m\u001b[0m\n\u001b[1;32m    399\u001b[0m         \u001b[0mself\u001b[0m\u001b[0;34m.\u001b[0m\u001b[0mind_offset\u001b[0m \u001b[0;34m=\u001b[0m \u001b[0;36m0\u001b[0m\u001b[0;34m\u001b[0m\u001b[0;34m\u001b[0m\u001b[0m\n",
      "\u001b[0;32m~/opt/anaconda3/lib/python3.9/site-packages/matplotlib/artist.py\u001b[0m in \u001b[0;36mupdate\u001b[0;34m(self, props)\u001b[0m\n\u001b[1;32m   1060\u001b[0m                     \u001b[0mfunc\u001b[0m \u001b[0;34m=\u001b[0m \u001b[0mgetattr\u001b[0m\u001b[0;34m(\u001b[0m\u001b[0mself\u001b[0m\u001b[0;34m,\u001b[0m \u001b[0;34mf\"set_{k}\"\u001b[0m\u001b[0;34m,\u001b[0m \u001b[0;32mNone\u001b[0m\u001b[0;34m)\u001b[0m\u001b[0;34m\u001b[0m\u001b[0;34m\u001b[0m\u001b[0m\n\u001b[1;32m   1061\u001b[0m                     \u001b[0;32mif\u001b[0m \u001b[0;32mnot\u001b[0m \u001b[0mcallable\u001b[0m\u001b[0;34m(\u001b[0m\u001b[0mfunc\u001b[0m\u001b[0;34m)\u001b[0m\u001b[0;34m:\u001b[0m\u001b[0;34m\u001b[0m\u001b[0;34m\u001b[0m\u001b[0m\n\u001b[0;32m-> 1062\u001b[0;31m                         raise AttributeError(f\"{type(self).__name__!r} object \"\n\u001b[0m\u001b[1;32m   1063\u001b[0m                                              f\"has no property {k!r}\")\n\u001b[1;32m   1064\u001b[0m                     \u001b[0mret\u001b[0m\u001b[0;34m.\u001b[0m\u001b[0mappend\u001b[0m\u001b[0;34m(\u001b[0m\u001b[0mfunc\u001b[0m\u001b[0;34m(\u001b[0m\u001b[0mv\u001b[0m\u001b[0;34m)\u001b[0m\u001b[0;34m)\u001b[0m\u001b[0;34m\u001b[0m\u001b[0;34m\u001b[0m\u001b[0m\n",
      "\u001b[0;31mAttributeError\u001b[0m: 'Line2D' object has no property 'kind'"
     ]
    },
    {
     "data": {
      "image/png": "[encoded data removed]",
      "text/plain": [
       "<Figure size 432x288 with 1 Axes>"
      ]
     },
     "metadata": {
      "needs_background": "light"
     },
     "output_type": "display_data"
    }
   ],
   "source": [
    "from matplotlib import pyplot as plt\n",
    "plt.plot(product_sales, kind='bar', stacked=True, title = \"Product Line\", figsize=(8,8))\n",
    "plt.ticklabel_format(style='plain')    # to prevent scientific notation.\n",
    "plt.show()"
   ]
  },
  {
   "cell_type": "code",
   "execution_count": 176,
   "id": "3788d202-2ee4-4f77-85a0-4508f04cd106",
   "metadata": {},
   "outputs": [
    {
     "data": {
      "text/plain": [
       "<AxesSubplot:title={'center':'Product Line'}, xlabel='Product line'>"
      ]
     },
     "execution_count": 176,
     "metadata": {},
     "output_type": "execute_result"
    },
    {
     "data": {
      "image/png": "[encoded data removed]",
      "text/plain": [
       "<Figure size 576x576 with 1 Axes>"
      ]
     },
     "metadata": {
      "needs_background": "light"
     },
     "output_type": "display_data"
    }
   ],
   "source": [
    "product_sales.plot(kind='bar', stacked=True, title = \"Product Line\", figsize=(8,8))"
   ]
  },
  {
   "cell_type": "markdown",
   "id": "f19a290b-e704-456c-80a9-739368de95b9",
   "metadata": {},
   "source": [
    "#### Top 5 Profiting Plants"
   ]
  },
  {
   "cell_type": "code",
   "execution_count": null,
   "id": "e7d0f884-d26f-469d-b9f9-02b989f24ee9",
   "metadata": {},
   "outputs": [],
   "source": [
    "df2[[\"Source plant\", \"State\", \"Monthly Profit\"]].groupby([\"Source plant\", \"State\"]).sum().sort_values(by=[\"Monthly Profit\"], ascending = False).head()"
   ]
  },
  {
   "cell_type": "markdown",
   "id": "956543c7-fb8f-445e-a9b2-f0f2d92c4710",
   "metadata": {},
   "source": [
    "#### Top Product Packaging by Profit"
   ]
  },
  {
   "cell_type": "code",
   "execution_count": null,
   "id": "4985d242-f01c-48bc-b2f7-4c04ef1c0dd0",
   "metadata": {},
   "outputs": [],
   "source": [
    "df2.groupby([\"Product Packaging\"]).sum().sort_values(by=[\"Monthly Profit\"], ascending = False).head()"
   ]
  },
  {
   "cell_type": "markdown",
   "id": "07f7cd7f-1182-4a71-97a5-0c2504511496",
   "metadata": {},
   "source": [
    "#### Top Product Line by Profit"
   ]
  },
  {
   "cell_type": "code",
   "execution_count": null,
   "id": "5fc89466-429a-4a46-84ff-287d3f1edc16",
   "metadata": {
    "tags": []
   },
   "outputs": [],
   "source": [
    "df2.groupby([\"Product line\"]).sum().sort_values(by=[\"Monthly Profit\"], ascending = False).head()"
   ]
  },
  {
   "cell_type": "markdown",
   "id": "e181c4a3-4b23-4880-8a7e-7f333557d768",
   "metadata": {},
   "source": [
    "#### Top 5 Profiting States by Material"
   ]
  },
  {
   "cell_type": "code",
   "execution_count": null,
   "id": "2b486278-883f-4f2b-a6e4-0e6b79310305",
   "metadata": {},
   "outputs": [],
   "source": [
    "df2.groupby([\"State\", \"Material\"]).sum().sort_values(by=[\"Monthly Profit\"], ascending = False).head()"
   ]
  },
  {
   "cell_type": "markdown",
   "id": "9be11abe-0044-4804-8c3e-01191d2a9ef5",
   "metadata": {},
   "source": [
    "## Run Correlation Matrix"
   ]
  },
  {
   "cell_type": "markdown",
   "id": "31037dac-34b9-4e77-a916-20514b2388f8",
   "metadata": {
    "tags": []
   },
   "source": [
    "##### Source for correlation matrix\n",
    "https://blog.knoldus.com/how-to-find-correlation-value-of-categorical-variables/"
   ]
  },
  {
   "cell_type": "code",
   "execution_count": null,
   "id": "cb133fdf-3cd9-4217-b3af-8e4cb5c019e1",
   "metadata": {
    "tags": []
   },
   "outputs": [],
   "source": [
    "# Install for first time\n",
    "#pip install dython\n",
    "\n",
    "import pandas as pd\n",
    "import seaborn as sn\n",
    "import matplotlib.pyplot as plt\n",
    "from dython.nominal import associations\n",
    "from dython.nominal import identify_nominal_columns\n",
    "from dython.nominal import associations"
   ]
  },
  {
   "cell_type": "markdown",
   "id": "62fd2f37-f4b4-4747-9471-9d4a866416e1",
   "metadata": {},
   "source": [
    "#### Remove the extra key value columns to speed up and declutter correlation matrix"
   ]
  },
  {
   "cell_type": "code",
   "execution_count": null,
   "id": "24d58aaf-0678-443e-9829-39ddc5436115",
   "metadata": {
    "tags": []
   },
   "outputs": [],
   "source": [
    "df2 = df2.drop(['Source plant Key', 'Product Packaging Key', 'Plant Key',\n",
    "       'Transaction Type Key', 'Sales office customer Key',\n",
    "       'Deparment/State customer Key', 'Product line Key', 'Material Key',\n",
    "       'Profit Center Key', 'Profit Center Zone Key', 'Ship to Key',\n",
    "       'City ship to Key', 'Shipping Conditions Key',\n",
    "       'Sales office ship to Key', 'Fiscal year/period Key', 'Deparment/State ship to Key', 'Presentation pack Key',\n",
    "       'Product type Key', 'Incoterms Key', 'Fiscal year/period'], axis = 1)"
   ]
  },
  {
   "cell_type": "code",
   "execution_count": null,
   "id": "d595e56e-6867-47c1-9967-6cb745f60ff2",
   "metadata": {},
   "outputs": [],
   "source": [
    "categorical_features=identify_nominal_columns(df2)"
   ]
  },
  {
   "cell_type": "code",
   "execution_count": null,
   "id": "32bba618-5599-4059-a26a-33c1cbb99f59",
   "metadata": {},
   "outputs": [],
   "source": [
    "#complete_correlation= associations(df2, filename= 'complete_correlation.png', figsize=(5,5))"
   ]
  },
  {
   "cell_type": "code",
   "execution_count": null,
   "id": "805487cf-40b7-494c-af93-dbf381cd38e9",
   "metadata": {
    "tags": []
   },
   "outputs": [],
   "source": [
    "#df2_complete_corr=complete_correlation['corr']\n",
    "#df2_complete_corr.style.background_gradient(cmap='coolwarm', axis=None).set_precision(2)"
   ]
  },
  {
   "cell_type": "markdown",
   "id": "725842e7-1d54-436c-a38b-cf958c3df998",
   "metadata": {},
   "source": [
    "### Filter customers by accounts for Revenue, Net Revenue, and EBITDA"
   ]
  },
  {
   "cell_type": "code",
   "execution_count": null,
   "id": "97fc4ff3-329f-44e0-82ae-0fde46ee35c0",
   "metadata": {},
   "outputs": [],
   "source": [
    "df2_revenue = df2[df2.Totals.isin([\"REVENUE\", \"NET REVENUE\", \"EBITDA\"])]"
   ]
  },
  {
   "cell_type": "markdown",
   "id": "001d63e9-e609-44d1-b029-ce3cd2ef9dec",
   "metadata": {},
   "source": [
    "##### Number of rows"
   ]
  },
  {
   "cell_type": "code",
   "execution_count": null,
   "id": "5cbfb5d0-ecf4-4f6b-a371-da454fc9b901",
   "metadata": {
    "tags": []
   },
   "outputs": [],
   "source": [
    "df2_revenue.shape[0]"
   ]
  },
  {
   "cell_type": "code",
   "execution_count": null,
   "id": "efe5742a-407b-47da-b5cd-740bd9a26d2f",
   "metadata": {
    "tags": []
   },
   "outputs": [],
   "source": [
    "#complete_correlation= associations(df2_revenue, filename= 'complete_correlation.png', figsize=(5,5))"
   ]
  },
  {
   "cell_type": "code",
   "execution_count": null,
   "id": "0801ffed-27f0-4653-9f4a-1c1e6aafc46e",
   "metadata": {
    "tags": []
   },
   "outputs": [],
   "source": [
    "#df2_revenue_complete_corr=complete_correlation['corr']\n",
    "#df2_revenue_complete_corr.style.background_gradient(cmap='coolwarm', axis=None).set_precision(2)"
   ]
  },
  {
   "cell_type": "markdown",
   "id": "0f9a5d64-4abd-4fad-afcf-9f63de46fbbd",
   "metadata": {},
   "source": [
    "### Highest Correlation to Profit is \"Ship to\" "
   ]
  },
  {
   "cell_type": "markdown",
   "id": "baed2965-e5c8-4455-a432-3f857d824fad",
   "metadata": {
    "tags": []
   },
   "source": [
    "## Testing Clustering using Kmodes\n",
    "#### *The code works, but I didn't clean or subset any data. It didn't match with profit. Might be useful later*"
   ]
  },
  {
   "cell_type": "code",
   "execution_count": null,
   "id": "28acdd37-e493-48b7-b6b7-1b92cf48b841",
   "metadata": {},
   "outputs": [],
   "source": [
    "# !pip install kmodes\n",
    "# import pandas as pd\n",
    "# import numpy as np\n",
    "# from kmodes.kmodes import KModes\n",
    "# import matplotlib.pyplot as plt\n",
    "# %matplotlib inline\n",
    "\n",
    "#df2_revenue_test = df2_revenue.dropna()"
   ]
  },
  {
   "cell_type": "markdown",
   "id": "abd4cd68-9bfa-4f91-a674-3289a0465825",
   "metadata": {},
   "source": [
    "#### Best cluster was 3 or 2. This will take 10 min to run"
   ]
  },
  {
   "cell_type": "code",
   "execution_count": null,
   "id": "98abfb38-0e16-4a99-ae07-e357ed57dc37",
   "metadata": {},
   "outputs": [],
   "source": [
    "# Elbow curve to find optimal K\n",
    "# cost = []\n",
    "# K = range(1,5)\n",
    "# for num_clusters in list(K):\n",
    "#     kmode = KModes(n_clusters=num_clusters, init = \"random\", n_init = 5, verbose=1)\n",
    "#     kmode.fit_predict(df2_revenue_test)\n",
    "#     cost.append(kmode.cost_)\n",
    "    \n",
    "# plt.plot(K, cost, 'bx-')\n",
    "# plt.xlabel('No. of clusters')\n",
    "# plt.ylabel('Cost')\n",
    "# plt.title('Elbow Method For Optimal k')\n",
    "# plt.show()"
   ]
  },
  {
   "cell_type": "code",
   "execution_count": null,
   "id": "f5fd7ad4-9b03-4c3b-abad-72b9d297c4e9",
   "metadata": {},
   "outputs": [],
   "source": [
    "# Building the model with 3 clusters\n",
    "# kmode = KModes(n_clusters=3, init = \"random\", n_init = 5, verbose=1)\n",
    "# clusters = kmode.fit_predict(df2_revenue_test)\n",
    "# clusters"
   ]
  },
  {
   "cell_type": "code",
   "execution_count": null,
   "id": "91d16e14-35fc-4a81-98a8-5f9da7f73685",
   "metadata": {
    "tags": []
   },
   "outputs": [],
   "source": [
    "# df2_revenue_test.insert(0, \"Cluster\", clusters, True)\n",
    "# df2_revenue_test"
   ]
  },
  {
   "cell_type": "code",
   "execution_count": null,
   "id": "6d9b7535-9f7e-4d41-a17b-39a0304442a6",
   "metadata": {
    "tags": []
   },
   "outputs": [],
   "source": [
    "#There was a duplicate column for some reason so had to remove\n",
    "#df2_revenue_test = df2_revenue_test.iloc[:,1:]"
   ]
  },
  {
   "cell_type": "markdown",
   "id": "62e1f96e-9922-4e0c-a477-ab41a8b92a7e",
   "metadata": {
    "tags": []
   },
   "source": [
    "## Stepwise regression feature selection"
   ]
  },
  {
   "cell_type": "code",
   "execution_count": null,
   "id": "09c86b0a-7bff-4a4b-bbad-bc5c9183de1f",
   "metadata": {},
   "outputs": [],
   "source": [
    "# https://towardsdatascience.com/stepwise-regression-tutorial-in-python-ebf7c782c922"
   ]
  },
  {
   "cell_type": "code",
   "execution_count": null,
   "id": "3a3d2e41-a006-4a2d-8f7c-a83791518540",
   "metadata": {
    "tags": []
   },
   "outputs": [],
   "source": [
    "## getting column names\n",
    "#x_columns = [\"Workweek (hours)\", \"GDP per capita\", \"Cost of Living Index\", \"Stability\", \"Rights\", \"Health\", \"Safety\", \"Climate\", \"Costs\", \"Popularity\"]\n",
    "#y = data[\"Monthly Nominal (USD)\"]\n",
    "\n",
    "# df2_columns = df2_revenue.columns.tolist()\n",
    "# df2_columns.remove(\"Monthly Profit\")\n",
    "# y = df2_revenue[\"Monthly Profit\"]\n",
    "# x = df2_revenue[df2_columns].astype(\"category\")"
   ]
  },
  {
   "cell_type": "code",
   "execution_count": null,
   "id": "7073af1d-9a38-4e7f-b34f-19fbab17c71e",
   "metadata": {},
   "outputs": [],
   "source": [
    "# x = pd.get_dummies(x)"
   ]
  },
  {
   "cell_type": "code",
   "execution_count": null,
   "id": "bf08d7fc-ea26-467c-aa75-12f19cfcc789",
   "metadata": {
    "tags": []
   },
   "outputs": [],
   "source": [
    "## creating function to get model statistics\n",
    "# import numpy as np\n",
    "# import statsmodels.api as sm\n",
    "# def get_stats():\n",
    "#     results = sm.OLS(y, x).fit()\n",
    "#     print(results.summary())\n",
    "# get_stats()"
   ]
  },
  {
   "cell_type": "code",
   "execution_count": null,
   "id": "6fc59332-decf-4074-9184-1ed0418ecd02",
   "metadata": {},
   "outputs": [],
   "source": [
    "# X.info()"
   ]
  },
  {
   "cell_type": "code",
   "execution_count": null,
   "id": "95526094-ce91-4e2a-96f1-063117754ddc",
   "metadata": {},
   "outputs": [],
   "source": [
    "# import pandas as pd\n",
    "# import statsmodels.api as sm\n",
    "\n",
    "\n",
    "# def forward_regression(X, y,\n",
    "#                        threshold_in,\n",
    "#                        verbose= False):\n",
    "#     initial_list = []\n",
    "#     included = list(initial_list)\n",
    "#     while True:\n",
    "#         changed=False\n",
    "#         #forward step\n",
    "#         excluded = list(set(X.columns)-set(included))\n",
    "#         new_pval = pd.Series(index=excluded)\n",
    "#         for new_column in excluded:\n",
    "#             model = sm.OLS(y, sm.add_constant(pd.DataFrame(X[included+[new_column]]))).fit()\n",
    "#             new_pval[new_column] = model.pvalues[new_column]\n",
    "#         best_pval = new_pval.min()\n",
    "#         if best_pval < threshold_in:\n",
    "#             best_feature = new_pval.idxmin()\n",
    "#             included.append(best_feature)\n",
    "#             changed=True\n",
    "#             if verbose:\n",
    "#                 print('Add  {:30} with p-value {:.6}'.format(best_feature, best_pval))\n",
    "\n",
    "#         if not changed:\n",
    "#             break\n",
    "\n",
    "#     return included\n",
    "\n",
    "# forward_regression(X, y,\n",
    "#                   threshold_in = 1)\n",
    "\n"
   ]
  },
  {
   "cell_type": "code",
   "execution_count": null,
   "id": "65c47f8d-edda-4a7b-89cc-61a7a90400b4",
   "metadata": {},
   "outputs": [],
   "source": [
    "# def backward_regression(X, y,\n",
    "#                            threshold_out,\n",
    "#                            verbose=False):\n",
    "#     included=list(X.columns)\n",
    "#     while True:\n",
    "#         changed=False\n",
    "#         model = sm.OLS(y, sm.add_constant(pd.DataFrame(X[included]))).fit()\n",
    "#         # use all coefs except intercept\n",
    "#         pvalues = model.pvalues.iloc[1:]\n",
    "#         worst_pval = pvalues.max() # null if pvalues is empty\n",
    "#         if worst_pval > threshold_out:\n",
    "#             changed=True\n",
    "#             worst_feature = pvalues.idxmax()\n",
    "#             included.remove(worst_feature)\n",
    "#             if verbose:\n",
    "#                 print('Drop {:30} with p-value {:.6}'.format(worst_feature, worst_pval))\n",
    "#         if not changed:\n",
    "#             break\n",
    "#     return included\n",
    "\n",
    "# backward_regression(X,y, \n",
    "#                     threshold_out = 0.05)"
   ]
  },
  {
   "cell_type": "markdown",
   "id": "9832eaab-2a43-4884-920f-1658bc5c0625",
   "metadata": {},
   "source": [
    "## Using Scikit"
   ]
  },
  {
   "cell_type": "code",
   "execution_count": null,
   "id": "fb3ce1e6-be83-40e6-b555-344db1b09606",
   "metadata": {},
   "outputs": [],
   "source": [
    "# #RECURSIVE FEATURE ELIMINATION\n",
    "# #Feature ranking with recursive feature elimination and cross-validated selection of the best number of features\n",
    "\n",
    "# from sklearn.feature_selection import RFE\n",
    "# from sklearn.feature_selection import RFECV\n",
    "# #X = X_train\n",
    "# #y = Y_train\n",
    "# names=pd.DataFrame(X.columns)"
   ]
  },
  {
   "cell_type": "code",
   "execution_count": null,
   "id": "0427c52c-11b7-4c7c-879d-197e5209e05d",
   "metadata": {},
   "outputs": [],
   "source": [
    "#use linear regression as the model\n",
    "# lin_reg = LinearRegression()"
   ]
  },
  {
   "cell_type": "code",
   "execution_count": null,
   "id": "92117e83-006f-46ba-8a6a-91814cd91878",
   "metadata": {},
   "outputs": [],
   "source": [
    "# #This is to select 5 variables: can be changed and checked in model for accuracy\n",
    "# rfe_mod = RFE(lin_reg, 5, step=1) #RFECV(lin_reg, step=1, cv=5) \n",
    "# myvalues=rfe_mod.fit(X,y) #to fit\n",
    "# myvalues.support_#The mask of selected features.\n",
    "# myvalues.ranking_ #The feature ranking, such that ranking_[i] corresponds to the ranking position of the i-th feature. Selected (i.e., estimated best) features are assigned rank 1."
   ]
  },
  {
   "cell_type": "code",
   "execution_count": null,
   "id": "c581a694-7666-4e46-b654-c2fab0f8c806",
   "metadata": {},
   "outputs": [],
   "source": [
    "# rankings=pd.DataFrame(myvalues.ranking_) #Make it into data frame\n",
    "# rankings"
   ]
  },
  {
   "cell_type": "code",
   "execution_count": null,
   "id": "e440070c-022b-46e4-a682-fc85a9313dc6",
   "metadata": {},
   "outputs": [],
   "source": [
    "# #use linear regression as the model\n",
    "# lin_reg = LinearRegression()\n",
    "\n",
    "# #This is to select 8 variables: can be changed and checked in model for accuracy\n",
    "# rfe_mod =  RFECV(lin_reg, step=1, cv=300) #RFE(lin_reg, 4, step=1)\n",
    "\n",
    "# myvalues=rfe_mod.fit(X,y) #to fit"
   ]
  },
  {
   "cell_type": "code",
   "execution_count": null,
   "id": "73fc6115-f016-40c5-837a-9e7f96f9dc5e",
   "metadata": {},
   "outputs": [],
   "source": [
    "# df2_columns = df2_revenue.columns.tolist()\n",
    "# df2_columns.remove(\"Monthly Profit\")\n",
    "# y = df2_revenue[\"Monthly Profit\"]\n",
    "# X = df2_revenue[df2_columns].astype(\"category\")"
   ]
  },
  {
   "cell_type": "code",
   "execution_count": null,
   "id": "35cbccc8-0764-4cd6-a0d6-225c7500dfbd",
   "metadata": {},
   "outputs": [],
   "source": [
    "# X = pd.get_dummies(X)"
   ]
  },
  {
   "cell_type": "code",
   "execution_count": null,
   "id": "d0922917-5da3-4d7f-9eae-4c17756d89d4",
   "metadata": {},
   "outputs": [],
   "source": [
    "# #UNIVARIATE SELECTION\n",
    "# # Feature Extraction with Univariate Statistical Tests (f_regression)\n",
    "# import pandas\n",
    "# import numpy\n",
    "# from sklearn.feature_selection import SelectKBest\n",
    "# from sklearn.feature_selection import f_regression\n",
    "# from sklearn.datasets import load_digits"
   ]
  },
  {
   "cell_type": "code",
   "execution_count": null,
   "id": "cd65ba31-12fd-410a-be4c-c6371082cb8b",
   "metadata": {},
   "outputs": [],
   "source": [
    "# load data\n",
    "#X = X_train\n",
    "#y = Y_train\n",
    "# names=pd.DataFrame(X.columns)"
   ]
  },
  {
   "cell_type": "code",
   "execution_count": null,
   "id": "0eed4d4b-2fc1-474b-9abe-640e87473f19",
   "metadata": {},
   "outputs": [],
   "source": [
    "# model = SelectKBest(score_func=f_regression, k=4)\n",
    "# results = model.fit(X, y)"
   ]
  },
  {
   "cell_type": "code",
   "execution_count": null,
   "id": "bf1d945b-5e8a-4410-bb35-7c2591461570",
   "metadata": {},
   "outputs": [],
   "source": [
    "# print (results.scores_)\n",
    "#print (results.pvalues_)"
   ]
  },
  {
   "cell_type": "code",
   "execution_count": null,
   "id": "61cb2aeb-7b2f-47f8-ba13-56a58c8c5941",
   "metadata": {},
   "outputs": [],
   "source": [
    "# results_df=pd.DataFrame(results.scores_)\n",
    "# #Concat and name columns\n",
    "# scored=pd.concat([names,results_df], axis=1)\n",
    "# scored.columns = [\"Feature\", \"Score\"]\n",
    "# scored.sort_values(by=['Score'], ascending = False).head(13)"
   ]
  },
  {
   "cell_type": "markdown",
   "id": "25502c49-d35e-41bf-ad39-312622b73bfc",
   "metadata": {},
   "source": [
    "### Queries for Revenue only customers 2021"
   ]
  },
  {
   "cell_type": "markdown",
   "id": "6b35a619-a6cb-4053-b561-d8ad3ab2218b",
   "metadata": {
    "tags": []
   },
   "source": [
    "#### Top 10 Profiting Companies"
   ]
  },
  {
   "cell_type": "code",
   "execution_count": null,
   "id": "508d3ffc-da67-4f81-b32d-3565c387af47",
   "metadata": {},
   "outputs": [],
   "source": [
    "df2_revenue.groupby([\"Ship to\"]).sum().sort_values(by=[\"Monthly Profit\"], ascending = False).head(10)"
   ]
  },
  {
   "cell_type": "markdown",
   "id": "f1b6cf8d-2d81-4770-b777-cf09a3276c3c",
   "metadata": {
    "tags": []
   },
   "source": [
    "#### Top 5 Profiting Plants"
   ]
  },
  {
   "cell_type": "code",
   "execution_count": null,
   "id": "18270215-00fb-4561-980d-10ffb9c509c9",
   "metadata": {
    "tags": []
   },
   "outputs": [],
   "source": [
    "df2_revenue[[\"Source plant\", \"State\", \"Monthly Profit\"]].groupby([\"Source plant\", \"State\"]).sum().sort_values(by=[\"Monthly Profit\"], ascending = False).head()"
   ]
  },
  {
   "cell_type": "markdown",
   "id": "aa0094c6-1249-4b0b-aaec-9eb06515828b",
   "metadata": {},
   "source": [
    "#### Top 10 Profiting companies with their top product and material"
   ]
  },
  {
   "cell_type": "code",
   "execution_count": null,
   "id": "c5a58482-8066-433b-9440-3c93bb6377aa",
   "metadata": {},
   "outputs": [],
   "source": [
    "df2_revenue.groupby([\"Ship to\", \"Product line\", \"Material\"]).sum().sort_values(by=[\"Monthly Profit\"], ascending = False).head(10)"
   ]
  },
  {
   "cell_type": "markdown",
   "id": "5c2d7e63-1816-4c31-9c50-04d08d6f3b91",
   "metadata": {},
   "source": [
    "## **Profitability 2020 Dataset**"
   ]
  },
  {
   "cell_type": "markdown",
   "id": "7d361023-db3c-44d4-8879-37049b5aa0b8",
   "metadata": {
    "tags": []
   },
   "source": [
    "### Map CSV 2020"
   ]
  },
  {
   "cell_type": "code",
   "execution_count": null,
   "id": "532b0272-9651-4dbe-b16a-44a41bd7afd2",
   "metadata": {},
   "outputs": [],
   "source": [
    "df3 = pd.read_csv('Profitability_2020.csv')"
   ]
  },
  {
   "cell_type": "markdown",
   "id": "62e0b9fe-1064-42e6-84ed-e449f88bbdfa",
   "metadata": {},
   "source": [
    "### Explore Data"
   ]
  },
  {
   "cell_type": "code",
   "execution_count": null,
   "id": "1a40513d-320d-4eba-ad43-1032b4ab419e",
   "metadata": {},
   "outputs": [],
   "source": [
    "df3.info()"
   ]
  },
  {
   "cell_type": "code",
   "execution_count": null,
   "id": "4daa47db-f117-490e-8edf-b8b10a8fc1ef",
   "metadata": {},
   "outputs": [],
   "source": [
    "df3.head()"
   ]
  },
  {
   "cell_type": "code",
   "execution_count": null,
   "id": "c8c6e1fc-342e-4a8f-85d6-78b3ae82738b",
   "metadata": {},
   "outputs": [],
   "source": [
    "df3[\"Product line\"].value_counts()"
   ]
  },
  {
   "cell_type": "code",
   "execution_count": null,
   "id": "26d9b82b-0b8e-4a51-8670-09e94b3ae367",
   "metadata": {},
   "outputs": [],
   "source": [
    "print(sorted(df3.columns.values.tolist()))"
   ]
  },
  {
   "cell_type": "code",
   "execution_count": null,
   "id": "e73e8b72-56bb-46fe-9659-c2ab1ea5ee95",
   "metadata": {},
   "outputs": [],
   "source": [
    "df3 = df3.rename(columns = {\"Deparment/State customer\": \"State\", \"Actual accumulated closing month Company Cur\": \"Monthly Profit\"})"
   ]
  },
  {
   "cell_type": "code",
   "execution_count": null,
   "id": "8cc52822-58d2-45c6-ae18-530aab88d9f5",
   "metadata": {},
   "outputs": [],
   "source": [
    "pd.set_option('display.float_format', lambda x: '%.3f' % x)"
   ]
  },
  {
   "cell_type": "markdown",
   "id": "6a8b8b40-db27-4a18-9c37-d552f5d2b072",
   "metadata": {},
   "source": [
    "### Run Queries for Profitability 2020"
   ]
  },
  {
   "cell_type": "markdown",
   "id": "84c03635-13d6-471b-882b-6eecbadef684",
   "metadata": {
    "tags": []
   },
   "source": [
    "#### Top 5 Profiting States"
   ]
  },
  {
   "cell_type": "code",
   "execution_count": null,
   "id": "b21bd2bc-e031-433d-9b45-bfded99a1727",
   "metadata": {},
   "outputs": [],
   "source": [
    "df3[[\"State\", \"Monthly Profit\"]].groupby([\"State\"]).sum().sort_values(by=[\"Monthly Profit\"], ascending = False).head()"
   ]
  },
  {
   "cell_type": "markdown",
   "id": "f2a8de7f-f335-4295-8fe0-f1794213412a",
   "metadata": {
    "tags": []
   },
   "source": [
    "#### Top 5 Profiting Plants"
   ]
  },
  {
   "cell_type": "code",
   "execution_count": null,
   "id": "54ec00b6-fcb9-411e-b9cf-edfaa511ecd8",
   "metadata": {
    "tags": []
   },
   "outputs": [],
   "source": [
    "df3[[\"Source plant\", \"State\", \"Monthly Profit\"]].groupby([\"Source plant\", \"State\"]).sum().sort_values(by=[\"Monthly Profit\"], ascending = False).head()"
   ]
  },
  {
   "cell_type": "markdown",
   "id": "188430b5-d412-4170-ae8f-068fcf006d73",
   "metadata": {},
   "source": [
    "#### Top 5 Profiting States by Material"
   ]
  },
  {
   "cell_type": "code",
   "execution_count": null,
   "id": "3d2b4b63-9ee5-4653-b6f7-f8c2698178a9",
   "metadata": {},
   "outputs": [],
   "source": [
    "df3.groupby([\"State\", \"Material\"]).sum().sort_values(by=[\"Monthly Profit\"], ascending = False).head()"
   ]
  },
  {
   "cell_type": "code",
   "execution_count": null,
   "id": "659935d4-7a34-4aae-9b5a-ca48e88b4440",
   "metadata": {},
   "outputs": [],
   "source": [
    "# Install for first time\n",
    "#pip install dython\n",
    "\n",
    "import pandas as pd\n",
    "import seaborn as sn\n",
    "import matplotlib.pyplot as plt\n",
    "from dython.nominal import associations\n",
    "from dython.nominal import identify_nominal_columns"
   ]
  },
  {
   "cell_type": "code",
   "execution_count": null,
   "id": "a9ba5508-7d44-42f4-80e4-4f706a54ec01",
   "metadata": {},
   "outputs": [],
   "source": [
    "categorical_features=identify_nominal_columns(df3)\n"
   ]
  },
  {
   "cell_type": "code",
   "execution_count": null,
   "id": "5c88ecef-4814-4d8c-8e17-e678c40c0198",
   "metadata": {
    "tags": []
   },
   "outputs": [],
   "source": [
    "df3 = df3.drop(['Source plant Key', 'Product Packaging Key', 'Plant Key',\n",
    "       'Transaction Type Key', 'Sales office customer Key',\n",
    "       'Deparment/State customer Key', 'Product line Key', 'Material Key',\n",
    "       'Profit Center Key', 'Profit Center Zone Key', 'Ship to Key',\n",
    "       'City ship to Key', 'Shipping Conditions Key',\n",
    "       'Sales office ship to Key', 'Fiscal year/period Key', 'Deparment/State ship to Key', 'Presentation pack Key',\n",
    "       'Product type Key', 'Incoterms Key'], axis = 1)"
   ]
  },
  {
   "cell_type": "code",
   "execution_count": null,
   "id": "745aac79-165f-4c91-82ae-a2753747634c",
   "metadata": {},
   "outputs": [],
   "source": [
    "#complete_correlation= associations(df3, filename= 'complete_correlation.png', figsize=(5,5))"
   ]
  },
  {
   "cell_type": "code",
   "execution_count": null,
   "id": "f1840f79-0b27-44a5-8b98-fca0e7188850",
   "metadata": {
    "tags": []
   },
   "outputs": [],
   "source": [
    "#df3_complete_corr=complete_correlation['corr']\n",
    "#df3_complete_corr.style.background_gradient(cmap='coolwarm', axis=None).set_precision(2)"
   ]
  },
  {
   "cell_type": "markdown",
   "id": "720436a4-6479-48ed-9adc-f037c503bba5",
   "metadata": {},
   "source": [
    "### Filter for Customers with Revenue, Net Revenue, and EBITDA"
   ]
  },
  {
   "cell_type": "code",
   "execution_count": null,
   "id": "6bea58e2-282e-4501-81e0-6af99fb35b68",
   "metadata": {},
   "outputs": [],
   "source": [
    "df3_revenue = df3[df3.Totals.isin([\"REVENUE\", \"NET REVENUE\", \"EBITDA\"])]"
   ]
  },
  {
   "cell_type": "code",
   "execution_count": null,
   "id": "5a8cf4a5-3273-4da6-8c80-5faff8585711",
   "metadata": {
    "tags": []
   },
   "outputs": [],
   "source": [
    "#complete_correlation= associations(df3_revenue, filename= 'complete_correlation.png', figsize=(5,5))"
   ]
  },
  {
   "cell_type": "code",
   "execution_count": null,
   "id": "b4a08617-519c-4739-b0c0-68ea6a79b1ec",
   "metadata": {},
   "outputs": [],
   "source": [
    "#df3_complete_corr=complete_correlation['corr']\n",
    "#df3_complete_corr.style.background_gradient(cmap='coolwarm', axis=None).set_precision(2)"
   ]
  },
  {
   "cell_type": "markdown",
   "id": "fe5f3cf2-11ef-453a-9c54-de2f4a3e963b",
   "metadata": {},
   "source": [
    "### Run Queries with new filtered dataset 2020"
   ]
  },
  {
   "cell_type": "code",
   "execution_count": null,
   "id": "49d0eb2a-54ca-495d-882e-2ded403ba06c",
   "metadata": {},
   "outputs": [],
   "source": [
    "df3_revenue.info()"
   ]
  },
  {
   "cell_type": "markdown",
   "id": "3faca1f6-6236-4d08-bcb2-a56e5965c3cd",
   "metadata": {
    "tags": []
   },
   "source": [
    "#### Top 5 Profiting States"
   ]
  },
  {
   "cell_type": "code",
   "execution_count": null,
   "id": "5200687e-f349-4cdb-9886-749499e43b10",
   "metadata": {},
   "outputs": [],
   "source": [
    "df3_revenue[[\"State\", \"Monthly Profit\"]].groupby([\"State\"]).sum().sort_values(by=[\"Monthly Profit\"], ascending = False).head()"
   ]
  },
  {
   "cell_type": "markdown",
   "id": "c7fb499a-7bf2-4936-ba91-cd82dd92493a",
   "metadata": {
    "tags": []
   },
   "source": [
    "#### Top 5 Profiting Plants"
   ]
  },
  {
   "cell_type": "code",
   "execution_count": null,
   "id": "eb7f63fe-a987-4fc1-893b-39f6fe631b31",
   "metadata": {
    "tags": []
   },
   "outputs": [],
   "source": [
    "df3_revenue[[\"Source plant\", \"State\", \"Monthly Profit\"]].groupby([\"Source plant\", \"State\"]).sum().sort_values(by=[\"Monthly Profit\"], ascending = False).head()"
   ]
  },
  {
   "cell_type": "markdown",
   "id": "d571a6ea-8ba3-4e80-8456-92b940def18a",
   "metadata": {},
   "source": [
    "#### Top 5 Profiting Companies with top material"
   ]
  },
  {
   "cell_type": "code",
   "execution_count": null,
   "id": "75a18be2-4099-4d95-8f7b-ec7a2338e22c",
   "metadata": {
    "tags": []
   },
   "outputs": [],
   "source": [
    "df3_revenue.groupby([\"Ship to\", \"Material\"]).sum().sort_values(by=[\"Monthly Profit\"], ascending = False).head()"
   ]
  },
  {
   "cell_type": "markdown",
   "id": "eab800cd-8665-42fb-ae48-d9f65ff5860b",
   "metadata": {
    "tags": []
   },
   "source": [
    "## **Accounts Workbook**\n",
    "> ### *\"Account_USA\"*"
   ]
  },
  {
   "cell_type": "markdown",
   "id": "dd1af18d-12ec-4c81-a472-397c663c3e69",
   "metadata": {
    "tags": []
   },
   "source": [
    "### Create Dataframe from CSV"
   ]
  },
  {
   "cell_type": "code",
   "execution_count": 124,
   "id": "afc3c0e2-81a6-4259-8d74-603e0f6e71b8",
   "metadata": {
    "tags": []
   },
   "outputs": [],
   "source": [
    "df = pd.read_csv('Account_USA.csv')"
   ]
  },
  {
   "cell_type": "markdown",
   "id": "35f2f773-15e5-43e6-ad50-3a1662936551",
   "metadata": {},
   "source": [
    "### Explore Data"
   ]
  },
  {
   "cell_type": "code",
   "execution_count": 177,
   "id": "6531e1e5-c7cb-41eb-889e-6ce63b9e01b1",
   "metadata": {},
   "outputs": [
    {
     "name": "stdout",
     "output_type": "stream",
     "text": [
      "<class 'pandas.core.frame.DataFrame'>\n",
      "RangeIndex: 14904 entries, 0 to 14903\n",
      "Data columns (total 55 columns):\n",
      " #   Column                           Non-Null Count  Dtype  \n",
      "---  ------                           --------------  -----  \n",
      " 0   Id                               14904 non-null  object \n",
      " 1   Name                             14904 non-null  object \n",
      " 2   RecordTypeId                     14904 non-null  object \n",
      " 3   ParentId                         9322 non-null   object \n",
      " 4   BillingStreet                    14886 non-null  object \n",
      " 5   BillingCity                      14890 non-null  object \n",
      " 6   BillingState                     14888 non-null  object \n",
      " 7   BillingPostalCode                14883 non-null  object \n",
      " 8   BillingCountry                   14869 non-null  object \n",
      " 9   Phone                            3031 non-null   object \n",
      " 10  Fax                              551 non-null    object \n",
      " 11  AccountNumber                    14815 non-null  object \n",
      " 12  Website                          34 non-null     object \n",
      " 13  Ownership                        176 non-null    object \n",
      " 14  Description                      99 non-null     object \n",
      " 15  OwnerId                          14904 non-null  object \n",
      " 16  CreatedDate                      14904 non-null  object \n",
      " 17  CreatedById                      14904 non-null  object \n",
      " 18  LastModifiedDate                 14904 non-null  object \n",
      " 19  LastModifiedById                 14904 non-null  object \n",
      " 20  SystemModstamp                   14904 non-null  object \n",
      " 21  LastActivityDate                 638 non-null    object \n",
      " 22  IsPersonAccount                  14904 non-null  bool   \n",
      " 23  Status__c                        14815 non-null  object \n",
      " 24  Cell_Phone__c                    1153 non-null   object \n",
      " 25  Business_Unit__c                 14904 non-null  object \n",
      " 26  Pay_Condition__c                 3731 non-null   object \n",
      " 27  SAP_Code__c                      14815 non-null  object \n",
      " 28  SAP_Code_by_Sale_Org__c          14815 non-null  object \n",
      " 29  Sales_Organization__c            14904 non-null  object \n",
      " 30  Search_Term_2__c                 14904 non-null  object \n",
      " 31  Tax_Id__c                        84 non-null     object \n",
      " 32  eMail__c                         2582 non-null   object \n",
      " 33  Key_Account__c                   14904 non-null  bool   \n",
      " 34  No_of_Silos__c                   249 non-null    float64\n",
      " 35  No_of_Trucks__c                  153 non-null    float64\n",
      " 36  Billing_County__c                2910 non-null   object \n",
      " 37  District_Division__c             14904 non-null  object \n",
      " 38  Segment__c                       14811 non-null  object \n",
      " 39  Channel__c                       14878 non-null  object \n",
      " 40  Sub_Channel__c                   14798 non-null  object \n",
      " 41  Sales_Group__c                   14891 non-null  object \n",
      " 42  Sales_Office__c                  14818 non-null  object \n",
      " 43  Is_RMX_Generic_Account__c        14904 non-null  bool   \n",
      " 44  Difference__c                    14904 non-null  bool   \n",
      " 45  Is_Generic_Account__c            14904 non-null  bool   \n",
      " 46  ID_Salesforce__c                 14904 non-null  object \n",
      " 47  Ship__c                          11872 non-null  object \n",
      " 48  Data_Quality_Description__c      14904 non-null  object \n",
      " 49  Data_Quality_Score__c            14904 non-null  int64  \n",
      " 50  Operational_Standing__c          5258 non-null   object \n",
      " 51  Price_Increase_Contact__pc       14904 non-null  bool   \n",
      " 52  Argos_ONE_RMX_Account_Admin__pc  14904 non-null  bool   \n",
      " 53  Data_Quality_Description__pc     14904 non-null  object \n",
      " 54  Data_Quality_Score__pc           14904 non-null  int64  \n",
      "dtypes: bool(7), float64(2), int64(2), object(44)\n",
      "memory usage: 5.6+ MB\n"
     ]
    }
   ],
   "source": [
    "df.info()"
   ]
  },
  {
   "cell_type": "code",
   "execution_count": null,
   "id": "394f792d-0d19-4924-822d-5029446c99a2",
   "metadata": {
    "tags": []
   },
   "outputs": [],
   "source": [
    "df.head()"
   ]
  },
  {
   "cell_type": "code",
   "execution_count": null,
   "id": "fed33a86-0d1e-42dd-88ca-082fb05024f5",
   "metadata": {},
   "outputs": [],
   "source": [
    "df.describe()"
   ]
  },
  {
   "cell_type": "code",
   "execution_count": null,
   "id": "096d4406-5342-4cb8-b2a9-6985cb1ada29",
   "metadata": {},
   "outputs": [],
   "source": [
    "df.describe(include = \"object\")"
   ]
  },
  {
   "cell_type": "markdown",
   "id": "a26a63f1-9674-4fcd-b5d8-41612a7dd337",
   "metadata": {},
   "source": [
    "### Drop all columns with no values"
   ]
  },
  {
   "cell_type": "code",
   "execution_count": 125,
   "id": "aa80f509-7c51-4bcf-b15c-2ff0302653f6",
   "metadata": {
    "tags": []
   },
   "outputs": [],
   "source": [
    "df = df.dropna(axis = 1, how = 'all')"
   ]
  },
  {
   "cell_type": "code",
   "execution_count": null,
   "id": "4bf416b0-d1d4-4e56-b394-295cdb35efab",
   "metadata": {},
   "outputs": [],
   "source": [
    "df.info()"
   ]
  },
  {
   "cell_type": "code",
   "execution_count": null,
   "id": "256d34f4-624a-4149-b5c7-86d9d199d123",
   "metadata": {
    "tags": []
   },
   "outputs": [],
   "source": [
    "pd.set_option(\"max_columns\", None)\n",
    "pd.set_option(\"max_rows\", None)\n",
    "df.head()"
   ]
  },
  {
   "cell_type": "code",
   "execution_count": 126,
   "id": "bb5535f7-b087-4d8b-aab5-e31ce0637249",
   "metadata": {},
   "outputs": [
    {
     "data": {
      "text/plain": [
       "array(['Customer', False, 'Cement'], dtype=object)"
      ]
     },
     "execution_count": 126,
     "metadata": {},
     "output_type": "execute_result"
    }
   ],
   "source": [
    "pd.concat([df[\"Type\"], df[\"IsDeleted\"], df[\"IsPersonAccount\"], df[\"Business_Unit__c\"]]).unique()"
   ]
  },
  {
   "cell_type": "markdown",
   "id": "4e085040-f35c-46ae-8582-b6efe9ba6eae",
   "metadata": {},
   "source": [
    "#### Above columns only have 1 value. Stopped exploring after business unit "
   ]
  },
  {
   "cell_type": "code",
   "execution_count": 127,
   "id": "276fb658-f317-40fa-b082-b6b1c805e60e",
   "metadata": {},
   "outputs": [],
   "source": [
    "df = df.drop([\"IsDeleted\", \"Type\"], axis =1)"
   ]
  },
  {
   "cell_type": "code",
   "execution_count": null,
   "id": "761c24d3-57ba-48e6-a607-bf6354247456",
   "metadata": {},
   "outputs": [],
   "source": [
    "df.info()"
   ]
  },
  {
   "cell_type": "code",
   "execution_count": null,
   "id": "dbc7bdb9-3bc7-4670-b1ac-816595fb59a8",
   "metadata": {
    "tags": []
   },
   "outputs": [],
   "source": [
    "#!pip install pandoc\n",
    "#import pandoc"
   ]
  },
  {
   "cell_type": "code",
   "execution_count": null,
   "id": "2e76becc-ab19-467d-a83b-ef63de925f9c",
   "metadata": {},
   "outputs": [],
   "source": [
    "df[\"Segment__c\"].str.strip()"
   ]
  },
  {
   "cell_type": "code",
   "execution_count": 178,
   "id": "dd378f34-e773-4f4a-89e2-68ddf11847db",
   "metadata": {},
   "outputs": [],
   "source": [
    "customer_type = df[\"Channel__c\"].value_counts()"
   ]
  },
  {
   "cell_type": "code",
   "execution_count": 179,
   "id": "0f075d46-4ff4-41ea-91f5-cfdc5ec3a646",
   "metadata": {},
   "outputs": [
    {
     "data": {
      "text/plain": [
       "<AxesSubplot:title={'center':'Customer Type'}>"
      ]
     },
     "execution_count": 179,
     "metadata": {},
     "output_type": "execute_result"
    },
    {
     "data": {
      "image/png": "[encoded data removed]",
      "text/plain": [
       "<Figure size 432x288 with 1 Axes>"
      ]
     },
     "metadata": {
      "needs_background": "light"
     },
     "output_type": "display_data"
    }
   ],
   "source": [
    "customer_type.plot(kind='bar', stacked=True, title = \"Customer Type\")"
   ]
  },
  {
   "cell_type": "code",
   "execution_count": null,
   "id": "82e8baf8-8a80-4056-937e-31ca55a2ec60",
   "metadata": {},
   "outputs": [],
   "source": [
    "df['Segment__c'].value_counts().hist(bins=80,ec='black',grid=False,color=\"red\")"
   ]
  },
  {
   "cell_type": "markdown",
   "id": "c5a903e5-3d59-4da9-a4ff-36a4f6cfa4f2",
   "metadata": {},
   "source": [
    "## Combing datasets"
   ]
  },
  {
   "cell_type": "code",
   "execution_count": null,
   "id": "04b7f16e-9dc3-49a9-ae9c-06075986f67b",
   "metadata": {},
   "outputs": [],
   "source": [
    "df = df.rename(columns= {\"AccountNumber\":\"Customer Key\"})"
   ]
  },
  {
   "cell_type": "code",
   "execution_count": null,
   "id": "2acf9b46-b7b0-4e7c-be5a-009733c2f0d2",
   "metadata": {},
   "outputs": [],
   "source": [
    "#Combine Profitability 2021 and Accounts\n",
    "df4 =pd.merge(df2_revenue,df,on='Customer Key',how=\"left\")"
   ]
  },
  {
   "cell_type": "code",
   "execution_count": null,
   "id": "e8da5a5e-516d-4b6f-b6c7-d8a13f56c466",
   "metadata": {},
   "outputs": [],
   "source": [
    "#Combine all three\n",
    "df4.info()"
   ]
  },
  {
   "cell_type": "code",
   "execution_count": null,
   "id": "3e323e23-319a-4e4c-87e0-84ca76235854",
   "metadata": {},
   "outputs": [],
   "source": [
    "df4.columns.tolist()"
   ]
  },
  {
   "cell_type": "code",
   "execution_count": null,
   "id": "ce4c2d05-b8d7-45aa-a889-cf299c3b7ad0",
   "metadata": {},
   "outputs": [],
   "source": [
    "df4 = df4.drop([ 'RecordTypeId', 'ParentId', 'BillingStreet', 'BillingPostalCode', 'BillingCountry','Phone','Fax','Website','CreatedDate',\n",
    "                'CreatedById', 'LastModifiedDate', 'LastModifiedById', 'SystemModstamp', 'LastActivityDate','IsPersonAccount',\n",
    "                'Cell_Phone__c', 'SAP_Code__c','SAP_Code_by_Sale_Org__c','Tax_Id__c', 'Billing_County__c','Data_Quality_Score__c',\n",
    "                'Operational_Standing__c','Price_Increase_Contact__pc','Argos_ONE_RMX_Account_Admin__pc','Data_Quality_Score__pc',\n",
    "                'Ownership', 'Description', 'eMail__c', 'Key_Account__c', 'No_of_Silos__c', 'No_of_Trucks__c', 'Is_RMX_Generic_Account__c',\n",
    "                'Difference__c', 'Is_Generic_Account__c', 'Ship__c','Data_Quality_Description__c','Data_Quality_Description__pc', \n",
    "               \"BillingState\", \"Status__c\", \"ID_Salesforce__c\", \"OwnerId\", \"Id\"], axis = 1)"
   ]
  },
  {
   "cell_type": "code",
   "execution_count": null,
   "id": "04568030-4821-4dcc-99c7-b396ee63eb43",
   "metadata": {},
   "outputs": [],
   "source": [
    "df4.head()"
   ]
  },
  {
   "cell_type": "markdown",
   "id": "1b85cd19-97d1-4c09-bb26-b73467da58fb",
   "metadata": {},
   "source": [
    "## Run Queries "
   ]
  },
  {
   "cell_type": "markdown",
   "id": "a3b7cf61-9b2c-417c-9108-a3457257a7c1",
   "metadata": {},
   "source": [
    "#### Top Profiting Types of Buyers"
   ]
  },
  {
   "cell_type": "code",
   "execution_count": null,
   "id": "c3879369-62e5-4f94-a9e6-40cf5d48397b",
   "metadata": {},
   "outputs": [],
   "source": [
    "pd.set_option('display.float_format', lambda x: '%.3f' % x)\n",
    "df4.groupby([\"Segment__c\"]).sum().sort_values(by=[\"Monthly Profit\"], ascending = False).head(10)"
   ]
  },
  {
   "cell_type": "code",
   "execution_count": null,
   "id": "95ee59c2-e1a4-4ec1-9f3f-6a2a1547b899",
   "metadata": {},
   "outputs": [],
   "source": [
    "#clean data\n",
    "#It's not stripping the spaces for some reason\n",
    "#df4[\"Segment__c\"].str.strip()"
   ]
  },
  {
   "cell_type": "markdown",
   "id": "224fe458-a58a-4736-8170-7abf59170daf",
   "metadata": {},
   "source": [
    "#### Top 5 Profiting Plants"
   ]
  },
  {
   "cell_type": "code",
   "execution_count": null,
   "id": "003d7eee-4609-4c29-b91c-a93f66baf230",
   "metadata": {},
   "outputs": [],
   "source": [
    "df4[[\"Source plant\", \"State\", \"Monthly Profit\"]].groupby([\"Source plant\", \"State\"]).sum().sort_values(by=[\"Monthly Profit\"], ascending = False).head()"
   ]
  },
  {
   "cell_type": "markdown",
   "id": "8eec760c-5f7c-421d-9486-d735ed722a0c",
   "metadata": {},
   "source": [
    "#### Top Product Packaging by Profit"
   ]
  },
  {
   "cell_type": "code",
   "execution_count": null,
   "id": "2eaa8435-0043-4b6f-8253-391a634c7292",
   "metadata": {},
   "outputs": [],
   "source": [
    "df4.groupby([\"Product Packaging\"]).sum().sort_values(by=[\"Monthly Profit\"], ascending = False).head()"
   ]
  },
  {
   "cell_type": "markdown",
   "id": "c7a39315-f377-4233-bbf4-e8f119a31a1b",
   "metadata": {},
   "source": [
    "#### Top Product Line by Profit"
   ]
  },
  {
   "cell_type": "code",
   "execution_count": null,
   "id": "f29e0e5d-00d3-4b26-8cef-3baf79e8867a",
   "metadata": {
    "tags": []
   },
   "outputs": [],
   "source": [
    "df4.groupby([\"Product line\"]).sum().sort_values(by=[\"Monthly Profit\"], ascending = False).head()"
   ]
  },
  {
   "cell_type": "markdown",
   "id": "6ce11bf5-e23e-4872-9df2-be3e60482710",
   "metadata": {},
   "source": [
    "#### Top 5 Profiting States by Material"
   ]
  },
  {
   "cell_type": "code",
   "execution_count": null,
   "id": "44e2bff6-8282-4927-8493-bda1f0977d07",
   "metadata": {},
   "outputs": [],
   "source": [
    "df4.groupby([\"State\", \"Material\"]).sum().sort_values(by=[\"Monthly Profit\"], ascending = False).head()"
   ]
  },
  {
   "cell_type": "markdown",
   "id": "aa004edc-f378-43c8-9b40-9145989ac946",
   "metadata": {},
   "source": [
    "#### Top 5 Profiting \"Ship to\" Companies & their Segment type"
   ]
  },
  {
   "cell_type": "code",
   "execution_count": null,
   "id": "db5fea15-461c-40cd-b2a5-794908413757",
   "metadata": {},
   "outputs": [],
   "source": [
    "df4.groupby([\"Ship to\", \"Segment__c\"]).sum().sort_values(by=[\"Monthly Profit\"], ascending = False).head()"
   ]
  },
  {
   "cell_type": "markdown",
   "id": "9052890c-e8c1-46fc-9451-5bf2356a4f97",
   "metadata": {},
   "source": [
    "#### Top 5 Profiting by Customer Key & their Name "
   ]
  },
  {
   "cell_type": "code",
   "execution_count": null,
   "id": "2850dbbf-857d-4e38-9ea3-a7f0b7e7742f",
   "metadata": {},
   "outputs": [],
   "source": [
    "df4.groupby([\"Customer Key\", \"Name\"]).sum().sort_values(by=[\"Monthly Profit\"], ascending = False).head()"
   ]
  },
  {
   "cell_type": "markdown",
   "id": "ed7e87c1-f2f0-4aca-831e-5f91e806b6c9",
   "metadata": {},
   "source": [
    "## Run Correlation Matrix"
   ]
  },
  {
   "cell_type": "markdown",
   "id": "237cb744-feb6-4923-9d2d-2bbdad436084",
   "metadata": {},
   "source": [
    "##### Source for correlation matrix\n",
    "https://blog.knoldus.com/how-to-find-correlation-value-of-categorical-variables/"
   ]
  },
  {
   "cell_type": "code",
   "execution_count": null,
   "id": "e951c498-bfee-462d-884d-957b4ccb4c7e",
   "metadata": {
    "tags": []
   },
   "outputs": [],
   "source": [
    "# Install for first time\n",
    "#pip install dython\n",
    "\n",
    "import pandas as pd\n",
    "import seaborn as sn\n",
    "import matplotlib.pyplot as plt\n",
    "from dython.nominal import associations\n",
    "from dython.nominal import identify_nominal_columns\n",
    "from dython.nominal import associations"
   ]
  },
  {
   "cell_type": "code",
   "execution_count": null,
   "id": "e11557a6-a744-40d6-a171-ab7d5a34b492",
   "metadata": {},
   "outputs": [],
   "source": [
    "categorical_features=identify_nominal_columns(df4)"
   ]
  },
  {
   "cell_type": "code",
   "execution_count": null,
   "id": "71595613-dfde-4989-b171-bfcbcc1d8776",
   "metadata": {},
   "outputs": [],
   "source": [
    "complete_correlation= associations(df4, filename= 'complete_correlation.png', figsize=(2,2))"
   ]
  },
  {
   "cell_type": "code",
   "execution_count": null,
   "id": "a1ea52bd-3d8b-4eb4-8a82-d31fd8ed8ce7",
   "metadata": {
    "tags": []
   },
   "outputs": [],
   "source": [
    "df4_complete_corr=complete_correlation['corr']\n",
    "df4_complete_corr.style.background_gradient(cmap='coolwarm', axis=None).set_precision(2)"
   ]
  },
  {
   "cell_type": "code",
   "execution_count": null,
   "id": "750915db-a2ae-4439-83ef-40083767a7de",
   "metadata": {},
   "outputs": [],
   "source": []
  },
  {
   "cell_type": "code",
   "execution_count": null,
   "id": "48ffe5ab-a514-436d-b917-1de63f0e42f9",
   "metadata": {},
   "outputs": [],
   "source": []
  }
 ],
 "metadata": {
  "kernelspec": {
   "display_name": "Python 3 (ipykernel)",
   "language": "python",
   "name": "python3"
  },
  "language_info": {
   "codemirror_mode": {
    "name": "ipython",
    "version": 3
   },
   "file_extension": ".py",
   "mimetype": "text/x-python",
   "name": "python",
   "nbconvert_exporter": "python",
   "pygments_lexer": "ipython3",
   "version": "3.9.7"
  }
 },
 "nbformat": 4,
 "nbformat_minor": 5
}
