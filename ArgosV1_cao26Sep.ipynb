{
 "cells": [
  {
   "cell_type": "markdown",
   "id": "conceptual-arbitration",
   "metadata": {},
   "source": [
    "# Argos Capstone Project"
   ]
  },
  {
   "cell_type": "markdown",
   "id": "0d9381e7-cd53-4c83-b676-9536164d95f8",
   "metadata": {},
   "source": [
    "## **First Workbook**\n",
    "> ### *\"Account_USA - AK\"*"
   ]
  },
  {
   "cell_type": "markdown",
   "id": "c68e2777-b42d-4fef-892e-2bd03018fafd",
   "metadata": {},
   "source": [
    "##### Set working directory and import libraries"
   ]
  },
  {
   "cell_type": "code",
   "execution_count": 1,
   "id": "45b165c9-351a-43f1-99fe-7840a3b2daaf",
   "metadata": {},
   "outputs": [],
   "source": [
    "import os\n",
    "os.getcwd()\n",
    "os.chdir('/Users/brandonmorgeson/Desktop/Capstone')"
   ]
  },
  {
   "cell_type": "code",
   "execution_count": 2,
   "id": "bf375059-eebf-4726-990e-3b92838fce74",
   "metadata": {},
   "outputs": [],
   "source": [
    "import numpy as np \n",
    "import pandas as pd \n",
    "import openpyxl as op"
   ]
  },
  {
   "cell_type": "markdown",
   "id": "71d234a5-0d3e-4dbd-a51a-a401d221c850",
   "metadata": {
    "tags": []
   },
   "source": [
    "### Map Excel Workbook"
   ]
  },
  {
   "cell_type": "code",
   "execution_count": 123,
   "id": "1390a332-921d-4354-958e-3a7cfe67f0af",
   "metadata": {
    "tags": []
   },
   "outputs": [],
   "source": [
    "xlsx_usa = pd.ExcelFile('Account_USA - AK.xlsx')"
   ]
  },
  {
   "cell_type": "markdown",
   "id": "3afac087-0eaa-4bc6-9017-9793807d5eb6",
   "metadata": {},
   "source": [
    "#### Get Excel Worksheet Names"
   ]
  },
  {
   "cell_type": "code",
   "execution_count": 124,
   "id": "fbe1d86d-a7e1-4f68-bec5-ee68ea044e31",
   "metadata": {
    "tags": []
   },
   "outputs": [],
   "source": [
    "sheet_names_ = xlsx_usa.sheet_names"
   ]
  },
  {
   "cell_type": "code",
   "execution_count": 125,
   "id": "218bb6c2-07cd-4bbb-9abc-7e4d096cda23",
   "metadata": {},
   "outputs": [
    {
     "data": {
      "text/plain": [
       "['Account_USA',\n",
       " 'Data',\n",
       " 'Pivot',\n",
       " 'Top 8',\n",
       " 'District Division Total',\n",
       " 'Segment Total',\n",
       " 'Chanel Total',\n",
       " 'Top Customers - Parent ID',\n",
       " 'Parent ID and Customer',\n",
       " 'Useless Columns',\n",
       " 'Questions']"
      ]
     },
     "execution_count": 125,
     "metadata": {},
     "output_type": "execute_result"
    }
   ],
   "source": [
    "sheet_names_"
   ]
  },
  {
   "cell_type": "code",
   "execution_count": 127,
   "id": "08178eb9-669e-4cb4-a66d-81387658c6fc",
   "metadata": {},
   "outputs": [
    {
     "data": {
      "text/plain": [
       "11"
      ]
     },
     "execution_count": 127,
     "metadata": {},
     "output_type": "execute_result"
    }
   ],
   "source": [
    "len(sheet_names_)"
   ]
  },
  {
   "cell_type": "markdown",
   "id": "4c952929-82b3-4460-8c9a-adb9cede2a05",
   "metadata": {},
   "source": [
    "### Create dataframe for worksheet"
   ]
  },
  {
   "cell_type": "markdown",
   "id": "e389be83-5a95-4471-81fe-bc5b0622071a",
   "metadata": {},
   "source": [
    "##### *Worksheet 1 \"Account_USA\"*"
   ]
  },
  {
   "cell_type": "code",
   "execution_count": 128,
   "id": "127d8ce7-e938-48ad-a360-73bb6604c27f",
   "metadata": {},
   "outputs": [],
   "source": [
    "_df = pd.read_excel(xlsx_usa, sheet_names_[0])"
   ]
  },
  {
   "cell_type": "markdown",
   "id": "913bd381-0b8d-4c96-abcb-76ce3f59b1d7",
   "metadata": {},
   "source": [
    "##### *Worksheet 2 \"Data\"*"
   ]
  },
  {
   "cell_type": "code",
   "execution_count": 129,
   "id": "f5dcedc3-c4b6-4d6f-882d-1e660ac73100",
   "metadata": {
    "tags": []
   },
   "outputs": [],
   "source": [
    "_df1 = pd.read_excel(xlsx_usa, sheet_names_[1])"
   ]
  },
  {
   "cell_type": "markdown",
   "id": "6d715b12-6073-482e-be64-48aa879656bc",
   "metadata": {},
   "source": [
    "##### *Worksheet 3 \"Pivot\"*"
   ]
  },
  {
   "cell_type": "code",
   "execution_count": 130,
   "id": "080b0b2c-b312-458e-b926-08d50f46d1f3",
   "metadata": {},
   "outputs": [],
   "source": [
    "_df2 = pd.read_excel(xlsx_usa, sheet_names_[2])"
   ]
  },
  {
   "cell_type": "markdown",
   "id": "001c8561-2cc1-4e44-af77-dfdb986e00a7",
   "metadata": {
    "tags": []
   },
   "source": [
    "##### *Worksheet 4 \"Top 8\"*"
   ]
  },
  {
   "cell_type": "code",
   "execution_count": 131,
   "id": "f6097baf-cd07-4961-a7d0-f1f0ba6d4030",
   "metadata": {},
   "outputs": [],
   "source": [
    "_df3 = pd.read_excel(xlsx_usa, sheet_names_[3])"
   ]
  },
  {
   "cell_type": "markdown",
   "id": "6eb2be54-5578-4c52-912b-9606bc5dda91",
   "metadata": {},
   "source": [
    "##### *Worksheet 5 \"District Divison Total\"*"
   ]
  },
  {
   "cell_type": "code",
   "execution_count": 132,
   "id": "3dcb8b89-a1a1-4d98-b173-15887944f77b",
   "metadata": {},
   "outputs": [],
   "source": [
    "_df4 = pd.read_excel(xlsx_usa, sheet_names_[4])"
   ]
  },
  {
   "cell_type": "markdown",
   "id": "901070eb-9963-49d5-81f1-d1e63978a071",
   "metadata": {},
   "source": [
    "##### *Worksheet 6 \"Segment Total\"*"
   ]
  },
  {
   "cell_type": "code",
   "execution_count": 133,
   "id": "00bd5130-6cea-4b53-b4d0-7cc60b5f2052",
   "metadata": {},
   "outputs": [],
   "source": [
    "_df5 = pd.read_excel(xlsx_usa, sheet_names_[5])"
   ]
  },
  {
   "cell_type": "markdown",
   "id": "4104cfae-aa42-4572-9f09-81cbbe5e3446",
   "metadata": {
    "tags": []
   },
   "source": [
    "##### *Worksheet 7 \"'Chanel Total'"
   ]
  },
  {
   "cell_type": "code",
   "execution_count": 134,
   "id": "fc2a0c3d-eb0c-47df-a949-feb81003cf45",
   "metadata": {},
   "outputs": [],
   "source": [
    "_df6 = pd.read_excel(xlsx_usa, sheet_names_[6])"
   ]
  },
  {
   "cell_type": "markdown",
   "id": "04d8c5d1-04f2-4ac6-8c44-9b08263c88df",
   "metadata": {
    "tags": []
   },
   "source": [
    "##### *Worksheet 8 \"Top Customers - Parent ID\"*"
   ]
  },
  {
   "cell_type": "code",
   "execution_count": 135,
   "id": "b1e7742a-0c45-4c97-b0e8-edb6b5f4067d",
   "metadata": {},
   "outputs": [],
   "source": [
    "_df7 = pd.read_excel(xlsx_usa, sheet_names_[7])"
   ]
  },
  {
   "cell_type": "markdown",
   "id": "1226bf99-637f-48cb-83a1-0dd867a602f0",
   "metadata": {},
   "source": [
    "##### *Worksheet 9 \"Parent ID and Customer\"*"
   ]
  },
  {
   "cell_type": "code",
   "execution_count": 136,
   "id": "01702544-3757-4132-b291-62c109e66274",
   "metadata": {},
   "outputs": [],
   "source": [
    "_df8 = pd.read_excel(xlsx_usa, sheet_names_[8])"
   ]
  },
  {
   "cell_type": "markdown",
   "id": "99306eb6-6dfa-4da0-afeb-73514fd06ecc",
   "metadata": {
    "tags": []
   },
   "source": [
    "##### *Worksheet 10 \"Useless Columns\"*"
   ]
  },
  {
   "cell_type": "code",
   "execution_count": 137,
   "id": "aa66a88b-38d1-4956-9802-99c4a09c19e1",
   "metadata": {},
   "outputs": [],
   "source": [
    "_df9 = pd.read_excel(xlsx_usa, sheet_names_[7])"
   ]
  },
  {
   "cell_type": "markdown",
   "id": "b7e8cc45-02f4-4d07-a129-d4321354fb33",
   "metadata": {},
   "source": [
    "##### *Worksheet 11 \"Questions\"*"
   ]
  },
  {
   "cell_type": "code",
   "execution_count": 138,
   "id": "1fd67528-72b7-4245-a2f3-39fce39f5d8d",
   "metadata": {},
   "outputs": [],
   "source": [
    "_df10 = pd.read_excel(xlsx_usa, sheet_names_[8])"
   ]
  },
  {
   "cell_type": "markdown",
   "id": "8becf76b-325a-4e10-ae97-bcf8513ed373",
   "metadata": {},
   "source": [
    "### Inspect Data"
   ]
  },
  {
   "cell_type": "markdown",
   "id": "9b20ac59-530c-402f-ba6d-baaed955889e",
   "metadata": {},
   "source": [
    "##### Worksheet 1"
   ]
  },
  {
   "cell_type": "code",
   "execution_count": 139,
   "id": "509b9678-f9e6-47b4-b786-a73a27cdf907",
   "metadata": {},
   "outputs": [
    {
     "name": "stdout",
     "output_type": "stream",
     "text": [
      "<class 'pandas.core.frame.DataFrame'>\n",
      "RangeIndex: 14904 entries, 0 to 14903\n",
      "Data columns (total 96 columns):\n",
      " #   Column                           Non-Null Count  Dtype  \n",
      "---  ------                           --------------  -----  \n",
      " 0   Id                               14904 non-null  object \n",
      " 1   IsDeleted                        14904 non-null  bool   \n",
      " 2   MasterRecordId                   0 non-null      float64\n",
      " 3   Name                             14904 non-null  object \n",
      " 4   LastName                         0 non-null      float64\n",
      " 5   FirstName                        0 non-null      float64\n",
      " 6   Salutation                       0 non-null      float64\n",
      " 7   Type                             14904 non-null  object \n",
      " 8   RecordTypeId                     14904 non-null  object \n",
      " 9   ParentId                         9322 non-null   object \n",
      " 10  BillingStreet                    14886 non-null  object \n",
      " 11  BillingCity                      14890 non-null  object \n",
      " 12  BillingState                     14888 non-null  object \n",
      " 13  BillingPostalCode                14883 non-null  object \n",
      " 14  BillingCountry                   14869 non-null  object \n",
      " 15  ShippingStreet                   0 non-null      float64\n",
      " 16  ShippingCity                     0 non-null      float64\n",
      " 17  ShippingState                    0 non-null      float64\n",
      " 18  ShippingPostalCode               0 non-null      float64\n",
      " 19  ShippingCountry                  0 non-null      float64\n",
      " 20  Phone                            3031 non-null   object \n",
      " 21  Fax                              551 non-null    object \n",
      " 22  AccountNumber                    14815 non-null  object \n",
      " 23  Website                          34 non-null     object \n",
      " 24  Sic                              0 non-null      float64\n",
      " 25  Industry                         0 non-null      float64\n",
      " 26  AnnualRevenue                    0 non-null      float64\n",
      " 27  NumberOfEmployees                0 non-null      float64\n",
      " 28  Ownership                        176 non-null    object \n",
      " 29  TickerSymbol                     0 non-null      float64\n",
      " 30  Description                      99 non-null     object \n",
      " 31  Rating                           0 non-null      float64\n",
      " 32  Site                             0 non-null      float64\n",
      " 33  OwnerId                          14904 non-null  object \n",
      " 34  CreatedDate                      14904 non-null  object \n",
      " 35  CreatedById                      14904 non-null  object \n",
      " 36  LastModifiedDate                 14904 non-null  object \n",
      " 37  LastModifiedById                 14904 non-null  object \n",
      " 38  SystemModstamp                   14904 non-null  object \n",
      " 39  LastActivityDate                 638 non-null    object \n",
      " 40  PersonContactId                  0 non-null      float64\n",
      " 41  IsPersonAccount                  14904 non-null  bool   \n",
      " 42  PersonMailingStreet              0 non-null      float64\n",
      " 43  PersonMailingCity                0 non-null      float64\n",
      " 44  PersonMailingState               0 non-null      float64\n",
      " 45  PersonMailingPostalCode          0 non-null      float64\n",
      " 46  PersonMailingCountry             0 non-null      float64\n",
      " 47  PersonMobilePhone                0 non-null      float64\n",
      " 48  PersonEmail                      0 non-null      float64\n",
      " 49  PersonTitle                      0 non-null      float64\n",
      " 50  PersonDepartment                 0 non-null      float64\n",
      " 51  PersonLastCURequestDate          0 non-null      float64\n",
      " 52  PersonLastCUUpdateDate           0 non-null      float64\n",
      " 53  PersonEmailBouncedReason         0 non-null      float64\n",
      " 54  PersonEmailBouncedDate           0 non-null      float64\n",
      " 55  Status__c                        14815 non-null  object \n",
      " 56  Cell_Phone__c                    1153 non-null   object \n",
      " 57  Business_Unit__c                 14904 non-null  object \n",
      " 58  Pay_Condition__c                 3731 non-null   object \n",
      " 59  SAP_Code__c                      14815 non-null  object \n",
      " 60  SAP_Code_by_Sale_Org__c          14815 non-null  object \n",
      " 61  Sales_Organization__c            14904 non-null  object \n",
      " 62  Sub_Segment__c                   0 non-null      float64\n",
      " 63  Search_Term_2__c                 14904 non-null  object \n",
      " 64  Tax_Id__c                        84 non-null     object \n",
      " 65  eMail__c                         2582 non-null   object \n",
      " 66  Key_Account__c                   14904 non-null  bool   \n",
      " 67  No_of_Silos__c                   249 non-null    float64\n",
      " 68  No_of_Trucks__c                  153 non-null    float64\n",
      " 69  Billing_County__c                2910 non-null   object \n",
      " 70  District_Division__c             14904 non-null  object \n",
      " 71  Sub_Market__c                    0 non-null      float64\n",
      " 72  Segment__c                       14811 non-null  object \n",
      " 73  Channel__c                       14878 non-null  object \n",
      " 74  Sub_Channel__c                   14798 non-null  object \n",
      " 75  Sales_Group__c                   14891 non-null  object \n",
      " 76  Sales_Office__c                  14818 non-null  object \n",
      " 77  Is_RMX_Generic_Account__c        14904 non-null  bool   \n",
      " 78  Difference__c                    14904 non-null  bool   \n",
      " 79  Is_Generic_Account__c            14904 non-null  bool   \n",
      " 80  ID_Salesforce__c                 14904 non-null  object \n",
      " 81  Ship__c                          11872 non-null  object \n",
      " 82  Data_Quality_Description__c      14904 non-null  object \n",
      " 83  Data_Quality_Score__c            14904 non-null  int64  \n",
      " 84  Operational_Standing__c          5258 non-null   object \n",
      " 85  Other_Address__pc                0 non-null      float64\n",
      " 86  Other_Phone__pc                  0 non-null      float64\n",
      " 87  Phone_Type__pc                   0 non-null      float64\n",
      " 88  Other_Phone_Type__pc             0 non-null      float64\n",
      " 89  Department__pc                   0 non-null      float64\n",
      " 90  Price_Increase_Contact__pc       14904 non-null  bool   \n",
      " 91  Argos_ONE_RMX_Account_Admin__pc  14904 non-null  bool   \n",
      " 92  Data_Quality_Description__pc     14904 non-null  object \n",
      " 93  Data_Quality_Score__pc           14904 non-null  int64  \n",
      " 94  Argos_ONE_RMX_Usage__pc          0 non-null      float64\n",
      " 95  Argos_ONE_BillPay_Usage__pc      0 non-null      float64\n",
      "dtypes: bool(8), float64(41), int64(2), object(45)\n",
      "memory usage: 10.1+ MB\n"
     ]
    }
   ],
   "source": [
    "_df.info()"
   ]
  },
  {
   "cell_type": "code",
   "execution_count": 142,
   "id": "7cbeb892-394e-4ae7-aa3b-1fdb454e6958",
   "metadata": {},
   "outputs": [
    {
     "data": {
      "text/html": [
       "<div>\n",
       "<style scoped>\n",
       "    .dataframe tbody tr th:only-of-type {\n",
       "        vertical-align: middle;\n",
       "    }\n",
       "\n",
       "    .dataframe tbody tr th {\n",
       "        vertical-align: top;\n",
       "    }\n",
       "\n",
       "    .dataframe thead th {\n",
       "        text-align: right;\n",
       "    }\n",
       "</style>\n",
       "<table border=\"1\" class=\"dataframe\">\n",
       "  <thead>\n",
       "    <tr style=\"text-align: right;\">\n",
       "      <th></th>\n",
       "      <th>MasterRecordId</th>\n",
       "      <th>LastName</th>\n",
       "      <th>FirstName</th>\n",
       "      <th>Salutation</th>\n",
       "      <th>ShippingStreet</th>\n",
       "      <th>ShippingCity</th>\n",
       "      <th>ShippingState</th>\n",
       "      <th>ShippingPostalCode</th>\n",
       "      <th>ShippingCountry</th>\n",
       "      <th>Sic</th>\n",
       "      <th>...</th>\n",
       "      <th>Sub_Market__c</th>\n",
       "      <th>Data_Quality_Score__c</th>\n",
       "      <th>Other_Address__pc</th>\n",
       "      <th>Other_Phone__pc</th>\n",
       "      <th>Phone_Type__pc</th>\n",
       "      <th>Other_Phone_Type__pc</th>\n",
       "      <th>Department__pc</th>\n",
       "      <th>Data_Quality_Score__pc</th>\n",
       "      <th>Argos_ONE_RMX_Usage__pc</th>\n",
       "      <th>Argos_ONE_BillPay_Usage__pc</th>\n",
       "    </tr>\n",
       "  </thead>\n",
       "  <tbody>\n",
       "    <tr>\n",
       "      <th>count</th>\n",
       "      <td>0.0</td>\n",
       "      <td>0.0</td>\n",
       "      <td>0.0</td>\n",
       "      <td>0.0</td>\n",
       "      <td>0.0</td>\n",
       "      <td>0.0</td>\n",
       "      <td>0.0</td>\n",
       "      <td>0.0</td>\n",
       "      <td>0.0</td>\n",
       "      <td>0.0</td>\n",
       "      <td>...</td>\n",
       "      <td>0.0</td>\n",
       "      <td>14904.000000</td>\n",
       "      <td>0.0</td>\n",
       "      <td>0.0</td>\n",
       "      <td>0.0</td>\n",
       "      <td>0.0</td>\n",
       "      <td>0.0</td>\n",
       "      <td>14904.0</td>\n",
       "      <td>0.0</td>\n",
       "      <td>0.0</td>\n",
       "    </tr>\n",
       "    <tr>\n",
       "      <th>mean</th>\n",
       "      <td>NaN</td>\n",
       "      <td>NaN</td>\n",
       "      <td>NaN</td>\n",
       "      <td>NaN</td>\n",
       "      <td>NaN</td>\n",
       "      <td>NaN</td>\n",
       "      <td>NaN</td>\n",
       "      <td>NaN</td>\n",
       "      <td>NaN</td>\n",
       "      <td>NaN</td>\n",
       "      <td>...</td>\n",
       "      <td>NaN</td>\n",
       "      <td>1.348631</td>\n",
       "      <td>NaN</td>\n",
       "      <td>NaN</td>\n",
       "      <td>NaN</td>\n",
       "      <td>NaN</td>\n",
       "      <td>NaN</td>\n",
       "      <td>0.0</td>\n",
       "      <td>NaN</td>\n",
       "      <td>NaN</td>\n",
       "    </tr>\n",
       "    <tr>\n",
       "      <th>std</th>\n",
       "      <td>NaN</td>\n",
       "      <td>NaN</td>\n",
       "      <td>NaN</td>\n",
       "      <td>NaN</td>\n",
       "      <td>NaN</td>\n",
       "      <td>NaN</td>\n",
       "      <td>NaN</td>\n",
       "      <td>NaN</td>\n",
       "      <td>NaN</td>\n",
       "      <td>NaN</td>\n",
       "      <td>...</td>\n",
       "      <td>NaN</td>\n",
       "      <td>10.673780</td>\n",
       "      <td>NaN</td>\n",
       "      <td>NaN</td>\n",
       "      <td>NaN</td>\n",
       "      <td>NaN</td>\n",
       "      <td>NaN</td>\n",
       "      <td>0.0</td>\n",
       "      <td>NaN</td>\n",
       "      <td>NaN</td>\n",
       "    </tr>\n",
       "    <tr>\n",
       "      <th>min</th>\n",
       "      <td>NaN</td>\n",
       "      <td>NaN</td>\n",
       "      <td>NaN</td>\n",
       "      <td>NaN</td>\n",
       "      <td>NaN</td>\n",
       "      <td>NaN</td>\n",
       "      <td>NaN</td>\n",
       "      <td>NaN</td>\n",
       "      <td>NaN</td>\n",
       "      <td>NaN</td>\n",
       "      <td>...</td>\n",
       "      <td>NaN</td>\n",
       "      <td>0.000000</td>\n",
       "      <td>NaN</td>\n",
       "      <td>NaN</td>\n",
       "      <td>NaN</td>\n",
       "      <td>NaN</td>\n",
       "      <td>NaN</td>\n",
       "      <td>0.0</td>\n",
       "      <td>NaN</td>\n",
       "      <td>NaN</td>\n",
       "    </tr>\n",
       "    <tr>\n",
       "      <th>25%</th>\n",
       "      <td>NaN</td>\n",
       "      <td>NaN</td>\n",
       "      <td>NaN</td>\n",
       "      <td>NaN</td>\n",
       "      <td>NaN</td>\n",
       "      <td>NaN</td>\n",
       "      <td>NaN</td>\n",
       "      <td>NaN</td>\n",
       "      <td>NaN</td>\n",
       "      <td>NaN</td>\n",
       "      <td>...</td>\n",
       "      <td>NaN</td>\n",
       "      <td>0.000000</td>\n",
       "      <td>NaN</td>\n",
       "      <td>NaN</td>\n",
       "      <td>NaN</td>\n",
       "      <td>NaN</td>\n",
       "      <td>NaN</td>\n",
       "      <td>0.0</td>\n",
       "      <td>NaN</td>\n",
       "      <td>NaN</td>\n",
       "    </tr>\n",
       "    <tr>\n",
       "      <th>50%</th>\n",
       "      <td>NaN</td>\n",
       "      <td>NaN</td>\n",
       "      <td>NaN</td>\n",
       "      <td>NaN</td>\n",
       "      <td>NaN</td>\n",
       "      <td>NaN</td>\n",
       "      <td>NaN</td>\n",
       "      <td>NaN</td>\n",
       "      <td>NaN</td>\n",
       "      <td>NaN</td>\n",
       "      <td>...</td>\n",
       "      <td>NaN</td>\n",
       "      <td>0.000000</td>\n",
       "      <td>NaN</td>\n",
       "      <td>NaN</td>\n",
       "      <td>NaN</td>\n",
       "      <td>NaN</td>\n",
       "      <td>NaN</td>\n",
       "      <td>0.0</td>\n",
       "      <td>NaN</td>\n",
       "      <td>NaN</td>\n",
       "    </tr>\n",
       "    <tr>\n",
       "      <th>75%</th>\n",
       "      <td>NaN</td>\n",
       "      <td>NaN</td>\n",
       "      <td>NaN</td>\n",
       "      <td>NaN</td>\n",
       "      <td>NaN</td>\n",
       "      <td>NaN</td>\n",
       "      <td>NaN</td>\n",
       "      <td>NaN</td>\n",
       "      <td>NaN</td>\n",
       "      <td>NaN</td>\n",
       "      <td>...</td>\n",
       "      <td>NaN</td>\n",
       "      <td>0.000000</td>\n",
       "      <td>NaN</td>\n",
       "      <td>NaN</td>\n",
       "      <td>NaN</td>\n",
       "      <td>NaN</td>\n",
       "      <td>NaN</td>\n",
       "      <td>0.0</td>\n",
       "      <td>NaN</td>\n",
       "      <td>NaN</td>\n",
       "    </tr>\n",
       "    <tr>\n",
       "      <th>max</th>\n",
       "      <td>NaN</td>\n",
       "      <td>NaN</td>\n",
       "      <td>NaN</td>\n",
       "      <td>NaN</td>\n",
       "      <td>NaN</td>\n",
       "      <td>NaN</td>\n",
       "      <td>NaN</td>\n",
       "      <td>NaN</td>\n",
       "      <td>NaN</td>\n",
       "      <td>NaN</td>\n",
       "      <td>...</td>\n",
       "      <td>NaN</td>\n",
       "      <td>100.000000</td>\n",
       "      <td>NaN</td>\n",
       "      <td>NaN</td>\n",
       "      <td>NaN</td>\n",
       "      <td>NaN</td>\n",
       "      <td>NaN</td>\n",
       "      <td>0.0</td>\n",
       "      <td>NaN</td>\n",
       "      <td>NaN</td>\n",
       "    </tr>\n",
       "  </tbody>\n",
       "</table>\n",
       "<p>8 rows × 43 columns</p>\n",
       "</div>"
      ],
      "text/plain": [
       "       MasterRecordId  LastName  FirstName  Salutation  ShippingStreet  \\\n",
       "count             0.0       0.0        0.0         0.0             0.0   \n",
       "mean              NaN       NaN        NaN         NaN             NaN   \n",
       "std               NaN       NaN        NaN         NaN             NaN   \n",
       "min               NaN       NaN        NaN         NaN             NaN   \n",
       "25%               NaN       NaN        NaN         NaN             NaN   \n",
       "50%               NaN       NaN        NaN         NaN             NaN   \n",
       "75%               NaN       NaN        NaN         NaN             NaN   \n",
       "max               NaN       NaN        NaN         NaN             NaN   \n",
       "\n",
       "       ShippingCity  ShippingState  ShippingPostalCode  ShippingCountry  Sic  \\\n",
       "count           0.0            0.0                 0.0              0.0  0.0   \n",
       "mean            NaN            NaN                 NaN              NaN  NaN   \n",
       "std             NaN            NaN                 NaN              NaN  NaN   \n",
       "min             NaN            NaN                 NaN              NaN  NaN   \n",
       "25%             NaN            NaN                 NaN              NaN  NaN   \n",
       "50%             NaN            NaN                 NaN              NaN  NaN   \n",
       "75%             NaN            NaN                 NaN              NaN  NaN   \n",
       "max             NaN            NaN                 NaN              NaN  NaN   \n",
       "\n",
       "       ...  Sub_Market__c  Data_Quality_Score__c  Other_Address__pc  \\\n",
       "count  ...            0.0           14904.000000                0.0   \n",
       "mean   ...            NaN               1.348631                NaN   \n",
       "std    ...            NaN              10.673780                NaN   \n",
       "min    ...            NaN               0.000000                NaN   \n",
       "25%    ...            NaN               0.000000                NaN   \n",
       "50%    ...            NaN               0.000000                NaN   \n",
       "75%    ...            NaN               0.000000                NaN   \n",
       "max    ...            NaN             100.000000                NaN   \n",
       "\n",
       "       Other_Phone__pc  Phone_Type__pc  Other_Phone_Type__pc  Department__pc  \\\n",
       "count              0.0             0.0                   0.0             0.0   \n",
       "mean               NaN             NaN                   NaN             NaN   \n",
       "std                NaN             NaN                   NaN             NaN   \n",
       "min                NaN             NaN                   NaN             NaN   \n",
       "25%                NaN             NaN                   NaN             NaN   \n",
       "50%                NaN             NaN                   NaN             NaN   \n",
       "75%                NaN             NaN                   NaN             NaN   \n",
       "max                NaN             NaN                   NaN             NaN   \n",
       "\n",
       "       Data_Quality_Score__pc  Argos_ONE_RMX_Usage__pc  \\\n",
       "count                 14904.0                      0.0   \n",
       "mean                      0.0                      NaN   \n",
       "std                       0.0                      NaN   \n",
       "min                       0.0                      NaN   \n",
       "25%                       0.0                      NaN   \n",
       "50%                       0.0                      NaN   \n",
       "75%                       0.0                      NaN   \n",
       "max                       0.0                      NaN   \n",
       "\n",
       "       Argos_ONE_BillPay_Usage__pc  \n",
       "count                          0.0  \n",
       "mean                           NaN  \n",
       "std                            NaN  \n",
       "min                            NaN  \n",
       "25%                            NaN  \n",
       "50%                            NaN  \n",
       "75%                            NaN  \n",
       "max                            NaN  \n",
       "\n",
       "[8 rows x 43 columns]"
      ]
     },
     "execution_count": 142,
     "metadata": {},
     "output_type": "execute_result"
    }
   ],
   "source": [
    "_df.describe()"
   ]
  },
  {
   "cell_type": "code",
   "execution_count": 143,
   "id": "5629895a-42f2-4a53-8889-f81e06ed0bce",
   "metadata": {},
   "outputs": [
    {
     "data": {
      "text/html": [
       "<div>\n",
       "<style scoped>\n",
       "    .dataframe tbody tr th:only-of-type {\n",
       "        vertical-align: middle;\n",
       "    }\n",
       "\n",
       "    .dataframe tbody tr th {\n",
       "        vertical-align: top;\n",
       "    }\n",
       "\n",
       "    .dataframe thead th {\n",
       "        text-align: right;\n",
       "    }\n",
       "</style>\n",
       "<table border=\"1\" class=\"dataframe\">\n",
       "  <thead>\n",
       "    <tr style=\"text-align: right;\">\n",
       "      <th></th>\n",
       "      <th>Id</th>\n",
       "      <th>IsDeleted</th>\n",
       "      <th>MasterRecordId</th>\n",
       "      <th>Name</th>\n",
       "      <th>LastName</th>\n",
       "      <th>FirstName</th>\n",
       "      <th>Salutation</th>\n",
       "      <th>Type</th>\n",
       "      <th>RecordTypeId</th>\n",
       "      <th>ParentId</th>\n",
       "      <th>...</th>\n",
       "      <th>Other_Phone__pc</th>\n",
       "      <th>Phone_Type__pc</th>\n",
       "      <th>Other_Phone_Type__pc</th>\n",
       "      <th>Department__pc</th>\n",
       "      <th>Price_Increase_Contact__pc</th>\n",
       "      <th>Argos_ONE_RMX_Account_Admin__pc</th>\n",
       "      <th>Data_Quality_Description__pc</th>\n",
       "      <th>Data_Quality_Score__pc</th>\n",
       "      <th>Argos_ONE_RMX_Usage__pc</th>\n",
       "      <th>Argos_ONE_BillPay_Usage__pc</th>\n",
       "    </tr>\n",
       "  </thead>\n",
       "  <tbody>\n",
       "    <tr>\n",
       "      <th>0</th>\n",
       "      <td>0013u00000sjexuAAA</td>\n",
       "      <td>False</td>\n",
       "      <td>NaN</td>\n",
       "      <td>SMYRNA READY MIX CONCRETE LLC</td>\n",
       "      <td>NaN</td>\n",
       "      <td>NaN</td>\n",
       "      <td>NaN</td>\n",
       "      <td>Customer</td>\n",
       "      <td>0126A000000ylybQAA</td>\n",
       "      <td>0016A00000TLf3yQAD</td>\n",
       "      <td>...</td>\n",
       "      <td>NaN</td>\n",
       "      <td>NaN</td>\n",
       "      <td>NaN</td>\n",
       "      <td>NaN</td>\n",
       "      <td>False</td>\n",
       "      <td>False</td>\n",
       "      <td>Missing: Phone, Email, Department, Job Title,</td>\n",
       "      <td>0</td>\n",
       "      <td>NaN</td>\n",
       "      <td>NaN</td>\n",
       "    </tr>\n",
       "    <tr>\n",
       "      <th>1</th>\n",
       "      <td>0013u00000sjezHAAQ</td>\n",
       "      <td>False</td>\n",
       "      <td>NaN</td>\n",
       "      <td>SITE PREP INC OF NC JOB 2555</td>\n",
       "      <td>NaN</td>\n",
       "      <td>NaN</td>\n",
       "      <td>NaN</td>\n",
       "      <td>Customer</td>\n",
       "      <td>0126A000000ylybQAA</td>\n",
       "      <td>0016A00000TLdOcQAL</td>\n",
       "      <td>...</td>\n",
       "      <td>NaN</td>\n",
       "      <td>NaN</td>\n",
       "      <td>NaN</td>\n",
       "      <td>NaN</td>\n",
       "      <td>False</td>\n",
       "      <td>False</td>\n",
       "      <td>Missing: Phone, Email, Department, Job Title,</td>\n",
       "      <td>0</td>\n",
       "      <td>NaN</td>\n",
       "      <td>NaN</td>\n",
       "    </tr>\n",
       "    <tr>\n",
       "      <th>2</th>\n",
       "      <td>0013u00000sjf0KAAQ</td>\n",
       "      <td>False</td>\n",
       "      <td>NaN</td>\n",
       "      <td>ACME BRICK COMPANY RINCON &amp; BLUFFTON APARTMENTS</td>\n",
       "      <td>NaN</td>\n",
       "      <td>NaN</td>\n",
       "      <td>NaN</td>\n",
       "      <td>Customer</td>\n",
       "      <td>0126A000000ylybQAA</td>\n",
       "      <td>0016A00000TLf1qQAD</td>\n",
       "      <td>...</td>\n",
       "      <td>NaN</td>\n",
       "      <td>NaN</td>\n",
       "      <td>NaN</td>\n",
       "      <td>NaN</td>\n",
       "      <td>False</td>\n",
       "      <td>False</td>\n",
       "      <td>Missing: Phone, Email, Department, Job Title,</td>\n",
       "      <td>0</td>\n",
       "      <td>NaN</td>\n",
       "      <td>NaN</td>\n",
       "    </tr>\n",
       "    <tr>\n",
       "      <th>3</th>\n",
       "      <td>0013u00000sjf0eAAA</td>\n",
       "      <td>False</td>\n",
       "      <td>NaN</td>\n",
       "      <td>ROCK SOLID STABILIZATION TERRELL SOLAR</td>\n",
       "      <td>NaN</td>\n",
       "      <td>NaN</td>\n",
       "      <td>NaN</td>\n",
       "      <td>Customer</td>\n",
       "      <td>0126A000000ylybQAA</td>\n",
       "      <td>0016A00000TLdGSQA1</td>\n",
       "      <td>...</td>\n",
       "      <td>NaN</td>\n",
       "      <td>NaN</td>\n",
       "      <td>NaN</td>\n",
       "      <td>NaN</td>\n",
       "      <td>False</td>\n",
       "      <td>False</td>\n",
       "      <td>Missing: Phone, Email, Department, Job Title,</td>\n",
       "      <td>0</td>\n",
       "      <td>NaN</td>\n",
       "      <td>NaN</td>\n",
       "    </tr>\n",
       "    <tr>\n",
       "      <th>4</th>\n",
       "      <td>0013u00000sjf1SAAQ</td>\n",
       "      <td>False</td>\n",
       "      <td>NaN</td>\n",
       "      <td>BELTSVILLE CONSTRUCTION SUPPLY INC</td>\n",
       "      <td>NaN</td>\n",
       "      <td>NaN</td>\n",
       "      <td>NaN</td>\n",
       "      <td>Customer</td>\n",
       "      <td>0126A000000ylybQAA</td>\n",
       "      <td>NaN</td>\n",
       "      <td>...</td>\n",
       "      <td>NaN</td>\n",
       "      <td>NaN</td>\n",
       "      <td>NaN</td>\n",
       "      <td>NaN</td>\n",
       "      <td>False</td>\n",
       "      <td>False</td>\n",
       "      <td>Missing: Phone, Email, Department, Job Title,</td>\n",
       "      <td>0</td>\n",
       "      <td>NaN</td>\n",
       "      <td>NaN</td>\n",
       "    </tr>\n",
       "  </tbody>\n",
       "</table>\n",
       "<p>5 rows × 96 columns</p>\n",
       "</div>"
      ],
      "text/plain": [
       "                   Id  IsDeleted  MasterRecordId  \\\n",
       "0  0013u00000sjexuAAA      False             NaN   \n",
       "1  0013u00000sjezHAAQ      False             NaN   \n",
       "2  0013u00000sjf0KAAQ      False             NaN   \n",
       "3  0013u00000sjf0eAAA      False             NaN   \n",
       "4  0013u00000sjf1SAAQ      False             NaN   \n",
       "\n",
       "                                              Name  LastName  FirstName  \\\n",
       "0                    SMYRNA READY MIX CONCRETE LLC       NaN        NaN   \n",
       "1                     SITE PREP INC OF NC JOB 2555       NaN        NaN   \n",
       "2  ACME BRICK COMPANY RINCON & BLUFFTON APARTMENTS       NaN        NaN   \n",
       "3           ROCK SOLID STABILIZATION TERRELL SOLAR       NaN        NaN   \n",
       "4               BELTSVILLE CONSTRUCTION SUPPLY INC       NaN        NaN   \n",
       "\n",
       "   Salutation      Type        RecordTypeId            ParentId  ...  \\\n",
       "0         NaN  Customer  0126A000000ylybQAA  0016A00000TLf3yQAD  ...   \n",
       "1         NaN  Customer  0126A000000ylybQAA  0016A00000TLdOcQAL  ...   \n",
       "2         NaN  Customer  0126A000000ylybQAA  0016A00000TLf1qQAD  ...   \n",
       "3         NaN  Customer  0126A000000ylybQAA  0016A00000TLdGSQA1  ...   \n",
       "4         NaN  Customer  0126A000000ylybQAA                 NaN  ...   \n",
       "\n",
       "  Other_Phone__pc Phone_Type__pc Other_Phone_Type__pc Department__pc  \\\n",
       "0             NaN            NaN                  NaN            NaN   \n",
       "1             NaN            NaN                  NaN            NaN   \n",
       "2             NaN            NaN                  NaN            NaN   \n",
       "3             NaN            NaN                  NaN            NaN   \n",
       "4             NaN            NaN                  NaN            NaN   \n",
       "\n",
       "  Price_Increase_Contact__pc  Argos_ONE_RMX_Account_Admin__pc  \\\n",
       "0                      False                            False   \n",
       "1                      False                            False   \n",
       "2                      False                            False   \n",
       "3                      False                            False   \n",
       "4                      False                            False   \n",
       "\n",
       "                    Data_Quality_Description__pc  Data_Quality_Score__pc  \\\n",
       "0  Missing: Phone, Email, Department, Job Title,                       0   \n",
       "1  Missing: Phone, Email, Department, Job Title,                       0   \n",
       "2  Missing: Phone, Email, Department, Job Title,                       0   \n",
       "3  Missing: Phone, Email, Department, Job Title,                       0   \n",
       "4  Missing: Phone, Email, Department, Job Title,                       0   \n",
       "\n",
       "   Argos_ONE_RMX_Usage__pc  Argos_ONE_BillPay_Usage__pc  \n",
       "0                      NaN                          NaN  \n",
       "1                      NaN                          NaN  \n",
       "2                      NaN                          NaN  \n",
       "3                      NaN                          NaN  \n",
       "4                      NaN                          NaN  \n",
       "\n",
       "[5 rows x 96 columns]"
      ]
     },
     "execution_count": 143,
     "metadata": {},
     "output_type": "execute_result"
    }
   ],
   "source": [
    "_df.head()"
   ]
  },
  {
   "cell_type": "code",
   "execution_count": 144,
   "id": "7f829c97-2ab8-4ab2-8df8-2c4a0b89e31b",
   "metadata": {},
   "outputs": [
    {
     "data": {
      "text/plain": [
       "False    14904\n",
       "Name: IsDeleted, dtype: int64"
      ]
     },
     "execution_count": 144,
     "metadata": {},
     "output_type": "execute_result"
    }
   ],
   "source": [
    "_df[\"IsDeleted\"].value_counts().head(6)"
   ]
  },
  {
   "cell_type": "markdown",
   "id": "12183066-0e55-4282-8c3a-13167d27f77d",
   "metadata": {},
   "source": [
    "#### Count missing values in each column"
   ]
  },
  {
   "cell_type": "code",
   "execution_count": null,
   "id": "9d81ee1f-78cb-4798-a232-d54d99a478f8",
   "metadata": {},
   "outputs": [],
   "source": [
    "#column_names = list(df.columns)\n",
    "#for column in range(0,len(column_names)):\n",
    "#    print(df[column_names[column]].isna().value_counts())"
   ]
  },
  {
   "cell_type": "code",
   "execution_count": 145,
   "id": "b7bebad7-3c0b-49fc-af42-d961f0fb7dd4",
   "metadata": {},
   "outputs": [
    {
     "data": {
      "text/plain": [
       "{'Id': 0,\n",
       " 'IsDeleted': 0,\n",
       " 'MasterRecordId': 14904,\n",
       " 'Name': 0,\n",
       " 'LastName': 14904,\n",
       " 'FirstName': 14904,\n",
       " 'Salutation': 14904,\n",
       " 'Type': 0,\n",
       " 'RecordTypeId': 0,\n",
       " 'ParentId': 5582,\n",
       " 'BillingStreet': 18,\n",
       " 'BillingCity': 14,\n",
       " 'BillingState': 16,\n",
       " 'BillingPostalCode': 21,\n",
       " 'BillingCountry': 35,\n",
       " 'ShippingStreet': 14904,\n",
       " 'ShippingCity': 14904,\n",
       " 'ShippingState': 14904,\n",
       " 'ShippingPostalCode': 14904,\n",
       " 'ShippingCountry': 14904,\n",
       " 'Phone': 11873,\n",
       " 'Fax': 14353,\n",
       " 'AccountNumber': 89,\n",
       " 'Website': 14870,\n",
       " 'Sic': 14904,\n",
       " 'Industry': 14904,\n",
       " 'AnnualRevenue': 14904,\n",
       " 'NumberOfEmployees': 14904,\n",
       " 'Ownership': 14728,\n",
       " 'TickerSymbol': 14904,\n",
       " 'Description': 14805,\n",
       " 'Rating': 14904,\n",
       " 'Site': 14904,\n",
       " 'OwnerId': 0,\n",
       " 'CreatedDate': 0,\n",
       " 'CreatedById': 0,\n",
       " 'LastModifiedDate': 0,\n",
       " 'LastModifiedById': 0,\n",
       " 'SystemModstamp': 0,\n",
       " 'LastActivityDate': 14266,\n",
       " 'PersonContactId': 14904,\n",
       " 'IsPersonAccount': 0,\n",
       " 'PersonMailingStreet': 14904,\n",
       " 'PersonMailingCity': 14904,\n",
       " 'PersonMailingState': 14904,\n",
       " 'PersonMailingPostalCode': 14904,\n",
       " 'PersonMailingCountry': 14904,\n",
       " 'PersonMobilePhone': 14904,\n",
       " 'PersonEmail': 14904,\n",
       " 'PersonTitle': 14904,\n",
       " 'PersonDepartment': 14904,\n",
       " 'PersonLastCURequestDate': 14904,\n",
       " 'PersonLastCUUpdateDate': 14904,\n",
       " 'PersonEmailBouncedReason': 14904,\n",
       " 'PersonEmailBouncedDate': 14904,\n",
       " 'Status__c': 89,\n",
       " 'Cell_Phone__c': 13751,\n",
       " 'Business_Unit__c': 0,\n",
       " 'Pay_Condition__c': 11173,\n",
       " 'SAP_Code__c': 89,\n",
       " 'SAP_Code_by_Sale_Org__c': 89,\n",
       " 'Sales_Organization__c': 0,\n",
       " 'Sub_Segment__c': 14904,\n",
       " 'Search_Term_2__c': 0,\n",
       " 'Tax_Id__c': 14820,\n",
       " 'eMail__c': 12322,\n",
       " 'Key_Account__c': 0,\n",
       " 'No_of_Silos__c': 14655,\n",
       " 'No_of_Trucks__c': 14751,\n",
       " 'Billing_County__c': 11994,\n",
       " 'District_Division__c': 0,\n",
       " 'Sub_Market__c': 14904,\n",
       " 'Segment__c': 93,\n",
       " 'Channel__c': 26,\n",
       " 'Sub_Channel__c': 106,\n",
       " 'Sales_Group__c': 13,\n",
       " 'Sales_Office__c': 86,\n",
       " 'Is_RMX_Generic_Account__c': 0,\n",
       " 'Difference__c': 0,\n",
       " 'Is_Generic_Account__c': 0,\n",
       " 'ID_Salesforce__c': 0,\n",
       " 'Ship__c': 3032,\n",
       " 'Data_Quality_Description__c': 0,\n",
       " 'Data_Quality_Score__c': 0,\n",
       " 'Operational_Standing__c': 9646,\n",
       " 'Other_Address__pc': 14904,\n",
       " 'Other_Phone__pc': 14904,\n",
       " 'Phone_Type__pc': 14904,\n",
       " 'Other_Phone_Type__pc': 14904,\n",
       " 'Department__pc': 14904,\n",
       " 'Price_Increase_Contact__pc': 0,\n",
       " 'Argos_ONE_RMX_Account_Admin__pc': 0,\n",
       " 'Data_Quality_Description__pc': 0,\n",
       " 'Data_Quality_Score__pc': 0,\n",
       " 'Argos_ONE_RMX_Usage__pc': 14904,\n",
       " 'Argos_ONE_BillPay_Usage__pc': 14904}"
      ]
     },
     "execution_count": 145,
     "metadata": {},
     "output_type": "execute_result"
    }
   ],
   "source": [
    "_df.isna().sum().to_dict()"
   ]
  },
  {
   "cell_type": "markdown",
   "id": "abb3c38f-ab15-4d67-a810-943dd68be6a2",
   "metadata": {},
   "source": [
    "##### Worksheet 2"
   ]
  },
  {
   "cell_type": "code",
   "execution_count": 161,
   "id": "79c267e6-f7c0-4dea-afcb-7b531790ac7a",
   "metadata": {},
   "outputs": [
    {
     "name": "stdout",
     "output_type": "stream",
     "text": [
      "<class 'pandas.core.frame.DataFrame'>\n",
      "RangeIndex: 14904 entries, 0 to 14903\n",
      "Data columns (total 96 columns):\n",
      " #   Column                           Non-Null Count  Dtype  \n",
      "---  ------                           --------------  -----  \n",
      " 0   Id                               14904 non-null  object \n",
      " 1   IsDeleted                        14904 non-null  bool   \n",
      " 2   MasterRecordId                   0 non-null      float64\n",
      " 3   Name                             14904 non-null  object \n",
      " 4   LastName                         0 non-null      float64\n",
      " 5   FirstName                        0 non-null      float64\n",
      " 6   Salutation                       0 non-null      float64\n",
      " 7   Type                             14904 non-null  object \n",
      " 8   RecordTypeId                     14904 non-null  object \n",
      " 9   ParentId                         9322 non-null   object \n",
      " 10  BillingStreet                    14886 non-null  object \n",
      " 11  BillingCity                      14890 non-null  object \n",
      " 12  BillingState                     14888 non-null  object \n",
      " 13  BillingPostalCode                14883 non-null  object \n",
      " 14  BillingCountry                   14869 non-null  object \n",
      " 15  ShippingStreet                   0 non-null      float64\n",
      " 16  ShippingCity                     0 non-null      float64\n",
      " 17  ShippingState                    0 non-null      float64\n",
      " 18  ShippingPostalCode               0 non-null      float64\n",
      " 19  ShippingCountry                  0 non-null      float64\n",
      " 20  Phone                            3031 non-null   object \n",
      " 21  Fax                              551 non-null    object \n",
      " 22  AccountNumber                    14815 non-null  object \n",
      " 23  Website                          34 non-null     object \n",
      " 24  Sic                              0 non-null      float64\n",
      " 25  Industry                         0 non-null      float64\n",
      " 26  AnnualRevenue                    0 non-null      float64\n",
      " 27  NumberOfEmployees                0 non-null      float64\n",
      " 28  Ownership                        176 non-null    object \n",
      " 29  TickerSymbol                     0 non-null      float64\n",
      " 30  Description                      99 non-null     object \n",
      " 31  Rating                           0 non-null      float64\n",
      " 32  Site                             0 non-null      float64\n",
      " 33  OwnerId                          14904 non-null  object \n",
      " 34  CreatedDate                      14904 non-null  object \n",
      " 35  CreatedById                      14904 non-null  object \n",
      " 36  LastModifiedDate                 14904 non-null  object \n",
      " 37  LastModifiedById                 14904 non-null  object \n",
      " 38  SystemModstamp                   14904 non-null  object \n",
      " 39  LastActivityDate                 638 non-null    object \n",
      " 40  PersonContactId                  0 non-null      float64\n",
      " 41  IsPersonAccount                  14904 non-null  bool   \n",
      " 42  PersonMailingStreet              0 non-null      float64\n",
      " 43  PersonMailingCity                0 non-null      float64\n",
      " 44  PersonMailingState               0 non-null      float64\n",
      " 45  PersonMailingPostalCode          0 non-null      float64\n",
      " 46  PersonMailingCountry             0 non-null      float64\n",
      " 47  PersonMobilePhone                0 non-null      float64\n",
      " 48  PersonEmail                      0 non-null      float64\n",
      " 49  PersonTitle                      0 non-null      float64\n",
      " 50  PersonDepartment                 0 non-null      float64\n",
      " 51  PersonLastCURequestDate          0 non-null      float64\n",
      " 52  PersonLastCUUpdateDate           0 non-null      float64\n",
      " 53  PersonEmailBouncedReason         0 non-null      float64\n",
      " 54  PersonEmailBouncedDate           0 non-null      float64\n",
      " 55  Status__c                        14815 non-null  object \n",
      " 56  Cell_Phone__c                    1153 non-null   object \n",
      " 57  Business_Unit__c                 14904 non-null  object \n",
      " 58  Pay_Condition__c                 3731 non-null   object \n",
      " 59  SAP_Code__c                      14815 non-null  object \n",
      " 60  SAP_Code_by_Sale_Org__c          14815 non-null  object \n",
      " 61  Sales_Organization__c            14904 non-null  object \n",
      " 62  Sub_Segment__c                   0 non-null      float64\n",
      " 63  Search_Term_2__c                 14904 non-null  object \n",
      " 64  Tax_Id__c                        84 non-null     object \n",
      " 65  eMail__c                         2582 non-null   object \n",
      " 66  Key_Account__c                   14904 non-null  bool   \n",
      " 67  No_of_Silos__c                   249 non-null    float64\n",
      " 68  No_of_Trucks__c                  153 non-null    float64\n",
      " 69  Billing_County__c                2910 non-null   object \n",
      " 70  District_Division__c             14904 non-null  object \n",
      " 71  Sub_Market__c                    0 non-null      float64\n",
      " 72  Segment__c                       14811 non-null  object \n",
      " 73  Channel__c                       14878 non-null  object \n",
      " 74  Sub_Channel__c                   14798 non-null  object \n",
      " 75  Sales_Group__c                   14891 non-null  object \n",
      " 76  Sales_Office__c                  14818 non-null  object \n",
      " 77  Is_RMX_Generic_Account__c        14904 non-null  bool   \n",
      " 78  Difference__c                    14904 non-null  bool   \n",
      " 79  Is_Generic_Account__c            14904 non-null  bool   \n",
      " 80  ID_Salesforce__c                 14904 non-null  object \n",
      " 81  Ship__c                          11872 non-null  object \n",
      " 82  Data_Quality_Description__c      14904 non-null  object \n",
      " 83  Data_Quality_Score__c            14904 non-null  int64  \n",
      " 84  Operational_Standing__c          5258 non-null   object \n",
      " 85  Other_Address__pc                0 non-null      float64\n",
      " 86  Other_Phone__pc                  0 non-null      float64\n",
      " 87  Phone_Type__pc                   0 non-null      float64\n",
      " 88  Other_Phone_Type__pc             0 non-null      float64\n",
      " 89  Department__pc                   0 non-null      float64\n",
      " 90  Price_Increase_Contact__pc       14904 non-null  bool   \n",
      " 91  Argos_ONE_RMX_Account_Admin__pc  14904 non-null  bool   \n",
      " 92  Data_Quality_Description__pc     14904 non-null  object \n",
      " 93  Data_Quality_Score__pc           14904 non-null  int64  \n",
      " 94  Argos_ONE_RMX_Usage__pc          0 non-null      float64\n",
      " 95  Argos_ONE_BillPay_Usage__pc      0 non-null      float64\n",
      "dtypes: bool(8), float64(41), int64(2), object(45)\n",
      "memory usage: 10.1+ MB\n"
     ]
    },
    {
     "ename": "AttributeError",
     "evalue": "'NoneType' object has no attribute 'head'",
     "output_type": "error",
     "traceback": [
      "\u001b[0;31m---------------------------------------------------------------------------\u001b[0m",
      "\u001b[0;31mAttributeError\u001b[0m                            Traceback (most recent call last)",
      "\u001b[0;32m/var/folders/14/ps757bvs4hl5zvr4vy69xpy80000gn/T/ipykernel_11543/4095643870.py\u001b[0m in \u001b[0;36m<module>\u001b[0;34m\u001b[0m\n\u001b[0;32m----> 1\u001b[0;31m \u001b[0m_df1\u001b[0m\u001b[0;34m.\u001b[0m\u001b[0minfo\u001b[0m\u001b[0;34m(\u001b[0m\u001b[0;34m)\u001b[0m\u001b[0;34m.\u001b[0m\u001b[0mhead\u001b[0m\u001b[0;34m(\u001b[0m\u001b[0;34m)\u001b[0m\u001b[0;34m\u001b[0m\u001b[0;34m\u001b[0m\u001b[0m\n\u001b[0m",
      "\u001b[0;31mAttributeError\u001b[0m: 'NoneType' object has no attribute 'head'"
     ]
    }
   ],
   "source": [
    "_df1.info()"
   ]
  },
  {
   "cell_type": "code",
   "execution_count": 147,
   "id": "c33bf43c-0f66-4e24-9c73-8b5fcb3f4560",
   "metadata": {
    "tags": []
   },
   "outputs": [
    {
     "data": {
      "text/html": [
       "<div>\n",
       "<style scoped>\n",
       "    .dataframe tbody tr th:only-of-type {\n",
       "        vertical-align: middle;\n",
       "    }\n",
       "\n",
       "    .dataframe tbody tr th {\n",
       "        vertical-align: top;\n",
       "    }\n",
       "\n",
       "    .dataframe thead th {\n",
       "        text-align: right;\n",
       "    }\n",
       "</style>\n",
       "<table border=\"1\" class=\"dataframe\">\n",
       "  <thead>\n",
       "    <tr style=\"text-align: right;\">\n",
       "      <th></th>\n",
       "      <th>MasterRecordId</th>\n",
       "      <th>LastName</th>\n",
       "      <th>FirstName</th>\n",
       "      <th>Salutation</th>\n",
       "      <th>ShippingStreet</th>\n",
       "      <th>ShippingCity</th>\n",
       "      <th>ShippingState</th>\n",
       "      <th>ShippingPostalCode</th>\n",
       "      <th>ShippingCountry</th>\n",
       "      <th>Sic</th>\n",
       "      <th>...</th>\n",
       "      <th>Sub_Market__c</th>\n",
       "      <th>Data_Quality_Score__c</th>\n",
       "      <th>Other_Address__pc</th>\n",
       "      <th>Other_Phone__pc</th>\n",
       "      <th>Phone_Type__pc</th>\n",
       "      <th>Other_Phone_Type__pc</th>\n",
       "      <th>Department__pc</th>\n",
       "      <th>Data_Quality_Score__pc</th>\n",
       "      <th>Argos_ONE_RMX_Usage__pc</th>\n",
       "      <th>Argos_ONE_BillPay_Usage__pc</th>\n",
       "    </tr>\n",
       "  </thead>\n",
       "  <tbody>\n",
       "    <tr>\n",
       "      <th>count</th>\n",
       "      <td>0.0</td>\n",
       "      <td>0.0</td>\n",
       "      <td>0.0</td>\n",
       "      <td>0.0</td>\n",
       "      <td>0.0</td>\n",
       "      <td>0.0</td>\n",
       "      <td>0.0</td>\n",
       "      <td>0.0</td>\n",
       "      <td>0.0</td>\n",
       "      <td>0.0</td>\n",
       "      <td>...</td>\n",
       "      <td>0.0</td>\n",
       "      <td>14904.000000</td>\n",
       "      <td>0.0</td>\n",
       "      <td>0.0</td>\n",
       "      <td>0.0</td>\n",
       "      <td>0.0</td>\n",
       "      <td>0.0</td>\n",
       "      <td>14904.0</td>\n",
       "      <td>0.0</td>\n",
       "      <td>0.0</td>\n",
       "    </tr>\n",
       "    <tr>\n",
       "      <th>mean</th>\n",
       "      <td>NaN</td>\n",
       "      <td>NaN</td>\n",
       "      <td>NaN</td>\n",
       "      <td>NaN</td>\n",
       "      <td>NaN</td>\n",
       "      <td>NaN</td>\n",
       "      <td>NaN</td>\n",
       "      <td>NaN</td>\n",
       "      <td>NaN</td>\n",
       "      <td>NaN</td>\n",
       "      <td>...</td>\n",
       "      <td>NaN</td>\n",
       "      <td>1.348631</td>\n",
       "      <td>NaN</td>\n",
       "      <td>NaN</td>\n",
       "      <td>NaN</td>\n",
       "      <td>NaN</td>\n",
       "      <td>NaN</td>\n",
       "      <td>0.0</td>\n",
       "      <td>NaN</td>\n",
       "      <td>NaN</td>\n",
       "    </tr>\n",
       "    <tr>\n",
       "      <th>std</th>\n",
       "      <td>NaN</td>\n",
       "      <td>NaN</td>\n",
       "      <td>NaN</td>\n",
       "      <td>NaN</td>\n",
       "      <td>NaN</td>\n",
       "      <td>NaN</td>\n",
       "      <td>NaN</td>\n",
       "      <td>NaN</td>\n",
       "      <td>NaN</td>\n",
       "      <td>NaN</td>\n",
       "      <td>...</td>\n",
       "      <td>NaN</td>\n",
       "      <td>10.673780</td>\n",
       "      <td>NaN</td>\n",
       "      <td>NaN</td>\n",
       "      <td>NaN</td>\n",
       "      <td>NaN</td>\n",
       "      <td>NaN</td>\n",
       "      <td>0.0</td>\n",
       "      <td>NaN</td>\n",
       "      <td>NaN</td>\n",
       "    </tr>\n",
       "    <tr>\n",
       "      <th>min</th>\n",
       "      <td>NaN</td>\n",
       "      <td>NaN</td>\n",
       "      <td>NaN</td>\n",
       "      <td>NaN</td>\n",
       "      <td>NaN</td>\n",
       "      <td>NaN</td>\n",
       "      <td>NaN</td>\n",
       "      <td>NaN</td>\n",
       "      <td>NaN</td>\n",
       "      <td>NaN</td>\n",
       "      <td>...</td>\n",
       "      <td>NaN</td>\n",
       "      <td>0.000000</td>\n",
       "      <td>NaN</td>\n",
       "      <td>NaN</td>\n",
       "      <td>NaN</td>\n",
       "      <td>NaN</td>\n",
       "      <td>NaN</td>\n",
       "      <td>0.0</td>\n",
       "      <td>NaN</td>\n",
       "      <td>NaN</td>\n",
       "    </tr>\n",
       "    <tr>\n",
       "      <th>25%</th>\n",
       "      <td>NaN</td>\n",
       "      <td>NaN</td>\n",
       "      <td>NaN</td>\n",
       "      <td>NaN</td>\n",
       "      <td>NaN</td>\n",
       "      <td>NaN</td>\n",
       "      <td>NaN</td>\n",
       "      <td>NaN</td>\n",
       "      <td>NaN</td>\n",
       "      <td>NaN</td>\n",
       "      <td>...</td>\n",
       "      <td>NaN</td>\n",
       "      <td>0.000000</td>\n",
       "      <td>NaN</td>\n",
       "      <td>NaN</td>\n",
       "      <td>NaN</td>\n",
       "      <td>NaN</td>\n",
       "      <td>NaN</td>\n",
       "      <td>0.0</td>\n",
       "      <td>NaN</td>\n",
       "      <td>NaN</td>\n",
       "    </tr>\n",
       "    <tr>\n",
       "      <th>50%</th>\n",
       "      <td>NaN</td>\n",
       "      <td>NaN</td>\n",
       "      <td>NaN</td>\n",
       "      <td>NaN</td>\n",
       "      <td>NaN</td>\n",
       "      <td>NaN</td>\n",
       "      <td>NaN</td>\n",
       "      <td>NaN</td>\n",
       "      <td>NaN</td>\n",
       "      <td>NaN</td>\n",
       "      <td>...</td>\n",
       "      <td>NaN</td>\n",
       "      <td>0.000000</td>\n",
       "      <td>NaN</td>\n",
       "      <td>NaN</td>\n",
       "      <td>NaN</td>\n",
       "      <td>NaN</td>\n",
       "      <td>NaN</td>\n",
       "      <td>0.0</td>\n",
       "      <td>NaN</td>\n",
       "      <td>NaN</td>\n",
       "    </tr>\n",
       "    <tr>\n",
       "      <th>75%</th>\n",
       "      <td>NaN</td>\n",
       "      <td>NaN</td>\n",
       "      <td>NaN</td>\n",
       "      <td>NaN</td>\n",
       "      <td>NaN</td>\n",
       "      <td>NaN</td>\n",
       "      <td>NaN</td>\n",
       "      <td>NaN</td>\n",
       "      <td>NaN</td>\n",
       "      <td>NaN</td>\n",
       "      <td>...</td>\n",
       "      <td>NaN</td>\n",
       "      <td>0.000000</td>\n",
       "      <td>NaN</td>\n",
       "      <td>NaN</td>\n",
       "      <td>NaN</td>\n",
       "      <td>NaN</td>\n",
       "      <td>NaN</td>\n",
       "      <td>0.0</td>\n",
       "      <td>NaN</td>\n",
       "      <td>NaN</td>\n",
       "    </tr>\n",
       "    <tr>\n",
       "      <th>max</th>\n",
       "      <td>NaN</td>\n",
       "      <td>NaN</td>\n",
       "      <td>NaN</td>\n",
       "      <td>NaN</td>\n",
       "      <td>NaN</td>\n",
       "      <td>NaN</td>\n",
       "      <td>NaN</td>\n",
       "      <td>NaN</td>\n",
       "      <td>NaN</td>\n",
       "      <td>NaN</td>\n",
       "      <td>...</td>\n",
       "      <td>NaN</td>\n",
       "      <td>100.000000</td>\n",
       "      <td>NaN</td>\n",
       "      <td>NaN</td>\n",
       "      <td>NaN</td>\n",
       "      <td>NaN</td>\n",
       "      <td>NaN</td>\n",
       "      <td>0.0</td>\n",
       "      <td>NaN</td>\n",
       "      <td>NaN</td>\n",
       "    </tr>\n",
       "  </tbody>\n",
       "</table>\n",
       "<p>8 rows × 43 columns</p>\n",
       "</div>"
      ],
      "text/plain": [
       "       MasterRecordId  LastName  FirstName  Salutation  ShippingStreet  \\\n",
       "count             0.0       0.0        0.0         0.0             0.0   \n",
       "mean              NaN       NaN        NaN         NaN             NaN   \n",
       "std               NaN       NaN        NaN         NaN             NaN   \n",
       "min               NaN       NaN        NaN         NaN             NaN   \n",
       "25%               NaN       NaN        NaN         NaN             NaN   \n",
       "50%               NaN       NaN        NaN         NaN             NaN   \n",
       "75%               NaN       NaN        NaN         NaN             NaN   \n",
       "max               NaN       NaN        NaN         NaN             NaN   \n",
       "\n",
       "       ShippingCity  ShippingState  ShippingPostalCode  ShippingCountry  Sic  \\\n",
       "count           0.0            0.0                 0.0              0.0  0.0   \n",
       "mean            NaN            NaN                 NaN              NaN  NaN   \n",
       "std             NaN            NaN                 NaN              NaN  NaN   \n",
       "min             NaN            NaN                 NaN              NaN  NaN   \n",
       "25%             NaN            NaN                 NaN              NaN  NaN   \n",
       "50%             NaN            NaN                 NaN              NaN  NaN   \n",
       "75%             NaN            NaN                 NaN              NaN  NaN   \n",
       "max             NaN            NaN                 NaN              NaN  NaN   \n",
       "\n",
       "       ...  Sub_Market__c  Data_Quality_Score__c  Other_Address__pc  \\\n",
       "count  ...            0.0           14904.000000                0.0   \n",
       "mean   ...            NaN               1.348631                NaN   \n",
       "std    ...            NaN              10.673780                NaN   \n",
       "min    ...            NaN               0.000000                NaN   \n",
       "25%    ...            NaN               0.000000                NaN   \n",
       "50%    ...            NaN               0.000000                NaN   \n",
       "75%    ...            NaN               0.000000                NaN   \n",
       "max    ...            NaN             100.000000                NaN   \n",
       "\n",
       "       Other_Phone__pc  Phone_Type__pc  Other_Phone_Type__pc  Department__pc  \\\n",
       "count              0.0             0.0                   0.0             0.0   \n",
       "mean               NaN             NaN                   NaN             NaN   \n",
       "std                NaN             NaN                   NaN             NaN   \n",
       "min                NaN             NaN                   NaN             NaN   \n",
       "25%                NaN             NaN                   NaN             NaN   \n",
       "50%                NaN             NaN                   NaN             NaN   \n",
       "75%                NaN             NaN                   NaN             NaN   \n",
       "max                NaN             NaN                   NaN             NaN   \n",
       "\n",
       "       Data_Quality_Score__pc  Argos_ONE_RMX_Usage__pc  \\\n",
       "count                 14904.0                      0.0   \n",
       "mean                      0.0                      NaN   \n",
       "std                       0.0                      NaN   \n",
       "min                       0.0                      NaN   \n",
       "25%                       0.0                      NaN   \n",
       "50%                       0.0                      NaN   \n",
       "75%                       0.0                      NaN   \n",
       "max                       0.0                      NaN   \n",
       "\n",
       "       Argos_ONE_BillPay_Usage__pc  \n",
       "count                          0.0  \n",
       "mean                           NaN  \n",
       "std                            NaN  \n",
       "min                            NaN  \n",
       "25%                            NaN  \n",
       "50%                            NaN  \n",
       "75%                            NaN  \n",
       "max                            NaN  \n",
       "\n",
       "[8 rows x 43 columns]"
      ]
     },
     "execution_count": 147,
     "metadata": {},
     "output_type": "execute_result"
    }
   ],
   "source": [
    "_df1.describe()"
   ]
  },
  {
   "cell_type": "code",
   "execution_count": 148,
   "id": "8c008ab0-2b40-493b-b454-a5edc44b1fab",
   "metadata": {},
   "outputs": [
    {
     "data": {
      "text/plain": [
       "{'Id': 0,\n",
       " 'IsDeleted': 0,\n",
       " 'MasterRecordId': 14904,\n",
       " 'Name': 0,\n",
       " 'LastName': 14904,\n",
       " 'FirstName': 14904,\n",
       " 'Salutation': 14904,\n",
       " 'Type': 0,\n",
       " 'RecordTypeId': 0,\n",
       " 'ParentId': 5582,\n",
       " 'BillingStreet': 18,\n",
       " 'BillingCity': 14,\n",
       " 'BillingState': 16,\n",
       " 'BillingPostalCode': 21,\n",
       " 'BillingCountry': 35,\n",
       " 'ShippingStreet': 14904,\n",
       " 'ShippingCity': 14904,\n",
       " 'ShippingState': 14904,\n",
       " 'ShippingPostalCode': 14904,\n",
       " 'ShippingCountry': 14904,\n",
       " 'Phone': 11873,\n",
       " 'Fax': 14353,\n",
       " 'AccountNumber': 89,\n",
       " 'Website': 14870,\n",
       " 'Sic': 14904,\n",
       " 'Industry': 14904,\n",
       " 'AnnualRevenue': 14904,\n",
       " 'NumberOfEmployees': 14904,\n",
       " 'Ownership': 14728,\n",
       " 'TickerSymbol': 14904,\n",
       " 'Description': 14805,\n",
       " 'Rating': 14904,\n",
       " 'Site': 14904,\n",
       " 'OwnerId': 0,\n",
       " 'CreatedDate': 0,\n",
       " 'CreatedById': 0,\n",
       " 'LastModifiedDate': 0,\n",
       " 'LastModifiedById': 0,\n",
       " 'SystemModstamp': 0,\n",
       " 'LastActivityDate': 14266,\n",
       " 'PersonContactId': 14904,\n",
       " 'IsPersonAccount': 0,\n",
       " 'PersonMailingStreet': 14904,\n",
       " 'PersonMailingCity': 14904,\n",
       " 'PersonMailingState': 14904,\n",
       " 'PersonMailingPostalCode': 14904,\n",
       " 'PersonMailingCountry': 14904,\n",
       " 'PersonMobilePhone': 14904,\n",
       " 'PersonEmail': 14904,\n",
       " 'PersonTitle': 14904,\n",
       " 'PersonDepartment': 14904,\n",
       " 'PersonLastCURequestDate': 14904,\n",
       " 'PersonLastCUUpdateDate': 14904,\n",
       " 'PersonEmailBouncedReason': 14904,\n",
       " 'PersonEmailBouncedDate': 14904,\n",
       " 'Status__c': 89,\n",
       " 'Cell_Phone__c': 13751,\n",
       " 'Business_Unit__c': 0,\n",
       " 'Pay_Condition__c': 11173,\n",
       " 'SAP_Code__c': 89,\n",
       " 'SAP_Code_by_Sale_Org__c': 89,\n",
       " 'Sales_Organization__c': 0,\n",
       " 'Sub_Segment__c': 14904,\n",
       " 'Search_Term_2__c': 0,\n",
       " 'Tax_Id__c': 14820,\n",
       " 'eMail__c': 12322,\n",
       " 'Key_Account__c': 0,\n",
       " 'No_of_Silos__c': 14655,\n",
       " 'No_of_Trucks__c': 14751,\n",
       " 'Billing_County__c': 11994,\n",
       " 'District_Division__c': 0,\n",
       " 'Sub_Market__c': 14904,\n",
       " 'Segment__c': 93,\n",
       " 'Channel__c': 26,\n",
       " 'Sub_Channel__c': 106,\n",
       " 'Sales_Group__c': 13,\n",
       " 'Sales_Office__c': 86,\n",
       " 'Is_RMX_Generic_Account__c': 0,\n",
       " 'Difference__c': 0,\n",
       " 'Is_Generic_Account__c': 0,\n",
       " 'ID_Salesforce__c': 0,\n",
       " 'Ship__c': 3032,\n",
       " 'Data_Quality_Description__c': 0,\n",
       " 'Data_Quality_Score__c': 0,\n",
       " 'Operational_Standing__c': 9646,\n",
       " 'Other_Address__pc': 14904,\n",
       " 'Other_Phone__pc': 14904,\n",
       " 'Phone_Type__pc': 14904,\n",
       " 'Other_Phone_Type__pc': 14904,\n",
       " 'Department__pc': 14904,\n",
       " 'Price_Increase_Contact__pc': 0,\n",
       " 'Argos_ONE_RMX_Account_Admin__pc': 0,\n",
       " 'Data_Quality_Description__pc': 0,\n",
       " 'Data_Quality_Score__pc': 0,\n",
       " 'Argos_ONE_RMX_Usage__pc': 14904,\n",
       " 'Argos_ONE_BillPay_Usage__pc': 14904}"
      ]
     },
     "execution_count": 148,
     "metadata": {},
     "output_type": "execute_result"
    }
   ],
   "source": [
    "_df1.isna().sum().to_dict()"
   ]
  },
  {
   "cell_type": "markdown",
   "id": "1cb6a361-7b0f-4295-ad48-95965bbe1167",
   "metadata": {},
   "source": [
    "##### It looks like worksheet 1 & 2 are the exact same"
   ]
  },
  {
   "cell_type": "markdown",
   "id": "aa503a7a-6c3b-453d-98d6-dc16761c1fd6",
   "metadata": {},
   "source": [
    "##### Worksheet 3"
   ]
  },
  {
   "cell_type": "code",
   "execution_count": 149,
   "id": "842fef44-a669-4840-b0c6-1f7441588336",
   "metadata": {},
   "outputs": [
    {
     "data": {
      "text/html": [
       "<div>\n",
       "<style scoped>\n",
       "    .dataframe tbody tr th:only-of-type {\n",
       "        vertical-align: middle;\n",
       "    }\n",
       "\n",
       "    .dataframe tbody tr th {\n",
       "        vertical-align: top;\n",
       "    }\n",
       "\n",
       "    .dataframe thead th {\n",
       "        text-align: right;\n",
       "    }\n",
       "</style>\n",
       "<table border=\"1\" class=\"dataframe\">\n",
       "  <thead>\n",
       "    <tr style=\"text-align: right;\">\n",
       "      <th></th>\n",
       "      <th>Unnamed: 0</th>\n",
       "      <th>Unnamed: 1</th>\n",
       "    </tr>\n",
       "  </thead>\n",
       "  <tbody>\n",
       "    <tr>\n",
       "      <th>0</th>\n",
       "      <td>NaN</td>\n",
       "      <td>NaN</td>\n",
       "    </tr>\n",
       "    <tr>\n",
       "      <th>1</th>\n",
       "      <td>Row Labels</td>\n",
       "      <td>Count of District_Division__c</td>\n",
       "    </tr>\n",
       "    <tr>\n",
       "      <th>2</th>\n",
       "      <td>Carolinas</td>\n",
       "      <td>5408</td>\n",
       "    </tr>\n",
       "    <tr>\n",
       "      <th>3</th>\n",
       "      <td>Deep South</td>\n",
       "      <td>4080</td>\n",
       "    </tr>\n",
       "    <tr>\n",
       "      <th>4</th>\n",
       "      <td>Exports Office</td>\n",
       "      <td>4</td>\n",
       "    </tr>\n",
       "  </tbody>\n",
       "</table>\n",
       "</div>"
      ],
      "text/plain": [
       "       Unnamed: 0                     Unnamed: 1\n",
       "0             NaN                            NaN\n",
       "1      Row Labels  Count of District_Division__c\n",
       "2       Carolinas                           5408\n",
       "3      Deep South                           4080\n",
       "4  Exports Office                              4"
      ]
     },
     "execution_count": 149,
     "metadata": {},
     "output_type": "execute_result"
    }
   ],
   "source": [
    "_df2.head()"
   ]
  },
  {
   "cell_type": "markdown",
   "id": "9cf10fac-5745-4641-bda7-661ad0d30e5b",
   "metadata": {},
   "source": [
    "##### Worksheet 4"
   ]
  },
  {
   "cell_type": "code",
   "execution_count": 150,
   "id": "66fe6268-01a1-4a10-9ce0-c981ec9f069a",
   "metadata": {},
   "outputs": [
    {
     "data": {
      "text/html": [
       "<div>\n",
       "<style scoped>\n",
       "    .dataframe tbody tr th:only-of-type {\n",
       "        vertical-align: middle;\n",
       "    }\n",
       "\n",
       "    .dataframe tbody tr th {\n",
       "        vertical-align: top;\n",
       "    }\n",
       "\n",
       "    .dataframe thead th {\n",
       "        text-align: right;\n",
       "    }\n",
       "</style>\n",
       "<table border=\"1\" class=\"dataframe\">\n",
       "  <thead>\n",
       "    <tr style=\"text-align: right;\">\n",
       "      <th></th>\n",
       "      <th>Rank</th>\n",
       "      <th>Parent ID</th>\n",
       "      <th>Name</th>\n",
       "      <th>Number of Records</th>\n",
       "    </tr>\n",
       "  </thead>\n",
       "  <tbody>\n",
       "    <tr>\n",
       "      <th>0</th>\n",
       "      <td>1</td>\n",
       "      <td>0016A00000TLdGhQAL</td>\n",
       "      <td>ATLANTA PAVING &amp; CONCRETE CONSTRUCTION</td>\n",
       "      <td>848.0</td>\n",
       "    </tr>\n",
       "    <tr>\n",
       "      <th>1</th>\n",
       "      <td>2</td>\n",
       "      <td>0016A00000TLdN6QAL</td>\n",
       "      <td>RUSTON PAVING CO INC</td>\n",
       "      <td>374.0</td>\n",
       "    </tr>\n",
       "    <tr>\n",
       "      <th>2</th>\n",
       "      <td>3</td>\n",
       "      <td>0016A00000TLdGpQAL</td>\n",
       "      <td>SANDERS BROTHERS CONSTR CO INC</td>\n",
       "      <td>317.0</td>\n",
       "    </tr>\n",
       "    <tr>\n",
       "      <th>3</th>\n",
       "      <td>4</td>\n",
       "      <td>0016A00000TLdVQQA1</td>\n",
       "      <td>SMYRNA READY MIX CONCRETE LLC PUNTA GORDA PLANT</td>\n",
       "      <td>312.0</td>\n",
       "    </tr>\n",
       "    <tr>\n",
       "      <th>4</th>\n",
       "      <td>5</td>\n",
       "      <td>0016A00000TLey9QAD</td>\n",
       "      <td>ADAMS PRODUCTS</td>\n",
       "      <td>190.0</td>\n",
       "    </tr>\n",
       "    <tr>\n",
       "      <th>5</th>\n",
       "      <td>6</td>\n",
       "      <td>0016A00000TLdOcQAL</td>\n",
       "      <td>SITE PREP INC OF NC</td>\n",
       "      <td>137.0</td>\n",
       "    </tr>\n",
       "    <tr>\n",
       "      <th>6</th>\n",
       "      <td>7</td>\n",
       "      <td>0016A00000TLd9OQAT</td>\n",
       "      <td>C R JACKSON INC</td>\n",
       "      <td>123.0</td>\n",
       "    </tr>\n",
       "    <tr>\n",
       "      <th>7</th>\n",
       "      <td>8</td>\n",
       "      <td>0016A00000TLesOQAT</td>\n",
       "      <td>SUNBELT ASPHALT SURFACES INC</td>\n",
       "      <td>118.0</td>\n",
       "    </tr>\n",
       "    <tr>\n",
       "      <th>8</th>\n",
       "      <td>NaN</td>\n",
       "      <td>NaN</td>\n",
       "      <td>NaN</td>\n",
       "      <td>NaN</td>\n",
       "    </tr>\n",
       "    <tr>\n",
       "      <th>9</th>\n",
       "      <td>NaN</td>\n",
       "      <td>NaN</td>\n",
       "      <td>NaN</td>\n",
       "      <td>NaN</td>\n",
       "    </tr>\n",
       "  </tbody>\n",
       "</table>\n",
       "</div>"
      ],
      "text/plain": [
       "  Rank           Parent ID                                             Name  \\\n",
       "0    1  0016A00000TLdGhQAL           ATLANTA PAVING & CONCRETE CONSTRUCTION   \n",
       "1    2  0016A00000TLdN6QAL                             RUSTON PAVING CO INC   \n",
       "2    3  0016A00000TLdGpQAL                   SANDERS BROTHERS CONSTR CO INC   \n",
       "3    4  0016A00000TLdVQQA1  SMYRNA READY MIX CONCRETE LLC PUNTA GORDA PLANT   \n",
       "4    5  0016A00000TLey9QAD                                   ADAMS PRODUCTS   \n",
       "5    6  0016A00000TLdOcQAL                              SITE PREP INC OF NC   \n",
       "6    7  0016A00000TLd9OQAT                                  C R JACKSON INC   \n",
       "7    8  0016A00000TLesOQAT                     SUNBELT ASPHALT SURFACES INC   \n",
       "8  NaN                 NaN                                              NaN   \n",
       "9  NaN                 NaN                                              NaN   \n",
       "\n",
       "   Number of Records   \n",
       "0               848.0  \n",
       "1               374.0  \n",
       "2               317.0  \n",
       "3               312.0  \n",
       "4               190.0  \n",
       "5               137.0  \n",
       "6               123.0  \n",
       "7               118.0  \n",
       "8                 NaN  \n",
       "9                 NaN  "
      ]
     },
     "execution_count": 150,
     "metadata": {},
     "output_type": "execute_result"
    }
   ],
   "source": [
    "_df3.head(10)"
   ]
  },
  {
   "cell_type": "markdown",
   "id": "065aef5d-ab9f-4ae0-99f6-2e712ac5cdfe",
   "metadata": {},
   "source": [
    "##### Worksheet 5"
   ]
  },
  {
   "cell_type": "code",
   "execution_count": 152,
   "id": "f3577529-43a7-4735-b838-e98e33f29ce2",
   "metadata": {},
   "outputs": [
    {
     "name": "stdout",
     "output_type": "stream",
     "text": [
      "   District Division  Total of District Division\n",
      "0        Grand Total                       14904\n",
      "1          Carolinas                        5408\n",
      "2         Deep South                        4080\n",
      "3       Mid Atlantic                        1826\n",
      "4            Florida                        1823\n",
      "5           Mid East                         971\n",
      "6              Texas                         365\n",
      "7   Wholesales South                         277\n",
      "8        Whole sales                          75\n",
      "9      Out of Region                          47\n",
      "10  Wholesales North                          28\n",
      "11    Exports Office                           4\n"
     ]
    }
   ],
   "source": [
    "print(_df4)"
   ]
  },
  {
   "cell_type": "markdown",
   "id": "0e93c7cc-1a03-422d-89c1-2e208879c7cb",
   "metadata": {},
   "source": [
    "##### Worksheet 6"
   ]
  },
  {
   "cell_type": "code",
   "execution_count": 153,
   "id": "98dc0fca-a10d-4511-99aa-79c8cf64210a",
   "metadata": {},
   "outputs": [
    {
     "name": "stdout",
     "output_type": "stream",
     "text": [
      "                      Segment   Total of Segment\n",
      "0                  Grand Total           14811.0\n",
      "1      421-Basic Buyer-Low Tec           12099.0\n",
      "2                       430-NA            1417.0\n",
      "3     422-Performance Driven-H             367.0\n",
      "4    421 - Basic Buyer-Low Tec             232.0\n",
      "5     420-Basic Buyer-High Tec             227.0\n",
      "6      425-Relation Driven-Low             204.0\n",
      "7      427-External - Strenght             167.0\n",
      "8     423-Performance Driven-L              37.0\n",
      "9   422 - Performance Driven-H              21.0\n",
      "10    424-Relation Driven-High              12.0\n",
      "11        Relation Driven-High               9.0\n",
      "12        Basic Buyer-High Tec               5.0\n",
      "13         Basic Buyer-Low Tec               5.0\n",
      "14  420 - Basic Buyer-High Tec               4.0\n",
      "15   425 - Relation Driven-Low               2.0\n",
      "16  423 - Performance Driven-L               1.0\n",
      "17     429-Internal - Strenght               1.0\n",
      "18        Performance Driven-H               1.0\n",
      "19                     (blank)               NaN\n"
     ]
    }
   ],
   "source": [
    "print(_df5)"
   ]
  },
  {
   "cell_type": "code",
   "execution_count": 154,
   "id": "a3cfe67a-48e7-4afb-8d52-cc0bde6e4e94",
   "metadata": {
    "tags": []
   },
   "outputs": [
    {
     "name": "stdout",
     "output_type": "stream",
     "text": [
      "                     Chanel  Total of Chanel Type\n",
      "0               Grand Total               14878.0\n",
      "1             42-Contractor                5980.0\n",
      "2               44-Reseller                4181.0\n",
      "3              43-Ready Mix                2233.0\n",
      "4                400-Market                1118.0\n",
      "5      41-Concrete Products                 876.0\n",
      "6                  45-Other                 238.0\n",
      "7             40-Wholesales                  48.0\n",
      "8   U2-Non-Residential Bldg                  40.0\n",
      "9            04-CONSTRUCTOR                  33.0\n",
      "10                 ReadyMix                  30.0\n",
      "11            44 - Reseller                  18.0\n",
      "12               Contractor                  17.0\n",
      "13                 Reseller                  15.0\n",
      "14         ConcreteProducts                  11.0\n",
      "15           43 - Ready Mix                   9.0\n",
      "16                   Others                   7.0\n",
      "17            01-CONCRETERA                   6.0\n",
      "18          40 - Wholesales                   5.0\n",
      "19   41 - Concrete Products                   4.0\n",
      "20            404-Associate                   2.0\n",
      "21          42 - Contractor                   2.0\n",
      "22       17-COMERCIALIZADOR                   1.0\n",
      "23  406-Competitor Afiliate                   1.0\n",
      "24               45 - Other                   1.0\n",
      "25       47-INFRAESTRUCTURA                   1.0\n",
      "26                 U3-Civil                   1.0\n",
      "27                  (blank)                   NaN\n"
     ]
    }
   ],
   "source": [
    "print(_df6)"
   ]
  },
  {
   "cell_type": "code",
   "execution_count": 156,
   "id": "b8fed0a2-1437-48a9-aa82-1b3adf756213",
   "metadata": {},
   "outputs": [
    {
     "data": {
      "text/html": [
       "<div>\n",
       "<style scoped>\n",
       "    .dataframe tbody tr th:only-of-type {\n",
       "        vertical-align: middle;\n",
       "    }\n",
       "\n",
       "    .dataframe tbody tr th {\n",
       "        vertical-align: top;\n",
       "    }\n",
       "\n",
       "    .dataframe thead th {\n",
       "        text-align: right;\n",
       "    }\n",
       "</style>\n",
       "<table border=\"1\" class=\"dataframe\">\n",
       "  <thead>\n",
       "    <tr style=\"text-align: right;\">\n",
       "      <th></th>\n",
       "      <th>Parent ID</th>\n",
       "      <th>Count of ParentId</th>\n",
       "      <th>Name</th>\n",
       "      <th>Unnamed: 3</th>\n",
       "      <th>*Not sure if this is a great way to define each parent ID with name because there are multiple versions of one name for each</th>\n",
       "    </tr>\n",
       "  </thead>\n",
       "  <tbody>\n",
       "    <tr>\n",
       "      <th>0</th>\n",
       "      <td>Grand Total</td>\n",
       "      <td>9322.0</td>\n",
       "      <td>NaN</td>\n",
       "      <td>NaN</td>\n",
       "      <td>NaN</td>\n",
       "    </tr>\n",
       "    <tr>\n",
       "      <th>1</th>\n",
       "      <td>0016A00000TLdGhQAL</td>\n",
       "      <td>848.0</td>\n",
       "      <td>ATLANTA PAVING &amp; CONCRETE CONSTR</td>\n",
       "      <td>NaN</td>\n",
       "      <td>NaN</td>\n",
       "    </tr>\n",
       "    <tr>\n",
       "      <th>2</th>\n",
       "      <td>0016A00000TLdN6QAL</td>\n",
       "      <td>374.0</td>\n",
       "      <td>RUSTON PAVING CO INC LEXINGTON ESTATES</td>\n",
       "      <td>NaN</td>\n",
       "      <td>NaN</td>\n",
       "    </tr>\n",
       "    <tr>\n",
       "      <th>3</th>\n",
       "      <td>0016A00000TLdGpQAL</td>\n",
       "      <td>317.0</td>\n",
       "      <td>SANDERS BROTHERS CONSTR CO INC</td>\n",
       "      <td>NaN</td>\n",
       "      <td>NaN</td>\n",
       "    </tr>\n",
       "    <tr>\n",
       "      <th>4</th>\n",
       "      <td>0016A00000TLdVQQA1</td>\n",
       "      <td>312.0</td>\n",
       "      <td>SMYRNA READY MIX CONCRETE LLC PUNTA GORDA PLANT</td>\n",
       "      <td>NaN</td>\n",
       "      <td>NaN</td>\n",
       "    </tr>\n",
       "  </tbody>\n",
       "</table>\n",
       "</div>"
      ],
      "text/plain": [
       "            Parent ID  Count of ParentId  \\\n",
       "0         Grand Total             9322.0   \n",
       "1  0016A00000TLdGhQAL              848.0   \n",
       "2  0016A00000TLdN6QAL              374.0   \n",
       "3  0016A00000TLdGpQAL              317.0   \n",
       "4  0016A00000TLdVQQA1              312.0   \n",
       "\n",
       "                                              Name  Unnamed: 3  \\\n",
       "0                                              NaN         NaN   \n",
       "1                 ATLANTA PAVING & CONCRETE CONSTR         NaN   \n",
       "2           RUSTON PAVING CO INC LEXINGTON ESTATES         NaN   \n",
       "3                   SANDERS BROTHERS CONSTR CO INC         NaN   \n",
       "4  SMYRNA READY MIX CONCRETE LLC PUNTA GORDA PLANT         NaN   \n",
       "\n",
       "   *Not sure if this is a great way to define each parent ID with name because there are multiple versions of one name for each  \n",
       "0                                                NaN                                                                             \n",
       "1                                                NaN                                                                             \n",
       "2                                                NaN                                                                             \n",
       "3                                                NaN                                                                             \n",
       "4                                                NaN                                                                             "
      ]
     },
     "execution_count": 156,
     "metadata": {},
     "output_type": "execute_result"
    }
   ],
   "source": [
    "_df7.head()"
   ]
  },
  {
   "cell_type": "code",
   "execution_count": 157,
   "id": "1b35bb89-8d33-4330-ba15-1be52af0434e",
   "metadata": {},
   "outputs": [
    {
     "data": {
      "text/html": [
       "<div>\n",
       "<style scoped>\n",
       "    .dataframe tbody tr th:only-of-type {\n",
       "        vertical-align: middle;\n",
       "    }\n",
       "\n",
       "    .dataframe tbody tr th {\n",
       "        vertical-align: top;\n",
       "    }\n",
       "\n",
       "    .dataframe thead th {\n",
       "        text-align: right;\n",
       "    }\n",
       "</style>\n",
       "<table border=\"1\" class=\"dataframe\">\n",
       "  <thead>\n",
       "    <tr style=\"text-align: right;\">\n",
       "      <th></th>\n",
       "      <th>Parent ID</th>\n",
       "      <th>Name</th>\n",
       "    </tr>\n",
       "  </thead>\n",
       "  <tbody>\n",
       "    <tr>\n",
       "      <th>0</th>\n",
       "      <td>0016A00000TLf3yQAD</td>\n",
       "      <td>SMYRNA READY MIX CONCRETE LLC</td>\n",
       "    </tr>\n",
       "    <tr>\n",
       "      <th>1</th>\n",
       "      <td>0016A00000TLdOcQAL</td>\n",
       "      <td>SITE PREP INC OF NC JOB 2555</td>\n",
       "    </tr>\n",
       "    <tr>\n",
       "      <th>2</th>\n",
       "      <td>0016A00000TLf1qQAD</td>\n",
       "      <td>ACME BRICK COMPANY RINCON &amp; BLUFFTON APARTMENTS</td>\n",
       "    </tr>\n",
       "    <tr>\n",
       "      <th>3</th>\n",
       "      <td>0016A00000TLdGSQA1</td>\n",
       "      <td>ROCK SOLID STABILIZATION TERRELL SOLAR</td>\n",
       "    </tr>\n",
       "    <tr>\n",
       "      <th>4</th>\n",
       "      <td>NaN</td>\n",
       "      <td>BELTSVILLE CONSTRUCTION SUPPLY INC</td>\n",
       "    </tr>\n",
       "  </tbody>\n",
       "</table>\n",
       "</div>"
      ],
      "text/plain": [
       "            Parent ID                                             Name\n",
       "0  0016A00000TLf3yQAD                    SMYRNA READY MIX CONCRETE LLC\n",
       "1  0016A00000TLdOcQAL                     SITE PREP INC OF NC JOB 2555\n",
       "2  0016A00000TLf1qQAD  ACME BRICK COMPANY RINCON & BLUFFTON APARTMENTS\n",
       "3  0016A00000TLdGSQA1           ROCK SOLID STABILIZATION TERRELL SOLAR\n",
       "4                 NaN               BELTSVILLE CONSTRUCTION SUPPLY INC"
      ]
     },
     "execution_count": 157,
     "metadata": {},
     "output_type": "execute_result"
    }
   ],
   "source": [
    "_df8.head()"
   ]
  },
  {
   "cell_type": "code",
   "execution_count": 158,
   "id": "15355332-489c-4db4-854f-f4a97bcfd671",
   "metadata": {},
   "outputs": [
    {
     "data": {
      "text/html": [
       "<div>\n",
       "<style scoped>\n",
       "    .dataframe tbody tr th:only-of-type {\n",
       "        vertical-align: middle;\n",
       "    }\n",
       "\n",
       "    .dataframe tbody tr th {\n",
       "        vertical-align: top;\n",
       "    }\n",
       "\n",
       "    .dataframe thead th {\n",
       "        text-align: right;\n",
       "    }\n",
       "</style>\n",
       "<table border=\"1\" class=\"dataframe\">\n",
       "  <thead>\n",
       "    <tr style=\"text-align: right;\">\n",
       "      <th></th>\n",
       "      <th>Parent ID</th>\n",
       "      <th>Count of ParentId</th>\n",
       "      <th>Name</th>\n",
       "      <th>Unnamed: 3</th>\n",
       "      <th>*Not sure if this is a great way to define each parent ID with name because there are multiple versions of one name for each</th>\n",
       "    </tr>\n",
       "  </thead>\n",
       "  <tbody>\n",
       "    <tr>\n",
       "      <th>0</th>\n",
       "      <td>Grand Total</td>\n",
       "      <td>9322.0</td>\n",
       "      <td>NaN</td>\n",
       "      <td>NaN</td>\n",
       "      <td>NaN</td>\n",
       "    </tr>\n",
       "    <tr>\n",
       "      <th>1</th>\n",
       "      <td>0016A00000TLdGhQAL</td>\n",
       "      <td>848.0</td>\n",
       "      <td>ATLANTA PAVING &amp; CONCRETE CONSTR</td>\n",
       "      <td>NaN</td>\n",
       "      <td>NaN</td>\n",
       "    </tr>\n",
       "    <tr>\n",
       "      <th>2</th>\n",
       "      <td>0016A00000TLdN6QAL</td>\n",
       "      <td>374.0</td>\n",
       "      <td>RUSTON PAVING CO INC LEXINGTON ESTATES</td>\n",
       "      <td>NaN</td>\n",
       "      <td>NaN</td>\n",
       "    </tr>\n",
       "    <tr>\n",
       "      <th>3</th>\n",
       "      <td>0016A00000TLdGpQAL</td>\n",
       "      <td>317.0</td>\n",
       "      <td>SANDERS BROTHERS CONSTR CO INC</td>\n",
       "      <td>NaN</td>\n",
       "      <td>NaN</td>\n",
       "    </tr>\n",
       "    <tr>\n",
       "      <th>4</th>\n",
       "      <td>0016A00000TLdVQQA1</td>\n",
       "      <td>312.0</td>\n",
       "      <td>SMYRNA READY MIX CONCRETE LLC PUNTA GORDA PLANT</td>\n",
       "      <td>NaN</td>\n",
       "      <td>NaN</td>\n",
       "    </tr>\n",
       "  </tbody>\n",
       "</table>\n",
       "</div>"
      ],
      "text/plain": [
       "            Parent ID  Count of ParentId  \\\n",
       "0         Grand Total             9322.0   \n",
       "1  0016A00000TLdGhQAL              848.0   \n",
       "2  0016A00000TLdN6QAL              374.0   \n",
       "3  0016A00000TLdGpQAL              317.0   \n",
       "4  0016A00000TLdVQQA1              312.0   \n",
       "\n",
       "                                              Name  Unnamed: 3  \\\n",
       "0                                              NaN         NaN   \n",
       "1                 ATLANTA PAVING & CONCRETE CONSTR         NaN   \n",
       "2           RUSTON PAVING CO INC LEXINGTON ESTATES         NaN   \n",
       "3                   SANDERS BROTHERS CONSTR CO INC         NaN   \n",
       "4  SMYRNA READY MIX CONCRETE LLC PUNTA GORDA PLANT         NaN   \n",
       "\n",
       "   *Not sure if this is a great way to define each parent ID with name because there are multiple versions of one name for each  \n",
       "0                                                NaN                                                                             \n",
       "1                                                NaN                                                                             \n",
       "2                                                NaN                                                                             \n",
       "3                                                NaN                                                                             \n",
       "4                                                NaN                                                                             "
      ]
     },
     "execution_count": 158,
     "metadata": {},
     "output_type": "execute_result"
    }
   ],
   "source": [
    "_df9.head()"
   ]
  },
  {
   "cell_type": "code",
   "execution_count": 159,
   "id": "ab8a98b1-9c1f-479e-85ee-d433063dfbe5",
   "metadata": {},
   "outputs": [
    {
     "data": {
      "text/html": [
       "<div>\n",
       "<style scoped>\n",
       "    .dataframe tbody tr th:only-of-type {\n",
       "        vertical-align: middle;\n",
       "    }\n",
       "\n",
       "    .dataframe tbody tr th {\n",
       "        vertical-align: top;\n",
       "    }\n",
       "\n",
       "    .dataframe thead th {\n",
       "        text-align: right;\n",
       "    }\n",
       "</style>\n",
       "<table border=\"1\" class=\"dataframe\">\n",
       "  <thead>\n",
       "    <tr style=\"text-align: right;\">\n",
       "      <th></th>\n",
       "      <th>Parent ID</th>\n",
       "      <th>Name</th>\n",
       "    </tr>\n",
       "  </thead>\n",
       "  <tbody>\n",
       "    <tr>\n",
       "      <th>0</th>\n",
       "      <td>0016A00000TLf3yQAD</td>\n",
       "      <td>SMYRNA READY MIX CONCRETE LLC</td>\n",
       "    </tr>\n",
       "    <tr>\n",
       "      <th>1</th>\n",
       "      <td>0016A00000TLdOcQAL</td>\n",
       "      <td>SITE PREP INC OF NC JOB 2555</td>\n",
       "    </tr>\n",
       "    <tr>\n",
       "      <th>2</th>\n",
       "      <td>0016A00000TLf1qQAD</td>\n",
       "      <td>ACME BRICK COMPANY RINCON &amp; BLUFFTON APARTMENTS</td>\n",
       "    </tr>\n",
       "    <tr>\n",
       "      <th>3</th>\n",
       "      <td>0016A00000TLdGSQA1</td>\n",
       "      <td>ROCK SOLID STABILIZATION TERRELL SOLAR</td>\n",
       "    </tr>\n",
       "    <tr>\n",
       "      <th>4</th>\n",
       "      <td>NaN</td>\n",
       "      <td>BELTSVILLE CONSTRUCTION SUPPLY INC</td>\n",
       "    </tr>\n",
       "  </tbody>\n",
       "</table>\n",
       "</div>"
      ],
      "text/plain": [
       "            Parent ID                                             Name\n",
       "0  0016A00000TLf3yQAD                    SMYRNA READY MIX CONCRETE LLC\n",
       "1  0016A00000TLdOcQAL                     SITE PREP INC OF NC JOB 2555\n",
       "2  0016A00000TLf1qQAD  ACME BRICK COMPANY RINCON & BLUFFTON APARTMENTS\n",
       "3  0016A00000TLdGSQA1           ROCK SOLID STABILIZATION TERRELL SOLAR\n",
       "4                 NaN               BELTSVILLE CONSTRUCTION SUPPLY INC"
      ]
     },
     "execution_count": 159,
     "metadata": {},
     "output_type": "execute_result"
    }
   ],
   "source": [
    "_df10.head()"
   ]
  },
  {
   "cell_type": "markdown",
   "id": "29c495c6-1e21-4ee4-a223-312425fc082d",
   "metadata": {},
   "source": [
    "## **Second Workbook**\n",
    "> ### *\"RMX_Accounts_invoice\"*"
   ]
  },
  {
   "cell_type": "markdown",
   "id": "75664973-1186-4f58-9691-ba7290f44a50",
   "metadata": {},
   "source": [
    "##### Set working directory and import libraries"
   ]
  },
  {
   "cell_type": "code",
   "execution_count": 1,
   "id": "1af37593-9727-452b-a4b0-b894892e3492",
   "metadata": {},
   "outputs": [],
   "source": [
    "import os\n",
    "os.getcwd()\n",
    "os.chdir('/Users/brandonmorgeson/Desktop/Capstone')"
   ]
  },
  {
   "cell_type": "code",
   "execution_count": 2,
   "id": "sophisticated-master",
   "metadata": {},
   "outputs": [],
   "source": [
    "import numpy as np \n",
    "import pandas as pd \n",
    "import openpyxl as op"
   ]
  },
  {
   "cell_type": "markdown",
   "id": "630b5d2f-8650-439a-91c6-bce85ca6798c",
   "metadata": {
    "tags": []
   },
   "source": [
    "### Map Excel Workbook"
   ]
  },
  {
   "cell_type": "code",
   "execution_count": 3,
   "id": "a56479f9-076d-418f-9127-a71f01a0a0a7",
   "metadata": {
    "tags": []
   },
   "outputs": [],
   "source": [
    "xlsx = pd.ExcelFile('RMX_Accounts_invoice - AK.xlsx')"
   ]
  },
  {
   "cell_type": "markdown",
   "id": "a95def43-9e71-40f8-aa5c-e516df7f4136",
   "metadata": {},
   "source": [
    "#### Get Excel Worksheet Names"
   ]
  },
  {
   "cell_type": "code",
   "execution_count": 4,
   "id": "41f04f11-af05-4d4c-b500-a8979193d3ad",
   "metadata": {
    "tags": []
   },
   "outputs": [],
   "source": [
    "sheet_names = xlsx.sheet_names"
   ]
  },
  {
   "cell_type": "code",
   "execution_count": 5,
   "id": "f3a39321-602f-4ad5-a5c4-47649be57081",
   "metadata": {},
   "outputs": [
    {
     "data": {
      "text/plain": [
       "['RMX_Accounts_invoice',\n",
       " 'RMX_Accounts_invoice - AK',\n",
       " 'Payer Division',\n",
       " 'Payer Top State',\n",
       " 'Payer Type',\n",
       " 'Sub-Segment']"
      ]
     },
     "execution_count": 5,
     "metadata": {},
     "output_type": "execute_result"
    }
   ],
   "source": [
    "sheet_names"
   ]
  },
  {
   "cell_type": "code",
   "execution_count": 6,
   "id": "f8c68dad-40b8-4f51-af4d-9bd364e44577",
   "metadata": {},
   "outputs": [
    {
     "data": {
      "text/plain": [
       "6"
      ]
     },
     "execution_count": 6,
     "metadata": {},
     "output_type": "execute_result"
    }
   ],
   "source": [
    "len(sheet_names)"
   ]
  },
  {
   "cell_type": "markdown",
   "id": "50f861d1-bfd1-4bdf-bc54-b16220c78dc2",
   "metadata": {},
   "source": [
    "### Create dataframe for worksheet"
   ]
  },
  {
   "cell_type": "markdown",
   "id": "c92b3f6b-2aad-40ef-8ff4-fb9e85af6c55",
   "metadata": {},
   "source": [
    "##### *Worksheet 1 \"RMX_Accounts_invoice\"*"
   ]
  },
  {
   "cell_type": "code",
   "execution_count": 7,
   "id": "580e68ff-81f5-4b41-b50a-c807ab0488d7",
   "metadata": {},
   "outputs": [],
   "source": [
    "df = pd.read_excel(xlsx, sheet_names[0])"
   ]
  },
  {
   "cell_type": "markdown",
   "id": "d765f4ef-0e65-429a-957f-f5c5f69e06b0",
   "metadata": {},
   "source": [
    "##### *Worksheet 2 \"RMX_Accounts_invoice - AK\"*"
   ]
  },
  {
   "cell_type": "code",
   "execution_count": 8,
   "id": "eac6666d-ccc1-40ed-b0ea-4a04b81e748b",
   "metadata": {
    "tags": []
   },
   "outputs": [],
   "source": [
    "df1 = pd.read_excel(xlsx, sheet_names[1])"
   ]
  },
  {
   "cell_type": "markdown",
   "id": "84f99832-833e-4bdb-8a6d-26408590486e",
   "metadata": {},
   "source": [
    "##### *Worksheet 3 \"Payer Divison\"*"
   ]
  },
  {
   "cell_type": "code",
   "execution_count": 9,
   "id": "b8753f2c-4ca4-4271-93ca-59eaac696392",
   "metadata": {},
   "outputs": [],
   "source": [
    "df2 = pd.read_excel(xlsx, sheet_names[2])"
   ]
  },
  {
   "cell_type": "markdown",
   "id": "75e777de-9dc5-4ee4-ab56-42e9f3cb89d6",
   "metadata": {},
   "source": [
    "##### *Worksheet 4 \"Payer Top State\"*"
   ]
  },
  {
   "cell_type": "code",
   "execution_count": 10,
   "id": "c5b3feca-011b-4702-bbac-41fc197fe383",
   "metadata": {},
   "outputs": [],
   "source": [
    "df3 = pd.read_excel(xlsx, sheet_names[3])"
   ]
  },
  {
   "cell_type": "markdown",
   "id": "c5fc91a7-a341-41af-986d-225975acf4a8",
   "metadata": {},
   "source": [
    "##### *Worksheet 5 \"Payer Type\"*"
   ]
  },
  {
   "cell_type": "code",
   "execution_count": 11,
   "id": "16bec7d5-8ee2-4861-b7fd-70fdd876e7c1",
   "metadata": {},
   "outputs": [],
   "source": [
    "df4 = pd.read_excel(xlsx, sheet_names[4])"
   ]
  },
  {
   "cell_type": "markdown",
   "id": "04a0bd7a-ac43-4a5f-859d-15ecfb9e5ecf",
   "metadata": {},
   "source": [
    "##### *Worksheet 6 \"Sub-Segment\"*"
   ]
  },
  {
   "cell_type": "code",
   "execution_count": 12,
   "id": "e28a3836-7ab3-4fdc-a150-28c5d0e3139d",
   "metadata": {},
   "outputs": [],
   "source": [
    "df5 = pd.read_excel(xlsx, sheet_names[5])"
   ]
  },
  {
   "cell_type": "markdown",
   "id": "fdc22456-acde-40df-9d9c-01f855db5f21",
   "metadata": {},
   "source": [
    "### Inspect Data"
   ]
  },
  {
   "cell_type": "markdown",
   "id": "de779611-7589-4d81-a836-8ac473a2a2b9",
   "metadata": {},
   "source": [
    "##### Worksheet 1"
   ]
  },
  {
   "cell_type": "code",
   "execution_count": 13,
   "id": "9f871f29-6f9b-496e-b63a-1ff43967086a",
   "metadata": {},
   "outputs": [
    {
     "name": "stdout",
     "output_type": "stream",
     "text": [
      "<class 'pandas.core.frame.DataFrame'>\n",
      "RangeIndex: 477645 entries, 0 to 477644\n",
      "Data columns (total 10 columns):\n",
      " #   Column                        Non-Null Count   Dtype  \n",
      "---  ------                        --------------   -----  \n",
      " 0   Payer_Type                    477645 non-null  object \n",
      " 1   Payer_District_Division       477420 non-null  object \n",
      " 2   Payer_Channel                 477645 non-null  object \n",
      " 3   Payer_Sales_Group_Sub_Market  477645 non-null  object \n",
      " 4   Invoice_Number                445619 non-null  object \n",
      " 5   Payer_State_Province          445619 non-null  object \n",
      " 6   Payer_RMX_Sub_Segment         273441 non-null  object \n",
      " 7   Payer_RMX_Segment             273441 non-null  object \n",
      " 8   Payer_SAP_Status              415902 non-null  object \n",
      " 9   Payer_SAP_Code                415902 non-null  float64\n",
      "dtypes: float64(1), object(9)\n",
      "memory usage: 36.4+ MB\n"
     ]
    }
   ],
   "source": [
    "df.info()"
   ]
  },
  {
   "cell_type": "code",
   "execution_count": 24,
   "id": "d8234819-4b19-4d0b-8dbe-4b1882fc1b58",
   "metadata": {},
   "outputs": [
    {
     "data": {
      "text/html": [
       "<div>\n",
       "<style scoped>\n",
       "    .dataframe tbody tr th:only-of-type {\n",
       "        vertical-align: middle;\n",
       "    }\n",
       "\n",
       "    .dataframe tbody tr th {\n",
       "        vertical-align: top;\n",
       "    }\n",
       "\n",
       "    .dataframe thead th {\n",
       "        text-align: right;\n",
       "    }\n",
       "</style>\n",
       "<table border=\"1\" class=\"dataframe\">\n",
       "  <thead>\n",
       "    <tr style=\"text-align: right;\">\n",
       "      <th></th>\n",
       "      <th>Payer_SAP_Code</th>\n",
       "    </tr>\n",
       "  </thead>\n",
       "  <tbody>\n",
       "    <tr>\n",
       "      <th>count</th>\n",
       "      <td>415902.000000</td>\n",
       "    </tr>\n",
       "    <tr>\n",
       "      <th>mean</th>\n",
       "      <td>36349.950597</td>\n",
       "    </tr>\n",
       "    <tr>\n",
       "      <th>std</th>\n",
       "      <td>32394.950842</td>\n",
       "    </tr>\n",
       "    <tr>\n",
       "      <th>min</th>\n",
       "      <td>951.000000</td>\n",
       "    </tr>\n",
       "    <tr>\n",
       "      <th>25%</th>\n",
       "      <td>14675.000000</td>\n",
       "    </tr>\n",
       "    <tr>\n",
       "      <th>50%</th>\n",
       "      <td>20026.000000</td>\n",
       "    </tr>\n",
       "    <tr>\n",
       "      <th>75%</th>\n",
       "      <td>45079.000000</td>\n",
       "    </tr>\n",
       "    <tr>\n",
       "      <th>max</th>\n",
       "      <td>134154.000000</td>\n",
       "    </tr>\n",
       "  </tbody>\n",
       "</table>\n",
       "</div>"
      ],
      "text/plain": [
       "       Payer_SAP_Code\n",
       "count   415902.000000\n",
       "mean     36349.950597\n",
       "std      32394.950842\n",
       "min        951.000000\n",
       "25%      14675.000000\n",
       "50%      20026.000000\n",
       "75%      45079.000000\n",
       "max     134154.000000"
      ]
     },
     "execution_count": 24,
     "metadata": {},
     "output_type": "execute_result"
    }
   ],
   "source": [
    "df.describe()"
   ]
  },
  {
   "cell_type": "code",
   "execution_count": 15,
   "id": "57bab40d-03f1-4944-9d87-7fbec651ff51",
   "metadata": {},
   "outputs": [
    {
     "data": {
      "text/html": [
       "<div>\n",
       "<style scoped>\n",
       "    .dataframe tbody tr th:only-of-type {\n",
       "        vertical-align: middle;\n",
       "    }\n",
       "\n",
       "    .dataframe tbody tr th {\n",
       "        vertical-align: top;\n",
       "    }\n",
       "\n",
       "    .dataframe thead th {\n",
       "        text-align: right;\n",
       "    }\n",
       "</style>\n",
       "<table border=\"1\" class=\"dataframe\">\n",
       "  <thead>\n",
       "    <tr style=\"text-align: right;\">\n",
       "      <th></th>\n",
       "      <th>Payer_Type</th>\n",
       "      <th>Payer_District_Division</th>\n",
       "      <th>Payer_Channel</th>\n",
       "      <th>Payer_Sales_Group_Sub_Market</th>\n",
       "      <th>Invoice_Number</th>\n",
       "      <th>Payer_State_Province</th>\n",
       "      <th>Payer_RMX_Sub_Segment</th>\n",
       "      <th>Payer_RMX_Segment</th>\n",
       "      <th>Payer_SAP_Status</th>\n",
       "      <th>Payer_SAP_Code</th>\n",
       "    </tr>\n",
       "  </thead>\n",
       "  <tbody>\n",
       "    <tr>\n",
       "      <th>0</th>\n",
       "      <td>Customer</td>\n",
       "      <td>Jacksonville divisio</td>\n",
       "      <td>U2-Non-Residential Bldg</td>\n",
       "      <td>U18-Jacksonville divisio</td>\n",
       "      <td>92676710</td>\n",
       "      <td>FL</td>\n",
       "      <td>Other Commercial</td>\n",
       "      <td>Commercial</td>\n",
       "      <td>Active</td>\n",
       "      <td>113496.0</td>\n",
       "    </tr>\n",
       "    <tr>\n",
       "      <th>1</th>\n",
       "      <td>Customer</td>\n",
       "      <td>Jacksonville divisio</td>\n",
       "      <td>U2-Non-Residential Bldg</td>\n",
       "      <td>U18-Jacksonville divisio</td>\n",
       "      <td>92380768</td>\n",
       "      <td>FL</td>\n",
       "      <td>Other Commercial</td>\n",
       "      <td>Commercial</td>\n",
       "      <td>Active</td>\n",
       "      <td>113496.0</td>\n",
       "    </tr>\n",
       "    <tr>\n",
       "      <th>2</th>\n",
       "      <td>Customer</td>\n",
       "      <td>Jacksonville divisio</td>\n",
       "      <td>U2-Non-Residential Bldg</td>\n",
       "      <td>U18-Jacksonville divisio</td>\n",
       "      <td>92286652</td>\n",
       "      <td>FL</td>\n",
       "      <td>Other Commercial</td>\n",
       "      <td>Commercial</td>\n",
       "      <td>Active</td>\n",
       "      <td>113496.0</td>\n",
       "    </tr>\n",
       "    <tr>\n",
       "      <th>3</th>\n",
       "      <td>Customer</td>\n",
       "      <td>Dallas</td>\n",
       "      <td>U1-Residential Bldg</td>\n",
       "      <td>U16-Dallas</td>\n",
       "      <td>92180098</td>\n",
       "      <td>TX</td>\n",
       "      <td>NaN</td>\n",
       "      <td>NaN</td>\n",
       "      <td>Active</td>\n",
       "      <td>105611.0</td>\n",
       "    </tr>\n",
       "    <tr>\n",
       "      <th>4</th>\n",
       "      <td>Customer</td>\n",
       "      <td>Atlanta</td>\n",
       "      <td>U1-Residential Bldg</td>\n",
       "      <td>U10-Atlanta</td>\n",
       "      <td>92810234</td>\n",
       "      <td>GA</td>\n",
       "      <td>Single Family</td>\n",
       "      <td>Residential</td>\n",
       "      <td>Active</td>\n",
       "      <td>9004.0</td>\n",
       "    </tr>\n",
       "  </tbody>\n",
       "</table>\n",
       "</div>"
      ],
      "text/plain": [
       "  Payer_Type Payer_District_Division            Payer_Channel  \\\n",
       "0   Customer    Jacksonville divisio  U2-Non-Residential Bldg   \n",
       "1   Customer    Jacksonville divisio  U2-Non-Residential Bldg   \n",
       "2   Customer    Jacksonville divisio  U2-Non-Residential Bldg   \n",
       "3   Customer                  Dallas      U1-Residential Bldg   \n",
       "4   Customer                 Atlanta      U1-Residential Bldg   \n",
       "\n",
       "  Payer_Sales_Group_Sub_Market Invoice_Number Payer_State_Province  \\\n",
       "0     U18-Jacksonville divisio       92676710                   FL   \n",
       "1     U18-Jacksonville divisio       92380768                   FL   \n",
       "2     U18-Jacksonville divisio       92286652                   FL   \n",
       "3                   U16-Dallas       92180098                   TX   \n",
       "4                  U10-Atlanta       92810234                   GA   \n",
       "\n",
       "  Payer_RMX_Sub_Segment Payer_RMX_Segment Payer_SAP_Status  Payer_SAP_Code  \n",
       "0      Other Commercial        Commercial           Active        113496.0  \n",
       "1      Other Commercial        Commercial           Active        113496.0  \n",
       "2      Other Commercial        Commercial           Active        113496.0  \n",
       "3                   NaN               NaN           Active        105611.0  \n",
       "4         Single Family       Residential           Active          9004.0  "
      ]
     },
     "execution_count": 15,
     "metadata": {},
     "output_type": "execute_result"
    }
   ],
   "source": [
    "df.head()"
   ]
  },
  {
   "cell_type": "code",
   "execution_count": 91,
   "id": "0dfbad4c-5fa9-4eff-8294-617091b588c0",
   "metadata": {},
   "outputs": [
    {
     "data": {
      "text/plain": [
       "GA             140366\n",
       "FL             136729\n",
       "NC              61508\n",
       "TX              41320\n",
       "Residential     19582\n",
       "SC              13711\n",
       "Name: Payer_State_Province, dtype: int64"
      ]
     },
     "execution_count": 91,
     "metadata": {},
     "output_type": "execute_result"
    }
   ],
   "source": [
    "df[\"Payer_State_Province\"].value_counts().head(6)"
   ]
  },
  {
   "cell_type": "markdown",
   "id": "b644735a-dc88-4342-a1a2-35f3ee60f9c0",
   "metadata": {},
   "source": [
    "#### Count missing values in each column"
   ]
  },
  {
   "cell_type": "code",
   "execution_count": null,
   "id": "d5824f57-56c8-464b-8b76-6769586157a9",
   "metadata": {},
   "outputs": [],
   "source": [
    "#column_names = list(df.columns)\n",
    "#for column in range(0,len(column_names)):\n",
    "#    print(df[column_names[column]].isna().value_counts())"
   ]
  },
  {
   "cell_type": "code",
   "execution_count": 86,
   "id": "8c266bfb-f8f9-4ee4-9e7e-f644e4a58943",
   "metadata": {},
   "outputs": [
    {
     "data": {
      "text/plain": [
       "{'Payer_Type': 0,\n",
       " 'Payer_District_Division': 225,\n",
       " 'Payer_Channel': 0,\n",
       " 'Payer_Sales_Group_Sub_Market': 0,\n",
       " 'Invoice_Number': 32026,\n",
       " 'Payer_State_Province': 32026,\n",
       " 'Payer_RMX_Sub_Segment': 204204,\n",
       " 'Payer_RMX_Segment': 204204,\n",
       " 'Payer_SAP_Status': 61743,\n",
       " 'Payer_SAP_Code': 61743}"
      ]
     },
     "execution_count": 86,
     "metadata": {},
     "output_type": "execute_result"
    }
   ],
   "source": [
    "df.isna().sum().to_dict()"
   ]
  },
  {
   "cell_type": "markdown",
   "id": "162f2ab7-fc3d-446a-8c59-24d22c04b415",
   "metadata": {},
   "source": [
    "##### Worksheet 2"
   ]
  },
  {
   "cell_type": "code",
   "execution_count": 16,
   "id": "29176a74-fbff-4f7c-9399-a4450a414f54",
   "metadata": {},
   "outputs": [
    {
     "name": "stdout",
     "output_type": "stream",
     "text": [
      "<class 'pandas.core.frame.DataFrame'>\n",
      "RangeIndex: 477645 entries, 0 to 477644\n",
      "Data columns (total 10 columns):\n",
      " #   Column                        Non-Null Count   Dtype  \n",
      "---  ------                        --------------   -----  \n",
      " 0   Payer_Type                    477645 non-null  object \n",
      " 1   Payer_District_Division       477420 non-null  object \n",
      " 2   Payer_Channel                 477645 non-null  object \n",
      " 3   Payer_Sales_Group_Sub_Market  477645 non-null  object \n",
      " 4   Invoice_Number                445619 non-null  object \n",
      " 5   Payer_State_Province          445619 non-null  object \n",
      " 6   Payer_RMX_Sub_Segment         273441 non-null  object \n",
      " 7   Payer_RMX_Segment             273441 non-null  object \n",
      " 8   Payer_SAP_Status              415902 non-null  object \n",
      " 9   Payer_SAP_Code                415902 non-null  float64\n",
      "dtypes: float64(1), object(9)\n",
      "memory usage: 36.4+ MB\n"
     ]
    }
   ],
   "source": [
    "df1.info()"
   ]
  },
  {
   "cell_type": "code",
   "execution_count": 17,
   "id": "59cbf3e1-3b9d-4152-a3ec-0134ca5c3ba6",
   "metadata": {
    "tags": []
   },
   "outputs": [
    {
     "data": {
      "text/html": [
       "<div>\n",
       "<style scoped>\n",
       "    .dataframe tbody tr th:only-of-type {\n",
       "        vertical-align: middle;\n",
       "    }\n",
       "\n",
       "    .dataframe tbody tr th {\n",
       "        vertical-align: top;\n",
       "    }\n",
       "\n",
       "    .dataframe thead th {\n",
       "        text-align: right;\n",
       "    }\n",
       "</style>\n",
       "<table border=\"1\" class=\"dataframe\">\n",
       "  <thead>\n",
       "    <tr style=\"text-align: right;\">\n",
       "      <th></th>\n",
       "      <th>Payer_SAP_Code</th>\n",
       "    </tr>\n",
       "  </thead>\n",
       "  <tbody>\n",
       "    <tr>\n",
       "      <th>count</th>\n",
       "      <td>415902.000000</td>\n",
       "    </tr>\n",
       "    <tr>\n",
       "      <th>mean</th>\n",
       "      <td>36349.950597</td>\n",
       "    </tr>\n",
       "    <tr>\n",
       "      <th>std</th>\n",
       "      <td>32394.950842</td>\n",
       "    </tr>\n",
       "    <tr>\n",
       "      <th>min</th>\n",
       "      <td>951.000000</td>\n",
       "    </tr>\n",
       "    <tr>\n",
       "      <th>25%</th>\n",
       "      <td>14675.000000</td>\n",
       "    </tr>\n",
       "    <tr>\n",
       "      <th>50%</th>\n",
       "      <td>20026.000000</td>\n",
       "    </tr>\n",
       "    <tr>\n",
       "      <th>75%</th>\n",
       "      <td>45079.000000</td>\n",
       "    </tr>\n",
       "    <tr>\n",
       "      <th>max</th>\n",
       "      <td>134154.000000</td>\n",
       "    </tr>\n",
       "  </tbody>\n",
       "</table>\n",
       "</div>"
      ],
      "text/plain": [
       "       Payer_SAP_Code\n",
       "count   415902.000000\n",
       "mean     36349.950597\n",
       "std      32394.950842\n",
       "min        951.000000\n",
       "25%      14675.000000\n",
       "50%      20026.000000\n",
       "75%      45079.000000\n",
       "max     134154.000000"
      ]
     },
     "execution_count": 17,
     "metadata": {},
     "output_type": "execute_result"
    }
   ],
   "source": [
    "df1.describe()"
   ]
  },
  {
   "cell_type": "code",
   "execution_count": 92,
   "id": "2fc59d0b-f1dd-4540-b516-f9883c20dcdb",
   "metadata": {},
   "outputs": [
    {
     "data": {
      "text/plain": [
       "{'Payer_Type': 0,\n",
       " 'Payer_District_Division': 225,\n",
       " 'Payer_Channel': 0,\n",
       " 'Payer_Sales_Group_Sub_Market': 0,\n",
       " 'Invoice_Number': 32026,\n",
       " 'Payer_State_Province': 32026,\n",
       " 'Payer_RMX_Sub_Segment': 204204,\n",
       " 'Payer_RMX_Segment': 204204,\n",
       " 'Payer_SAP_Status': 61743,\n",
       " 'Payer_SAP_Code': 61743}"
      ]
     },
     "execution_count": 92,
     "metadata": {},
     "output_type": "execute_result"
    }
   ],
   "source": [
    "df1.isna().sum().to_dict()"
   ]
  },
  {
   "cell_type": "markdown",
   "id": "3b9de1fd-385c-4eff-b23f-27ea941758b5",
   "metadata": {},
   "source": [
    "##### It looks like worksheet 1 & 2 are the exact same"
   ]
  },
  {
   "cell_type": "markdown",
   "id": "f0026b20-0826-41f1-9fd7-35634eab6ca3",
   "metadata": {},
   "source": [
    "##### Worksheet 3"
   ]
  },
  {
   "cell_type": "code",
   "execution_count": 18,
   "id": "349a9742-0375-40fe-b9b9-2e675845a79f",
   "metadata": {},
   "outputs": [
    {
     "data": {
      "text/html": [
       "<div>\n",
       "<style scoped>\n",
       "    .dataframe tbody tr th:only-of-type {\n",
       "        vertical-align: middle;\n",
       "    }\n",
       "\n",
       "    .dataframe tbody tr th {\n",
       "        vertical-align: top;\n",
       "    }\n",
       "\n",
       "    .dataframe thead th {\n",
       "        text-align: right;\n",
       "    }\n",
       "</style>\n",
       "<table border=\"1\" class=\"dataframe\">\n",
       "  <thead>\n",
       "    <tr style=\"text-align: right;\">\n",
       "      <th></th>\n",
       "      <th>Row Labels</th>\n",
       "      <th>Count of Payer_District_Division</th>\n",
       "    </tr>\n",
       "  </thead>\n",
       "  <tbody>\n",
       "    <tr>\n",
       "      <th>0</th>\n",
       "      <td>Atlanta</td>\n",
       "      <td>84830</td>\n",
       "    </tr>\n",
       "    <tr>\n",
       "      <th>1</th>\n",
       "      <td>Jacksonville divisio</td>\n",
       "      <td>47576</td>\n",
       "    </tr>\n",
       "    <tr>\n",
       "      <th>2</th>\n",
       "      <td>Tampa division</td>\n",
       "      <td>40208</td>\n",
       "    </tr>\n",
       "    <tr>\n",
       "      <th>3</th>\n",
       "      <td>Sarasota Ft Myers Di</td>\n",
       "      <td>34409</td>\n",
       "    </tr>\n",
       "    <tr>\n",
       "      <th>4</th>\n",
       "      <td>East NC</td>\n",
       "      <td>34082</td>\n",
       "    </tr>\n",
       "  </tbody>\n",
       "</table>\n",
       "</div>"
      ],
      "text/plain": [
       "             Row Labels  Count of Payer_District_Division\n",
       "0               Atlanta                             84830\n",
       "1  Jacksonville divisio                             47576\n",
       "2        Tampa division                             40208\n",
       "3  Sarasota Ft Myers Di                             34409\n",
       "4               East NC                             34082"
      ]
     },
     "execution_count": 18,
     "metadata": {},
     "output_type": "execute_result"
    }
   ],
   "source": [
    "df2.head()"
   ]
  },
  {
   "cell_type": "markdown",
   "id": "4ff94274-6f22-4595-bfd2-5ec8e14fd840",
   "metadata": {},
   "source": [
    "##### Worksheet 4"
   ]
  },
  {
   "cell_type": "code",
   "execution_count": 20,
   "id": "0ea139f4-db2a-4acb-9fb7-8525e40536b4",
   "metadata": {},
   "outputs": [
    {
     "data": {
      "text/html": [
       "<div>\n",
       "<style scoped>\n",
       "    .dataframe tbody tr th:only-of-type {\n",
       "        vertical-align: middle;\n",
       "    }\n",
       "\n",
       "    .dataframe tbody tr th {\n",
       "        vertical-align: top;\n",
       "    }\n",
       "\n",
       "    .dataframe thead th {\n",
       "        text-align: right;\n",
       "    }\n",
       "</style>\n",
       "<table border=\"1\" class=\"dataframe\">\n",
       "  <thead>\n",
       "    <tr style=\"text-align: right;\">\n",
       "      <th></th>\n",
       "      <th>Row Labels</th>\n",
       "      <th>Count of Payer_State_Province</th>\n",
       "    </tr>\n",
       "  </thead>\n",
       "  <tbody>\n",
       "    <tr>\n",
       "      <th>0</th>\n",
       "      <td>GA</td>\n",
       "      <td>140366</td>\n",
       "    </tr>\n",
       "    <tr>\n",
       "      <th>1</th>\n",
       "      <td>FL</td>\n",
       "      <td>136729</td>\n",
       "    </tr>\n",
       "    <tr>\n",
       "      <th>2</th>\n",
       "      <td>NC</td>\n",
       "      <td>61508</td>\n",
       "    </tr>\n",
       "    <tr>\n",
       "      <th>3</th>\n",
       "      <td>TX</td>\n",
       "      <td>41320</td>\n",
       "    </tr>\n",
       "    <tr>\n",
       "      <th>4</th>\n",
       "      <td>NaN</td>\n",
       "      <td>32026</td>\n",
       "    </tr>\n",
       "    <tr>\n",
       "      <th>5</th>\n",
       "      <td>Residential</td>\n",
       "      <td>19582</td>\n",
       "    </tr>\n",
       "    <tr>\n",
       "      <th>6</th>\n",
       "      <td>SC</td>\n",
       "      <td>13711</td>\n",
       "    </tr>\n",
       "    <tr>\n",
       "      <th>7</th>\n",
       "      <td>Commercial</td>\n",
       "      <td>8840</td>\n",
       "    </tr>\n",
       "    <tr>\n",
       "      <th>8</th>\n",
       "      <td>AL</td>\n",
       "      <td>7309</td>\n",
       "    </tr>\n",
       "    <tr>\n",
       "      <th>9</th>\n",
       "      <td>MO</td>\n",
       "      <td>2791</td>\n",
       "    </tr>\n",
       "  </tbody>\n",
       "</table>\n",
       "</div>"
      ],
      "text/plain": [
       "    Row Labels  Count of Payer_State_Province\n",
       "0           GA                         140366\n",
       "1           FL                         136729\n",
       "2           NC                          61508\n",
       "3           TX                          41320\n",
       "4          NaN                          32026\n",
       "5  Residential                          19582\n",
       "6           SC                          13711\n",
       "7   Commercial                           8840\n",
       "8           AL                           7309\n",
       "9           MO                           2791"
      ]
     },
     "execution_count": 20,
     "metadata": {},
     "output_type": "execute_result"
    }
   ],
   "source": [
    "df3.head(10)"
   ]
  },
  {
   "cell_type": "markdown",
   "id": "83155ba9-59f9-497c-8b84-cb57c0a9abf1",
   "metadata": {},
   "source": [
    "##### Worksheet 5"
   ]
  },
  {
   "cell_type": "code",
   "execution_count": 21,
   "id": "8bdd7f72-33bb-4a4d-bb2c-5402843f294b",
   "metadata": {},
   "outputs": [
    {
     "name": "stdout",
     "output_type": "stream",
     "text": [
      "                Row Labels  Count of Payer_Type\n",
      "0                 Customer               415902\n",
      "1  U2-Non-Residential Bldg                27977\n",
      "2      U1-Residential Bldg                23926\n",
      "3                   U4-COD                 7204\n",
      "4                 U3-Civil                 2636\n",
      "5              Grand Total               477645\n"
     ]
    }
   ],
   "source": [
    "print(df4)"
   ]
  },
  {
   "cell_type": "markdown",
   "id": "fdac3b24-f65c-489a-a09a-cb317eaa1e03",
   "metadata": {},
   "source": [
    "##### Worksheet 6"
   ]
  },
  {
   "cell_type": "code",
   "execution_count": 22,
   "id": "1dc813c3-c55e-460f-98c9-67c03cca5f89",
   "metadata": {},
   "outputs": [
    {
     "name": "stdout",
     "output_type": "stream",
     "text": [
      "              Row Labels  Count of Payer_RMX_Sub_Segment\n",
      "0                    NaN                          204204\n",
      "1          Single Family                          113827\n",
      "2       Other Commercial                           66901\n",
      "3                 Active                           57746\n",
      "4             Commercial                           15467\n",
      "5     Streets & Highways                            8828\n",
      "6               Inactive                            3997\n",
      "7           Multi-Family                            2292\n",
      "8          INSTITUCIONAL                            2056\n",
      "9     Res Maint & Repair                             924\n",
      "10  Parking Lots & Decks                             702\n",
      "11            Industrial                             337\n",
      "12      Parks & Stadiums                             184\n",
      "13                Energy                             104\n",
      "14         Water & Sewer                              39\n",
      "15          Agricultural                              20\n",
      "16  Offic & Mixed Use Bl                              11\n",
      "17       Airports & Rail                               6\n",
      "18           Grand Total                          477645\n"
     ]
    }
   ],
   "source": [
    "print(df5)"
   ]
  },
  {
   "cell_type": "markdown",
   "id": "956168f5-619b-44fe-8109-843487e5de93",
   "metadata": {
    "jp-MarkdownHeadingCollapsed": true,
    "tags": []
   },
   "source": [
    "### Worksheets 3-6 are simple pivot tables that can be done through count and group by functions"
   ]
  },
  {
   "cell_type": "markdown",
   "id": "0ebfe21a-24cd-4f7e-9217-e2357712c5f2",
   "metadata": {},
   "source": [
    "## **Third Workbook** \n",
    "> ### *\"Profiability_2021\"*"
   ]
  },
  {
   "cell_type": "markdown",
   "id": "c5233689-8d74-4de1-b2f9-630dbec33451",
   "metadata": {
    "tags": []
   },
   "source": [
    "### Map Excel Workbook"
   ]
  },
  {
   "cell_type": "code",
   "execution_count": 95,
   "id": "1bcaebe5-cab5-4024-bacb-392e64ebed1c",
   "metadata": {},
   "outputs": [],
   "source": [
    "xlsx_profit = pd.ExcelFile('Profitability_2021 - AK.xlsx')"
   ]
  },
  {
   "cell_type": "markdown",
   "id": "d074c370-9b1e-4f08-b6b3-323ba6d5fe82",
   "metadata": {},
   "source": [
    "#### Get Excel Worksheet Names"
   ]
  },
  {
   "cell_type": "code",
   "execution_count": 96,
   "id": "adc411ec-f65c-468c-b7b1-d1c01bd9a26e",
   "metadata": {
    "tags": []
   },
   "outputs": [],
   "source": [
    "sheet_names2 = xlsx_profit.sheet_names"
   ]
  },
  {
   "cell_type": "code",
   "execution_count": 97,
   "id": "e87607ec-6545-4610-9985-8beeabc4002b",
   "metadata": {},
   "outputs": [
    {
     "data": {
      "text/plain": [
       "['Profitability_2021',\n",
       " 'Profitability_2021 - AK',\n",
       " 'Top Product Line',\n",
       " 'Top Customer Location',\n",
       " 'Top Material',\n",
       " 'Pack Type',\n",
       " 'Top Plant - if relevant']"
      ]
     },
     "execution_count": 97,
     "metadata": {},
     "output_type": "execute_result"
    }
   ],
   "source": [
    "sheet_names2"
   ]
  },
  {
   "cell_type": "code",
   "execution_count": 101,
   "id": "32a10f64-c4e3-476b-8a92-f59a184cfcfb",
   "metadata": {},
   "outputs": [
    {
     "data": {
      "text/plain": [
       "7"
      ]
     },
     "execution_count": 101,
     "metadata": {},
     "output_type": "execute_result"
    }
   ],
   "source": [
    "len(sheet_names2)"
   ]
  },
  {
   "cell_type": "markdown",
   "id": "07571e1d-2930-455d-99b8-317e9a9c6454",
   "metadata": {},
   "source": [
    "### Create dataframe for each worksheet"
   ]
  },
  {
   "cell_type": "markdown",
   "id": "6ffb5b0e-8e2b-4421-963d-1381931c2431",
   "metadata": {},
   "source": [
    "##### *Worksheet 1 \"Profitability_2021\"*"
   ]
  },
  {
   "cell_type": "code",
   "execution_count": 102,
   "id": "0b9e7b41-a5ee-4db3-9183-37bed098732f",
   "metadata": {},
   "outputs": [],
   "source": [
    "df_ = pd.read_excel(xlsx_profit, sheet_names2[0])"
   ]
  },
  {
   "cell_type": "markdown",
   "id": "da580429-c106-497a-8077-c58a89ab7808",
   "metadata": {},
   "source": [
    "##### *Worksheet 2 \"Profitability_2021 - AK\"*"
   ]
  },
  {
   "cell_type": "code",
   "execution_count": 103,
   "id": "6ea9a17d-af09-4425-bdf2-2aa0802c20fa",
   "metadata": {},
   "outputs": [],
   "source": [
    "df_1 = pd.read_excel(xlsx_profit, sheet_names2[1])"
   ]
  },
  {
   "cell_type": "markdown",
   "id": "309fca1c-5a5f-4014-8772-ae0181e9a0e7",
   "metadata": {},
   "source": [
    "##### *Worksheet 3 \"Top Product Line\"*"
   ]
  },
  {
   "cell_type": "code",
   "execution_count": 104,
   "id": "18017251-64c0-4f74-a9ab-26654f380ebc",
   "metadata": {
    "tags": []
   },
   "outputs": [],
   "source": [
    "df_2 = pd.read_excel(xlsx_profit, sheet_names2[2])"
   ]
  },
  {
   "cell_type": "markdown",
   "id": "2928ac5a-ad05-4d72-82be-62f0c236936c",
   "metadata": {},
   "source": [
    "##### *Worksheet 4 \"Top Customer Location\"*"
   ]
  },
  {
   "cell_type": "code",
   "execution_count": 105,
   "id": "75e2f2f9-136a-4798-913f-fcda21b6b7bd",
   "metadata": {
    "tags": []
   },
   "outputs": [],
   "source": [
    "df_3 = pd.read_excel(xlsx_profit, sheet_names2[3])"
   ]
  },
  {
   "cell_type": "markdown",
   "id": "09d82c45-14b2-4138-9322-677e110fc711",
   "metadata": {
    "tags": []
   },
   "source": [
    "##### *Worksheet 5 \"Top Material\"*"
   ]
  },
  {
   "cell_type": "code",
   "execution_count": 106,
   "id": "cf9d49cf-5e07-43e3-bdd1-f0326c0c4379",
   "metadata": {
    "tags": []
   },
   "outputs": [],
   "source": [
    "df_4 = pd.read_excel(xlsx_profit, sheet_names2[4])"
   ]
  },
  {
   "cell_type": "markdown",
   "id": "e7530141-5bfc-4d44-a611-4176a5973514",
   "metadata": {
    "tags": []
   },
   "source": [
    "##### *Worksheet 6 \"Pack Type\"*"
   ]
  },
  {
   "cell_type": "code",
   "execution_count": 107,
   "id": "e4bdae5c-d300-41dc-b8a0-73c39b7aeebe",
   "metadata": {
    "tags": []
   },
   "outputs": [],
   "source": [
    "df_5 = pd.read_excel(xlsx_profit, sheet_names2[5])"
   ]
  },
  {
   "cell_type": "markdown",
   "id": "0bf58ace-216a-4cd8-b5a0-3718ae2cf1a7",
   "metadata": {
    "tags": []
   },
   "source": [
    "##### *Worksheet 7 \"Top Plant - if relevant\"*"
   ]
  },
  {
   "cell_type": "code",
   "execution_count": 108,
   "id": "cc052e23-2009-4c35-b065-4949d1749be3",
   "metadata": {
    "tags": []
   },
   "outputs": [],
   "source": [
    "df_6 = pd.read_excel(xlsx_profit, sheet_names2[6])"
   ]
  },
  {
   "cell_type": "markdown",
   "id": "df133011-5376-4ae5-978b-e8b849325291",
   "metadata": {},
   "source": [
    "### Inspect Data"
   ]
  },
  {
   "cell_type": "markdown",
   "id": "8cd81a0f-7d6a-4d08-9ad4-c40115a95157",
   "metadata": {},
   "source": [
    "##### Worksheet 1"
   ]
  },
  {
   "cell_type": "code",
   "execution_count": 109,
   "id": "edb3f451-7b2c-42c7-abd7-c96ccea15fc6",
   "metadata": {},
   "outputs": [
    {
     "name": "stdout",
     "output_type": "stream",
     "text": [
      "<class 'pandas.core.frame.DataFrame'>\n",
      "RangeIndex: 487077 entries, 0 to 487076\n",
      "Data columns (total 41 columns):\n",
      " #   Column                                        Non-Null Count   Dtype  \n",
      "---  ------                                        --------------   -----  \n",
      " 0   Source plant                                  487077 non-null  object \n",
      " 1   Product Packaging                             487077 non-null  object \n",
      " 2   Plant                                         487077 non-null  object \n",
      " 3   Transaction Type                              487077 non-null  object \n",
      " 4   Sales office customer                         487077 non-null  object \n",
      " 5   Deparment/State customer                      487077 non-null  object \n",
      " 6   Product line                                  487077 non-null  object \n",
      " 7   Material                                      487077 non-null  object \n",
      " 8   Profit Center                                 487077 non-null  object \n",
      " 9   Profit Center Zone                            486832 non-null  object \n",
      " 10  Ship to                                       487077 non-null  object \n",
      " 11  City ship to                                  487077 non-null  object \n",
      " 12  Shipping Conditions                           487077 non-null  object \n",
      " 13  Sales office ship to                          487077 non-null  object \n",
      " 14  Fiscal year/period                            487077 non-null  object \n",
      " 15  Totals                                        487077 non-null  object \n",
      " 16  Source plant Key                              487077 non-null  object \n",
      " 17  Product Packaging Key                         487077 non-null  object \n",
      " 18  Plant Key                                     487077 non-null  object \n",
      " 19  Transaction Type Key                          487077 non-null  object \n",
      " 20  Sales office customer Key                     487077 non-null  object \n",
      " 21  Customer Key                                  487077 non-null  object \n",
      " 22  Deparment/State customer Key                  487077 non-null  object \n",
      " 23  Product line Key                              487077 non-null  object \n",
      " 24  Material Key                                  487077 non-null  object \n",
      " 25  Profit Center Key                             487077 non-null  object \n",
      " 26  Profit Center Zone Key                        487077 non-null  object \n",
      " 27  Ship to Key                                   487077 non-null  object \n",
      " 28  City ship to Key                              487077 non-null  object \n",
      " 29  Shipping Conditions Key                       487077 non-null  object \n",
      " 30  Sales office ship to Key                      487077 non-null  object \n",
      " 31  Fiscal year/period Key                        487077 non-null  object \n",
      " 32  Actual accumulated closing month Company Cur  487077 non-null  float64\n",
      " 33  Deparment/State ship to                       487077 non-null  object \n",
      " 34  Presentation pack                             487077 non-null  object \n",
      " 35  Product type                                  487077 non-null  object \n",
      " 36  Incoterms                                     487077 non-null  object \n",
      " 37  Deparment/State ship to Key                   487077 non-null  object \n",
      " 38  Presentation pack Key                         484157 non-null  object \n",
      " 39  Product type Key                              487077 non-null  object \n",
      " 40  Incoterms Key                                 487077 non-null  object \n",
      "dtypes: float64(1), object(40)\n",
      "memory usage: 152.4+ MB\n"
     ]
    }
   ],
   "source": [
    "df_.info()"
   ]
  },
  {
   "cell_type": "code",
   "execution_count": 110,
   "id": "f43827d9-40a3-4fac-848a-d3c021f91d9f",
   "metadata": {},
   "outputs": [
    {
     "data": {
      "text/html": [
       "<div>\n",
       "<style scoped>\n",
       "    .dataframe tbody tr th:only-of-type {\n",
       "        vertical-align: middle;\n",
       "    }\n",
       "\n",
       "    .dataframe tbody tr th {\n",
       "        vertical-align: top;\n",
       "    }\n",
       "\n",
       "    .dataframe thead th {\n",
       "        text-align: right;\n",
       "    }\n",
       "</style>\n",
       "<table border=\"1\" class=\"dataframe\">\n",
       "  <thead>\n",
       "    <tr style=\"text-align: right;\">\n",
       "      <th></th>\n",
       "      <th>Actual accumulated closing month Company Cur</th>\n",
       "    </tr>\n",
       "  </thead>\n",
       "  <tbody>\n",
       "    <tr>\n",
       "      <th>count</th>\n",
       "      <td>4.870770e+05</td>\n",
       "    </tr>\n",
       "    <tr>\n",
       "      <th>mean</th>\n",
       "      <td>3.442769e+03</td>\n",
       "    </tr>\n",
       "    <tr>\n",
       "      <th>std</th>\n",
       "      <td>2.264646e+04</td>\n",
       "    </tr>\n",
       "    <tr>\n",
       "      <th>min</th>\n",
       "      <td>-5.357440e+05</td>\n",
       "    </tr>\n",
       "    <tr>\n",
       "      <th>25%</th>\n",
       "      <td>1.132000e+00</td>\n",
       "    </tr>\n",
       "    <tr>\n",
       "      <th>50%</th>\n",
       "      <td>3.306900e+01</td>\n",
       "    </tr>\n",
       "    <tr>\n",
       "      <th>75%</th>\n",
       "      <td>1.510140e+02</td>\n",
       "    </tr>\n",
       "    <tr>\n",
       "      <th>max</th>\n",
       "      <td>1.555891e+06</td>\n",
       "    </tr>\n",
       "  </tbody>\n",
       "</table>\n",
       "</div>"
      ],
      "text/plain": [
       "       Actual accumulated closing month Company Cur\n",
       "count                                  4.870770e+05\n",
       "mean                                   3.442769e+03\n",
       "std                                    2.264646e+04\n",
       "min                                   -5.357440e+05\n",
       "25%                                    1.132000e+00\n",
       "50%                                    3.306900e+01\n",
       "75%                                    1.510140e+02\n",
       "max                                    1.555891e+06"
      ]
     },
     "execution_count": 110,
     "metadata": {},
     "output_type": "execute_result"
    }
   ],
   "source": [
    "df_.describe()"
   ]
  },
  {
   "cell_type": "code",
   "execution_count": 111,
   "id": "54c7a43d-1420-45dc-982d-556ec5ff4a21",
   "metadata": {},
   "outputs": [
    {
     "data": {
      "text/html": [
       "<div>\n",
       "<style scoped>\n",
       "    .dataframe tbody tr th:only-of-type {\n",
       "        vertical-align: middle;\n",
       "    }\n",
       "\n",
       "    .dataframe tbody tr th {\n",
       "        vertical-align: top;\n",
       "    }\n",
       "\n",
       "    .dataframe thead th {\n",
       "        text-align: right;\n",
       "    }\n",
       "</style>\n",
       "<table border=\"1\" class=\"dataframe\">\n",
       "  <thead>\n",
       "    <tr style=\"text-align: right;\">\n",
       "      <th></th>\n",
       "      <th>Source plant</th>\n",
       "      <th>Product Packaging</th>\n",
       "      <th>Plant</th>\n",
       "      <th>Transaction Type</th>\n",
       "      <th>Sales office customer</th>\n",
       "      <th>Deparment/State customer</th>\n",
       "      <th>Product line</th>\n",
       "      <th>Material</th>\n",
       "      <th>Profit Center</th>\n",
       "      <th>Profit Center Zone</th>\n",
       "      <th>...</th>\n",
       "      <th>Fiscal year/period Key</th>\n",
       "      <th>Actual accumulated closing month Company Cur</th>\n",
       "      <th>Deparment/State ship to</th>\n",
       "      <th>Presentation pack</th>\n",
       "      <th>Product type</th>\n",
       "      <th>Incoterms</th>\n",
       "      <th>Deparment/State ship to Key</th>\n",
       "      <th>Presentation pack Key</th>\n",
       "      <th>Product type Key</th>\n",
       "      <th>Incoterms Key</th>\n",
       "    </tr>\n",
       "  </thead>\n",
       "  <tbody>\n",
       "    <tr>\n",
       "      <th>0</th>\n",
       "      <td>HARLEYVILLE PLANT</td>\n",
       "      <td>BULK</td>\n",
       "      <td>HARLEYVILLE PLANT</td>\n",
       "      <td>F</td>\n",
       "      <td>Wholesales North</td>\n",
       "      <td>Virginia</td>\n",
       "      <td>GREY CEMENT</td>\n",
       "      <td>TYPE I GRAY BULK</td>\n",
       "      <td>Harleyville Plant cement</td>\n",
       "      <td>ZONE CAROLINAS (US</td>\n",
       "      <td>...</td>\n",
       "      <td>2021-12-01T00:00:00.000Z</td>\n",
       "      <td>29.332</td>\n",
       "      <td>South Carolina</td>\n",
       "      <td>Bulk</td>\n",
       "      <td>Type I/II</td>\n",
       "      <td>PICKUP</td>\n",
       "      <td>USSC</td>\n",
       "      <td>46</td>\n",
       "      <td>52</td>\n",
       "      <td>PIK</td>\n",
       "    </tr>\n",
       "    <tr>\n",
       "      <th>1</th>\n",
       "      <td>ROBERTA PLANT</td>\n",
       "      <td>BAGS</td>\n",
       "      <td>ROBERTA PLANT</td>\n",
       "      <td>F</td>\n",
       "      <td>Deep South</td>\n",
       "      <td>Georgia</td>\n",
       "      <td>GREY CEMENT</td>\n",
       "      <td>TYPE I GRAY 94LB</td>\n",
       "      <td>Roberta Plant cement</td>\n",
       "      <td>ZONE DEEP SOUTH (U</td>\n",
       "      <td>...</td>\n",
       "      <td>2021-12-01T00:00:00.000Z</td>\n",
       "      <td>0.000</td>\n",
       "      <td>Georgia</td>\n",
       "      <td>94 lbs</td>\n",
       "      <td>Type I/II</td>\n",
       "      <td>DELIVERY</td>\n",
       "      <td>USGA</td>\n",
       "      <td>44</td>\n",
       "      <td>52</td>\n",
       "      <td>DEL</td>\n",
       "    </tr>\n",
       "    <tr>\n",
       "      <th>2</th>\n",
       "      <td>ROBERTA PLANT</td>\n",
       "      <td>BULK</td>\n",
       "      <td>DC FP STATESVILLE</td>\n",
       "      <td>F</td>\n",
       "      <td>Carolinas</td>\n",
       "      <td>North Carolina</td>\n",
       "      <td>GREY CEMENT</td>\n",
       "      <td>TYPE I GRAY BULK</td>\n",
       "      <td>DC FP Statesville</td>\n",
       "      <td>ZONE CAROLINAS (US</td>\n",
       "      <td>...</td>\n",
       "      <td>2021-12-01T00:00:00.000Z</td>\n",
       "      <td>27.671</td>\n",
       "      <td>North Carolina</td>\n",
       "      <td>Bulk</td>\n",
       "      <td>Type I/II</td>\n",
       "      <td>DELIVERY</td>\n",
       "      <td>USNC</td>\n",
       "      <td>46</td>\n",
       "      <td>52</td>\n",
       "      <td>DEL</td>\n",
       "    </tr>\n",
       "    <tr>\n",
       "      <th>3</th>\n",
       "      <td>ROBERTA PLANT</td>\n",
       "      <td>BULK</td>\n",
       "      <td>ROBERTA PLANT</td>\n",
       "      <td>F</td>\n",
       "      <td>Wholesales South</td>\n",
       "      <td>Alabama</td>\n",
       "      <td>GREY CEMENT</td>\n",
       "      <td>TYPE I GRAY BULK</td>\n",
       "      <td>Roberta Plant cement</td>\n",
       "      <td>ZONE DEEP SOUTH (U</td>\n",
       "      <td>...</td>\n",
       "      <td>2021-12-01T00:00:00.000Z</td>\n",
       "      <td>22.716</td>\n",
       "      <td>Alabama</td>\n",
       "      <td>Bulk</td>\n",
       "      <td>Type I/II</td>\n",
       "      <td>PICKUP</td>\n",
       "      <td>USAL</td>\n",
       "      <td>46</td>\n",
       "      <td>52</td>\n",
       "      <td>PIK</td>\n",
       "    </tr>\n",
       "    <tr>\n",
       "      <th>4</th>\n",
       "      <td>NEWBERRY PLANT</td>\n",
       "      <td>BULK</td>\n",
       "      <td>NEWBERRY PLANT</td>\n",
       "      <td>F</td>\n",
       "      <td>Florida</td>\n",
       "      <td>Florida</td>\n",
       "      <td>GREY CEMENT</td>\n",
       "      <td>EcoStrong PLC - TYPE IL GRAY BULK</td>\n",
       "      <td>Plant Newberry Cement</td>\n",
       "      <td>ZONE DEEP SOUTH (U</td>\n",
       "      <td>...</td>\n",
       "      <td>2021-12-01T00:00:00.000Z</td>\n",
       "      <td>33.224</td>\n",
       "      <td>Florida</td>\n",
       "      <td>Bulk</td>\n",
       "      <td>TYPE IL</td>\n",
       "      <td>DELIVERY</td>\n",
       "      <td>USFL</td>\n",
       "      <td>46</td>\n",
       "      <td>93</td>\n",
       "      <td>DEL</td>\n",
       "    </tr>\n",
       "  </tbody>\n",
       "</table>\n",
       "<p>5 rows × 41 columns</p>\n",
       "</div>"
      ],
      "text/plain": [
       "        Source plant Product Packaging              Plant Transaction Type  \\\n",
       "0  HARLEYVILLE PLANT              BULK  HARLEYVILLE PLANT                F   \n",
       "1      ROBERTA PLANT              BAGS      ROBERTA PLANT                F   \n",
       "2      ROBERTA PLANT              BULK  DC FP STATESVILLE                F   \n",
       "3      ROBERTA PLANT              BULK      ROBERTA PLANT                F   \n",
       "4     NEWBERRY PLANT              BULK     NEWBERRY PLANT                F   \n",
       "\n",
       "  Sales office customer Deparment/State customer Product line  \\\n",
       "0      Wholesales North                 Virginia  GREY CEMENT   \n",
       "1            Deep South                  Georgia  GREY CEMENT   \n",
       "2             Carolinas           North Carolina  GREY CEMENT   \n",
       "3      Wholesales South                  Alabama  GREY CEMENT   \n",
       "4               Florida                  Florida  GREY CEMENT   \n",
       "\n",
       "                            Material             Profit Center  \\\n",
       "0                   TYPE I GRAY BULK  Harleyville Plant cement   \n",
       "1                   TYPE I GRAY 94LB      Roberta Plant cement   \n",
       "2                   TYPE I GRAY BULK         DC FP Statesville   \n",
       "3                   TYPE I GRAY BULK      Roberta Plant cement   \n",
       "4  EcoStrong PLC - TYPE IL GRAY BULK     Plant Newberry Cement   \n",
       "\n",
       "   Profit Center Zone  ...    Fiscal year/period Key  \\\n",
       "0  ZONE CAROLINAS (US  ...  2021-12-01T00:00:00.000Z   \n",
       "1  ZONE DEEP SOUTH (U  ...  2021-12-01T00:00:00.000Z   \n",
       "2  ZONE CAROLINAS (US  ...  2021-12-01T00:00:00.000Z   \n",
       "3  ZONE DEEP SOUTH (U  ...  2021-12-01T00:00:00.000Z   \n",
       "4  ZONE DEEP SOUTH (U  ...  2021-12-01T00:00:00.000Z   \n",
       "\n",
       "  Actual accumulated closing month Company Cur Deparment/State ship to  \\\n",
       "0                                       29.332          South Carolina   \n",
       "1                                        0.000                 Georgia   \n",
       "2                                       27.671          North Carolina   \n",
       "3                                       22.716                 Alabama   \n",
       "4                                       33.224                 Florida   \n",
       "\n",
       "  Presentation pack Product type Incoterms Deparment/State ship to Key  \\\n",
       "0              Bulk    Type I/II    PICKUP                        USSC   \n",
       "1            94 lbs    Type I/II  DELIVERY                        USGA   \n",
       "2              Bulk    Type I/II  DELIVERY                        USNC   \n",
       "3              Bulk    Type I/II    PICKUP                        USAL   \n",
       "4              Bulk      TYPE IL  DELIVERY                        USFL   \n",
       "\n",
       "  Presentation pack Key Product type Key Incoterms Key  \n",
       "0                    46               52           PIK  \n",
       "1                    44               52           DEL  \n",
       "2                    46               52           DEL  \n",
       "3                    46               52           PIK  \n",
       "4                    46               93           DEL  \n",
       "\n",
       "[5 rows x 41 columns]"
      ]
     },
     "execution_count": 111,
     "metadata": {},
     "output_type": "execute_result"
    }
   ],
   "source": [
    "df_.head()"
   ]
  },
  {
   "cell_type": "code",
   "execution_count": 113,
   "id": "7634f8e0-fbea-4867-9787-f695861ecb85",
   "metadata": {},
   "outputs": [
    {
     "data": {
      "text/plain": [
       "ATLANTA PLANT           82710\n",
       "HARLEYVILLE PLANT       62956\n",
       "ROBERTA PLANT           54925\n",
       "NEWBERRY PLANT          50582\n",
       "MARTINSBURG PLANT       47499\n",
       "TAMPA GRINDING PLANT    39935\n",
       "Name: Plant, dtype: int64"
      ]
     },
     "execution_count": 113,
     "metadata": {},
     "output_type": "execute_result"
    }
   ],
   "source": [
    "df_[\"Plant\"].value_counts().head(6)"
   ]
  },
  {
   "cell_type": "markdown",
   "id": "82d7a3ad-11ad-442c-9c69-66830f5cb19f",
   "metadata": {},
   "source": [
    "#### Count missing values in each column"
   ]
  },
  {
   "cell_type": "code",
   "execution_count": null,
   "id": "4ee731e8-a039-4fff-8fd9-65aad6c9dc87",
   "metadata": {},
   "outputs": [],
   "source": [
    "#column_names = list(df.columns)\n",
    "#for column in range(0,len(column_names)):\n",
    "#    print(df[column_names[column]].isna().value_counts())"
   ]
  },
  {
   "cell_type": "code",
   "execution_count": 114,
   "id": "08efe173-f663-4d34-ad1c-4aa44ab5e5d0",
   "metadata": {},
   "outputs": [
    {
     "data": {
      "text/plain": [
       "{'Source plant': 0,\n",
       " 'Product Packaging': 0,\n",
       " 'Plant': 0,\n",
       " 'Transaction Type': 0,\n",
       " 'Sales office customer': 0,\n",
       " 'Deparment/State customer': 0,\n",
       " 'Product line': 0,\n",
       " 'Material': 0,\n",
       " 'Profit Center': 0,\n",
       " 'Profit Center Zone': 245,\n",
       " 'Ship to': 0,\n",
       " 'City ship to': 0,\n",
       " 'Shipping Conditions': 0,\n",
       " 'Sales office ship to': 0,\n",
       " 'Fiscal year/period': 0,\n",
       " 'Totals': 0,\n",
       " 'Source plant Key': 0,\n",
       " 'Product Packaging Key': 0,\n",
       " 'Plant Key': 0,\n",
       " 'Transaction Type Key': 0,\n",
       " 'Sales office customer Key': 0,\n",
       " 'Customer Key': 0,\n",
       " 'Deparment/State customer Key': 0,\n",
       " 'Product line Key': 0,\n",
       " 'Material Key': 0,\n",
       " 'Profit Center Key': 0,\n",
       " 'Profit Center Zone Key': 0,\n",
       " 'Ship to Key': 0,\n",
       " 'City ship to Key': 0,\n",
       " 'Shipping Conditions Key': 0,\n",
       " 'Sales office ship to Key': 0,\n",
       " 'Fiscal year/period Key': 0,\n",
       " 'Actual accumulated closing month Company Cur': 0,\n",
       " 'Deparment/State ship to': 0,\n",
       " 'Presentation pack': 0,\n",
       " 'Product type': 0,\n",
       " 'Incoterms': 0,\n",
       " 'Deparment/State ship to Key': 0,\n",
       " 'Presentation pack Key': 2920,\n",
       " 'Product type Key': 0,\n",
       " 'Incoterms Key': 0}"
      ]
     },
     "execution_count": 114,
     "metadata": {},
     "output_type": "execute_result"
    }
   ],
   "source": [
    "df_.isna().sum().to_dict()"
   ]
  },
  {
   "cell_type": "markdown",
   "id": "955e1463-953a-4245-abd7-1632a001f653",
   "metadata": {},
   "source": [
    "##### Worksheet 2"
   ]
  },
  {
   "cell_type": "code",
   "execution_count": 115,
   "id": "d0f64041-bd3c-45b8-aabb-5ad45f95c2ce",
   "metadata": {},
   "outputs": [
    {
     "name": "stdout",
     "output_type": "stream",
     "text": [
      "<class 'pandas.core.frame.DataFrame'>\n",
      "RangeIndex: 487077 entries, 0 to 487076\n",
      "Data columns (total 41 columns):\n",
      " #   Column                                        Non-Null Count   Dtype  \n",
      "---  ------                                        --------------   -----  \n",
      " 0   Source plant                                  487077 non-null  object \n",
      " 1   Product Packaging                             487077 non-null  object \n",
      " 2   Plant                                         487077 non-null  object \n",
      " 3   Transaction Type                              487077 non-null  object \n",
      " 4   Sales office customer                         487077 non-null  object \n",
      " 5   Deparment/State customer                      487077 non-null  object \n",
      " 6   Product line                                  487077 non-null  object \n",
      " 7   Material                                      487077 non-null  object \n",
      " 8   Profit Center                                 487077 non-null  object \n",
      " 9   Profit Center Zone                            486832 non-null  object \n",
      " 10  Ship to                                       487077 non-null  object \n",
      " 11  City ship to                                  487077 non-null  object \n",
      " 12  Shipping Conditions                           487077 non-null  object \n",
      " 13  Sales office ship to                          487077 non-null  object \n",
      " 14  Fiscal year/period                            487077 non-null  object \n",
      " 15  Totals                                        487077 non-null  object \n",
      " 16  Source plant Key                              487077 non-null  object \n",
      " 17  Product Packaging Key                         487077 non-null  object \n",
      " 18  Plant Key                                     487077 non-null  object \n",
      " 19  Transaction Type Key                          487077 non-null  object \n",
      " 20  Sales office customer Key                     487077 non-null  object \n",
      " 21  Customer Key                                  487077 non-null  object \n",
      " 22  Deparment/State customer Key                  487077 non-null  object \n",
      " 23  Product line Key                              487077 non-null  object \n",
      " 24  Material Key                                  487077 non-null  object \n",
      " 25  Profit Center Key                             487077 non-null  object \n",
      " 26  Profit Center Zone Key                        487077 non-null  object \n",
      " 27  Ship to Key                                   487077 non-null  object \n",
      " 28  City ship to Key                              487077 non-null  object \n",
      " 29  Shipping Conditions Key                       487077 non-null  object \n",
      " 30  Sales office ship to Key                      487077 non-null  object \n",
      " 31  Fiscal year/period Key                        487077 non-null  object \n",
      " 32  Actual accumulated closing month Company Cur  487077 non-null  float64\n",
      " 33  Deparment/State ship to                       487077 non-null  object \n",
      " 34  Presentation pack                             487077 non-null  object \n",
      " 35  Product type                                  487077 non-null  object \n",
      " 36  Incoterms                                     487077 non-null  object \n",
      " 37  Deparment/State ship to Key                   487077 non-null  object \n",
      " 38  Presentation pack Key                         484157 non-null  object \n",
      " 39  Product type Key                              487077 non-null  object \n",
      " 40  Incoterms Key                                 487077 non-null  object \n",
      "dtypes: float64(1), object(40)\n",
      "memory usage: 152.4+ MB\n"
     ]
    }
   ],
   "source": [
    "df_1.info()"
   ]
  },
  {
   "cell_type": "code",
   "execution_count": 116,
   "id": "b5bf4f1c-ba15-4335-a26b-dc2c03e0860f",
   "metadata": {
    "tags": []
   },
   "outputs": [
    {
     "data": {
      "text/html": [
       "<div>\n",
       "<style scoped>\n",
       "    .dataframe tbody tr th:only-of-type {\n",
       "        vertical-align: middle;\n",
       "    }\n",
       "\n",
       "    .dataframe tbody tr th {\n",
       "        vertical-align: top;\n",
       "    }\n",
       "\n",
       "    .dataframe thead th {\n",
       "        text-align: right;\n",
       "    }\n",
       "</style>\n",
       "<table border=\"1\" class=\"dataframe\">\n",
       "  <thead>\n",
       "    <tr style=\"text-align: right;\">\n",
       "      <th></th>\n",
       "      <th>Actual accumulated closing month Company Cur</th>\n",
       "    </tr>\n",
       "  </thead>\n",
       "  <tbody>\n",
       "    <tr>\n",
       "      <th>count</th>\n",
       "      <td>4.870770e+05</td>\n",
       "    </tr>\n",
       "    <tr>\n",
       "      <th>mean</th>\n",
       "      <td>3.442769e+03</td>\n",
       "    </tr>\n",
       "    <tr>\n",
       "      <th>std</th>\n",
       "      <td>2.264646e+04</td>\n",
       "    </tr>\n",
       "    <tr>\n",
       "      <th>min</th>\n",
       "      <td>-5.357440e+05</td>\n",
       "    </tr>\n",
       "    <tr>\n",
       "      <th>25%</th>\n",
       "      <td>1.132000e+00</td>\n",
       "    </tr>\n",
       "    <tr>\n",
       "      <th>50%</th>\n",
       "      <td>3.306900e+01</td>\n",
       "    </tr>\n",
       "    <tr>\n",
       "      <th>75%</th>\n",
       "      <td>1.510140e+02</td>\n",
       "    </tr>\n",
       "    <tr>\n",
       "      <th>max</th>\n",
       "      <td>1.555891e+06</td>\n",
       "    </tr>\n",
       "  </tbody>\n",
       "</table>\n",
       "</div>"
      ],
      "text/plain": [
       "       Actual accumulated closing month Company Cur\n",
       "count                                  4.870770e+05\n",
       "mean                                   3.442769e+03\n",
       "std                                    2.264646e+04\n",
       "min                                   -5.357440e+05\n",
       "25%                                    1.132000e+00\n",
       "50%                                    3.306900e+01\n",
       "75%                                    1.510140e+02\n",
       "max                                    1.555891e+06"
      ]
     },
     "execution_count": 116,
     "metadata": {},
     "output_type": "execute_result"
    }
   ],
   "source": [
    "df_1.describe()"
   ]
  },
  {
   "cell_type": "code",
   "execution_count": 117,
   "id": "1f7b6425-6296-4a2f-8125-7ebb562321c8",
   "metadata": {},
   "outputs": [
    {
     "data": {
      "text/plain": [
       "{'Source plant': 0,\n",
       " 'Product Packaging': 0,\n",
       " 'Plant': 0,\n",
       " 'Transaction Type': 0,\n",
       " 'Sales office customer': 0,\n",
       " 'Deparment/State customer': 0,\n",
       " 'Product line': 0,\n",
       " 'Material': 0,\n",
       " 'Profit Center': 0,\n",
       " 'Profit Center Zone': 245,\n",
       " 'Ship to': 0,\n",
       " 'City ship to': 0,\n",
       " 'Shipping Conditions': 0,\n",
       " 'Sales office ship to': 0,\n",
       " 'Fiscal year/period': 0,\n",
       " 'Totals': 0,\n",
       " 'Source plant Key': 0,\n",
       " 'Product Packaging Key': 0,\n",
       " 'Plant Key': 0,\n",
       " 'Transaction Type Key': 0,\n",
       " 'Sales office customer Key': 0,\n",
       " 'Customer Key': 0,\n",
       " 'Deparment/State customer Key': 0,\n",
       " 'Product line Key': 0,\n",
       " 'Material Key': 0,\n",
       " 'Profit Center Key': 0,\n",
       " 'Profit Center Zone Key': 0,\n",
       " 'Ship to Key': 0,\n",
       " 'City ship to Key': 0,\n",
       " 'Shipping Conditions Key': 0,\n",
       " 'Sales office ship to Key': 0,\n",
       " 'Fiscal year/period Key': 0,\n",
       " 'Actual accumulated closing month Company Cur': 0,\n",
       " 'Deparment/State ship to': 0,\n",
       " 'Presentation pack': 0,\n",
       " 'Product type': 0,\n",
       " 'Incoterms': 0,\n",
       " 'Deparment/State ship to Key': 0,\n",
       " 'Presentation pack Key': 2920,\n",
       " 'Product type Key': 0,\n",
       " 'Incoterms Key': 0}"
      ]
     },
     "execution_count": 117,
     "metadata": {},
     "output_type": "execute_result"
    }
   ],
   "source": [
    "df_1.isna().sum().to_dict()"
   ]
  },
  {
   "cell_type": "markdown",
   "id": "6e6a59bd-13d1-4c7c-b904-cc564f43a18c",
   "metadata": {},
   "source": [
    "##### It looks like worksheet 1 & 2 are the exact same"
   ]
  },
  {
   "cell_type": "markdown",
   "id": "71770f53-920b-42c7-a3e5-e333305a6894",
   "metadata": {},
   "source": [
    "##### Worksheet 3"
   ]
  },
  {
   "cell_type": "code",
   "execution_count": 118,
   "id": "0655dca7-60e1-4a39-9ae1-459b5f71d557",
   "metadata": {},
   "outputs": [
    {
     "data": {
      "text/html": [
       "<div>\n",
       "<style scoped>\n",
       "    .dataframe tbody tr th:only-of-type {\n",
       "        vertical-align: middle;\n",
       "    }\n",
       "\n",
       "    .dataframe tbody tr th {\n",
       "        vertical-align: top;\n",
       "    }\n",
       "\n",
       "    .dataframe thead th {\n",
       "        text-align: right;\n",
       "    }\n",
       "</style>\n",
       "<table border=\"1\" class=\"dataframe\">\n",
       "  <thead>\n",
       "    <tr style=\"text-align: right;\">\n",
       "      <th></th>\n",
       "      <th>Row Labels</th>\n",
       "      <th>Count of Product line</th>\n",
       "      <th>Unnamed: 2</th>\n",
       "    </tr>\n",
       "  </thead>\n",
       "  <tbody>\n",
       "    <tr>\n",
       "      <th>0</th>\n",
       "      <td>GREY CEMENT</td>\n",
       "      <td>244858</td>\n",
       "      <td>*Top drivers</td>\n",
       "    </tr>\n",
       "    <tr>\n",
       "      <th>1</th>\n",
       "      <td>MASONRY CEMENT</td>\n",
       "      <td>210867</td>\n",
       "      <td>NaN</td>\n",
       "    </tr>\n",
       "    <tr>\n",
       "      <th>2</th>\n",
       "      <td>Slag Cement</td>\n",
       "      <td>16390</td>\n",
       "      <td>NaN</td>\n",
       "    </tr>\n",
       "    <tr>\n",
       "      <th>3</th>\n",
       "      <td>WHITE CEMENT</td>\n",
       "      <td>6976</td>\n",
       "      <td>NaN</td>\n",
       "    </tr>\n",
       "    <tr>\n",
       "      <th>4</th>\n",
       "      <td>RAW MATERIALS (CEMENT)</td>\n",
       "      <td>3051</td>\n",
       "      <td>NaN</td>\n",
       "    </tr>\n",
       "  </tbody>\n",
       "</table>\n",
       "</div>"
      ],
      "text/plain": [
       "               Row Labels  Count of Product line    Unnamed: 2\n",
       "0             GREY CEMENT                 244858  *Top drivers\n",
       "1          MASONRY CEMENT                 210867           NaN\n",
       "2             Slag Cement                  16390           NaN\n",
       "3            WHITE CEMENT                   6976           NaN\n",
       "4  RAW MATERIALS (CEMENT)                   3051           NaN"
      ]
     },
     "execution_count": 118,
     "metadata": {},
     "output_type": "execute_result"
    }
   ],
   "source": [
    "df_2.head()"
   ]
  },
  {
   "cell_type": "markdown",
   "id": "ec043a29-fc07-422c-90fb-8d87a6a73d5a",
   "metadata": {},
   "source": [
    "##### Worksheet 4"
   ]
  },
  {
   "cell_type": "code",
   "execution_count": 119,
   "id": "ed96e40a-0046-4da2-9647-eb54bac47699",
   "metadata": {},
   "outputs": [
    {
     "data": {
      "text/html": [
       "<div>\n",
       "<style scoped>\n",
       "    .dataframe tbody tr th:only-of-type {\n",
       "        vertical-align: middle;\n",
       "    }\n",
       "\n",
       "    .dataframe tbody tr th {\n",
       "        vertical-align: top;\n",
       "    }\n",
       "\n",
       "    .dataframe thead th {\n",
       "        text-align: right;\n",
       "    }\n",
       "</style>\n",
       "<table border=\"1\" class=\"dataframe\">\n",
       "  <thead>\n",
       "    <tr style=\"text-align: right;\">\n",
       "      <th></th>\n",
       "      <th>Row Labels</th>\n",
       "      <th>Count of Deparment/State customer</th>\n",
       "    </tr>\n",
       "  </thead>\n",
       "  <tbody>\n",
       "    <tr>\n",
       "      <th>0</th>\n",
       "      <td>Florida</td>\n",
       "      <td>79125</td>\n",
       "    </tr>\n",
       "    <tr>\n",
       "      <th>1</th>\n",
       "      <td>Georgia</td>\n",
       "      <td>73247</td>\n",
       "    </tr>\n",
       "    <tr>\n",
       "      <th>2</th>\n",
       "      <td>North Carolina</td>\n",
       "      <td>68617</td>\n",
       "    </tr>\n",
       "    <tr>\n",
       "      <th>3</th>\n",
       "      <td>Maryland</td>\n",
       "      <td>33521</td>\n",
       "    </tr>\n",
       "    <tr>\n",
       "      <th>4</th>\n",
       "      <td>Texas</td>\n",
       "      <td>31384</td>\n",
       "    </tr>\n",
       "    <tr>\n",
       "      <th>5</th>\n",
       "      <td>South Carolina</td>\n",
       "      <td>29821</td>\n",
       "    </tr>\n",
       "    <tr>\n",
       "      <th>6</th>\n",
       "      <td>Tennessee</td>\n",
       "      <td>29782</td>\n",
       "    </tr>\n",
       "    <tr>\n",
       "      <th>7</th>\n",
       "      <td>Alabama</td>\n",
       "      <td>26276</td>\n",
       "    </tr>\n",
       "    <tr>\n",
       "      <th>8</th>\n",
       "      <td>Virginia</td>\n",
       "      <td>22773</td>\n",
       "    </tr>\n",
       "    <tr>\n",
       "      <th>9</th>\n",
       "      <td>Pennsylvania</td>\n",
       "      <td>20521</td>\n",
       "    </tr>\n",
       "  </tbody>\n",
       "</table>\n",
       "</div>"
      ],
      "text/plain": [
       "       Row Labels  Count of Deparment/State customer\n",
       "0         Florida                              79125\n",
       "1         Georgia                              73247\n",
       "2  North Carolina                              68617\n",
       "3        Maryland                              33521\n",
       "4           Texas                              31384\n",
       "5  South Carolina                              29821\n",
       "6       Tennessee                              29782\n",
       "7         Alabama                              26276\n",
       "8        Virginia                              22773\n",
       "9    Pennsylvania                              20521"
      ]
     },
     "execution_count": 119,
     "metadata": {},
     "output_type": "execute_result"
    }
   ],
   "source": [
    "df_3.head(10)"
   ]
  },
  {
   "cell_type": "markdown",
   "id": "6a71189c-b260-47a2-a889-9a5bd101caa4",
   "metadata": {},
   "source": [
    "##### Worksheet 5"
   ]
  },
  {
   "cell_type": "code",
   "execution_count": 120,
   "id": "28cb80e2-7868-4bb3-8792-6bca2df8b6bd",
   "metadata": {},
   "outputs": [
    {
     "name": "stdout",
     "output_type": "stream",
     "text": [
      "                            Row Labels  Count of Material\n",
      "0                  TYPE I/II GRAY BULK              82481\n",
      "1                     TYPE I GRAY BULK              77089\n",
      "2    EcoStrong PLC - TYPE IL GRAY BULK              17739\n",
      "3                  TYPE I/II GRAY 94LB              17479\n",
      "4              MASONRY S MAGNOLIA 75LB              15444\n",
      "..                                 ...                ...\n",
      "246                       SHALE /MINED                  3\n",
      "247                BLACK SHALE CRUSHED                  3\n",
      "248                        BLACK SHALE                  3\n",
      "249              TYPE 1S(85) GRAY BULK                  2\n",
      "250                        Grand Total             487077\n",
      "\n",
      "[251 rows x 2 columns]\n"
     ]
    }
   ],
   "source": [
    "print(df_4)"
   ]
  },
  {
   "cell_type": "markdown",
   "id": "09239b59-2703-42c6-b037-bc5bb90ca535",
   "metadata": {},
   "source": [
    "##### Worksheet 6"
   ]
  },
  {
   "cell_type": "code",
   "execution_count": 121,
   "id": "f421c289-8a24-41d0-83e3-a8ec21c65902",
   "metadata": {},
   "outputs": [
    {
     "name": "stdout",
     "output_type": "stream",
     "text": [
      "       Row Labels  Count of Presentation pack\n",
      "0            Bulk                      232641\n",
      "1          70 lbs                      111504\n",
      "2          75 lbs                       72856\n",
      "3          94 lbs                       34136\n",
      "4          80 lbs                       19048\n",
      "5    Not assigned                        7731\n",
      "6      BP MASONRY                        5536\n",
      "7       No Aplica                        2920\n",
      "8          50 lbs                         488\n",
      "9   Big Bag 1.0 T                         137\n",
      "10  BIG BAG 1,5 t                          72\n",
      "11          40 KG                           8\n",
      "12    Grand Total                      487077\n"
     ]
    }
   ],
   "source": [
    "print(df_5)"
   ]
  },
  {
   "cell_type": "markdown",
   "id": "b923039d-5694-4bec-bfa9-972f4cfcdcb5",
   "metadata": {},
   "source": [
    "##### Worksheet 7"
   ]
  },
  {
   "cell_type": "code",
   "execution_count": 122,
   "id": "e99c768b-aa9e-4a9f-ac88-81dca0f8b0da",
   "metadata": {},
   "outputs": [
    {
     "name": "stdout",
     "output_type": "stream",
     "text": [
      "                        Row Labels  Count of Source plant  \\\n",
      "0                    ATLANTA PLANT                 117477   \n",
      "1                MARTINSBURG PLANT                  86373   \n",
      "2                    ROBERTA PLANT                  85528   \n",
      "3                   NEWBERRY PLANT                  74626   \n",
      "4                HARLEYVILLE PLANT                  53773   \n",
      "5             TAMPA GRINDING PLANT                  26263   \n",
      "6                     Not assigned                  23006   \n",
      "7                  DC FP LEETSDALE                   4829   \n",
      "8                  DC FP FREDERICK                   3140   \n",
      "9                 DC FP CHESAPEAKE                   1693   \n",
      "10                  DC FP MERIDIAN                   1094   \n",
      "11                    DC FP MOBILE                    956   \n",
      "12  MKTING & SALES HOLCIM HOLL HIL                    938   \n",
      "13                    BUZZI UNICEM                    753   \n",
      "14                DC FP WILMINGTON                    661   \n",
      "15                 HOLCIM (US) INC                    624   \n",
      "16        DC FP MASSILLON TERMINAL                    608   \n",
      "17                DC FP CURTIS BAY                    570   \n",
      "18                   DC FP HOUSTON                    534   \n",
      "19                  ROANOKE CEMENT                    478   \n",
      "20               TITAN AMERICA INC                    467   \n",
      "21                  DC FP SAVANNAH                    453   \n",
      "22                    DC FP DURHAM                    402   \n",
      "23                   DC FP CORDELE                    318   \n",
      "24                   DC FP ASHLAND                    286   \n",
      "25      DC FP CLN CHARLOTTE BONDED                    280   \n",
      "26                    DC FP NEWNAN                    276   \n",
      "27               DC FP STATESVILLE                    120   \n",
      "28              DC FP FAYETTEVILLE                    112   \n",
      "29    DC FP BATON ROUGE WHS - TT&H                    100   \n",
      "30                             200                     72   \n",
      "31            PLANTA ZFA CARTAGENA                     61   \n",
      "32             DC FP SESCO HOUSTON                     52   \n",
      "33                       CEMEX INC                     50   \n",
      "34         DC FP EASTERN KNOXVILLE                     44   \n",
      "35  MKTING & SALES SRM HOLLINGSHED                     30   \n",
      "36                DC FP GREENVILLE                     10   \n",
      "37  MKTING & SALES ARGOS LGH TAMPA                      8   \n",
      "38  DC FP KNOXVILL WHS - R&S LOGIS                      4   \n",
      "39        DC FP SAVANNAH WHSâ€“SRL                      4   \n",
      "40  DC FP MERIDIAN - D&D TRANS INC                      4   \n",
      "41                     Grand Total                 487077   \n",
      "\n",
      "                     Unnamed: 2  \n",
      "0   *Probably drive most profit  \n",
      "1                           NaN  \n",
      "2                           NaN  \n",
      "3                           NaN  \n",
      "4                           NaN  \n",
      "5                           NaN  \n",
      "6                           NaN  \n",
      "7                           NaN  \n",
      "8                           NaN  \n",
      "9                           NaN  \n",
      "10                          NaN  \n",
      "11                          NaN  \n",
      "12                          NaN  \n",
      "13                          NaN  \n",
      "14                          NaN  \n",
      "15                          NaN  \n",
      "16                          NaN  \n",
      "17                          NaN  \n",
      "18                          NaN  \n",
      "19                          NaN  \n",
      "20                          NaN  \n",
      "21                          NaN  \n",
      "22                          NaN  \n",
      "23                          NaN  \n",
      "24                          NaN  \n",
      "25                          NaN  \n",
      "26                          NaN  \n",
      "27                          NaN  \n",
      "28                          NaN  \n",
      "29                          NaN  \n",
      "30                          NaN  \n",
      "31                          NaN  \n",
      "32                          NaN  \n",
      "33                          NaN  \n",
      "34                          NaN  \n",
      "35                          NaN  \n",
      "36                          NaN  \n",
      "37                          NaN  \n",
      "38                          NaN  \n",
      "39                          NaN  \n",
      "40                          NaN  \n",
      "41                          NaN  \n"
     ]
    }
   ],
   "source": [
    "print(df_6)"
   ]
  },
  {
   "cell_type": "markdown",
   "id": "637eee06-e37f-4f48-be43-f3df707124a4",
   "metadata": {
    "tags": []
   },
   "source": [
    "### Worksheets 3-6 are simple pivot tables that can be done through count and group by functions"
   ]
  }
 ],
 "metadata": {
  "kernelspec": {
   "display_name": "Python 3 (ipykernel)",
   "language": "python",
   "name": "python3"
  },
  "language_info": {
   "codemirror_mode": {
    "name": "ipython",
    "version": 3
   },
   "file_extension": ".py",
   "mimetype": "text/x-python",
   "name": "python",
   "nbconvert_exporter": "python",
   "pygments_lexer": "ipython3",
   "version": "3.9.7"
  }
 },
 "nbformat": 4,
 "nbformat_minor": 5
}
